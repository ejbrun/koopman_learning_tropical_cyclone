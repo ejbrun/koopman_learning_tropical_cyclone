{
 "cells": [
  {
   "cell_type": "markdown",
   "metadata": {},
   "source": [
    "# Train Koopman Neural Forecaster on TCTracks data\n",
    "\n",
    "For demonstration, we nere train the Koopman Neural Forecaster for a small number of epochs on an exemplary dataset of tropical cyclone tracks."
   ]
  },
  {
   "cell_type": "code",
   "execution_count": 1,
   "metadata": {},
   "outputs": [],
   "source": [
    "import torch\n",
    "import numpy as np\n",
    "from torch.utils import data\n",
    "from climada.hazard import TCTracks\n",
    "# from matplotlib import pyplot as plt\n",
    "\n",
    "from sklearn.model_selection import train_test_split\n",
    "\n",
    "from klearn_tcyclone.knf_data_utils import TCTrackDataset\n",
    "\n",
    "from klearn_tcyclone.KNF.modules.models import Koopman\n",
    "\n",
    "from torch import nn\n",
    "\n",
    "import time\n",
    "from klearn_tcyclone.KNF.modules.train_utils import eval_epoch_koopman\n",
    "# from klearn_tcyclone.KNF.modules.train_utils import get_lr\n",
    "from klearn_tcyclone.KNF.modules.train_utils import train_epoch_koopman\n",
    "from klearn_tcyclone.KNF.modules.eval_metrics import RMSE\n",
    "\n",
    "from matplotlib import pyplot as plt"
   ]
  },
  {
   "cell_type": "markdown",
   "metadata": {},
   "source": [
    "Import example TCTracks data."
   ]
  },
  {
   "cell_type": "code",
   "execution_count": 2,
   "metadata": {},
   "outputs": [
    {
     "name": "stderr",
     "output_type": "stream",
     "text": [
      "d:\\work\\projects\\repositories\\koopman_learning_tropical_cyclone\\.venv\\lib\\site-packages\\xarray\\backends\\plugins.py:80: RuntimeWarning: Engine 'cfgrib' loading failed:\n",
      "Cannot find the ecCodes library\n",
      "  warnings.warn(f\"Engine {name!r} loading failed:\\n{ex}\", RuntimeWarning)\n"
     ]
    },
    {
     "name": "stdout",
     "output_type": "stream",
     "text": [
      "2024-09-21 11:21:54,102 - climada.hazard.tc_tracks - WARNING - The cached IBTrACS data set dates from 2023-06-07 23:07:38 (older than 180 days). Very likely, a more recent version is available. Consider manually removing the file C:\\Users\\Eric\\climada\\data\\IBTrACS.ALL.v04r00.nc and re-running this function, which will download the most recent version of the IBTrACS data set from the official URL.\n"
     ]
    },
    {
     "name": "stderr",
     "output_type": "stream",
     "text": [
      "d:\\work\\projects\\repositories\\koopman_learning_tropical_cyclone\\.venv\\lib\\site-packages\\climada\\hazard\\tc_tracks.py:614: FutureWarning: The return type of `Dataset.dims` will be changed to return a set of dimension names in future, in order to be more consistent with `DataArray.dims`. To access a mapping from dimension names to lengths, please use `Dataset.sizes`.\n",
      "  if ibtracs_ds.dims['storm'] == 0:\n"
     ]
    },
    {
     "name": "stdout",
     "output_type": "stream",
     "text": [
      "Number of tracks: 393\n"
     ]
    }
   ],
   "source": [
    "tc_tracks = TCTracks.from_ibtracs_netcdf(provider='usa', year_range=(2000, 2021), basin='NA', correct_pres=False)\n",
    "print('Number of tracks:', tc_tracks.size)"
   ]
  },
  {
   "cell_type": "markdown",
   "metadata": {},
   "source": [
    "Split TCTracks into train and test datasets."
   ]
  },
  {
   "cell_type": "code",
   "execution_count": 3,
   "metadata": {},
   "outputs": [],
   "source": [
    "tc_tracks_train, tc_tracks_test = train_test_split(tc_tracks.data, test_size=0.1)"
   ]
  },
  {
   "cell_type": "markdown",
   "metadata": {},
   "source": [
    "Set model and training parameter."
   ]
  },
  {
   "cell_type": "code",
   "execution_count": 4,
   "metadata": {},
   "outputs": [],
   "source": [
    "seed=0 \n",
    "dataset=\"Traj\" \n",
    "data_dir=\"data/PlayerTraj/\" \n",
    "num_feats=2 \n",
    "train_output_length=15 \n",
    "input_dim=3 \n",
    "input_length=21 \n",
    "hidden_dim=128 \n",
    "latent_dim=32 \n",
    "num_layers=4 \n",
    "control_num_layers=3 \n",
    "control_hidden_dim=64 \n",
    "transformer_dim=64 \n",
    "transformer_num_layers=3 \n",
    "batch_size=32\n",
    "test_output_length=30 \n",
    "num_steps=15 \n",
    "jumps=2 \n",
    "learning_rate=0.001 \n",
    "num_epochs = 5\n",
    "\n",
    "encoder_hidden_dim = hidden_dim\n",
    "decoder_hidden_dim = hidden_dim\n",
    "encoder_num_layers = num_layers\n",
    "decoder_num_layers = num_layers\n",
    "output_dim = input_dim\n",
    "# _REGULARIZE_RANK = flags.DEFINE_bool(\n",
    "#     \"regularize_rank\", False, \"Whether to regularize dynamics module rank.\")\n",
    "\n",
    "# _USE_REVIN = flags.DEFINE_bool(\"use_revin\", True,\n",
    "#                                \"Whether to use reinversible normalization.\")\n",
    "\n",
    "# _USE_INSTANCENORM = flags.DEFINE_bool(\"use_instancenorm\", True,\n",
    "#                                       \"Whether to use instance normalization.\")\n",
    "\n",
    "# _ADD_GLOBAL_OPERATOR = flags.DEFINE_bool(\n",
    "#     \"add_global_operator\", True, \"Whether to use a gloabl Koopman operator.\")\n",
    "\n",
    "# _ADD_CONTROL = flags.DEFINE_bool(\"add_control\", True,\n",
    "#                                  \"Whether to use a control module.\")\n",
    "\n",
    "# _NUM_SINS = flags.DEFINE_integer(\"num_sins\", -1, \"number of sine functions.\")\n",
    "\n",
    "# _NUM_POLY = flags.DEFINE_integer(\"num_poly\", -1, \"number of sine functions.\")\n",
    "\n",
    "# _NUM_EXP = flags.DEFINE_integer(\"num_exp\", -1, \"number of sine functions.\")\n",
    "\n",
    "# _NUM_HEADS = flags.DEFINE_integer(\"num_heads\", 1, \"Transformer number of heads\")\n",
    "\n",
    "# _DROPOUT_RATE = flags.DEFINE_float(\"dropout_rate\", 0.0, \"The dropout rate.\")\n",
    "\n",
    "# _DECAY_RATE = flags.DEFINE_float(\"decay_rate\", 0.9, \"The learning decay rate.\")\n",
    "\n",
    "# _MIN_EPOCHS = flags.DEFINE_integer(\n",
    "#     \"min_epochs\", 60, \"The minimum number of epochs the model is trained with.\")\n",
    "use_revin = True\n",
    "use_instancenorm = True\n",
    "regularize_rank = False\n",
    "add_global_operator = True\n",
    "add_control = True\n",
    "num_sins = -1\n",
    "num_poly = -1\n",
    "num_exp = -1\n",
    "num_heads = 1\n",
    "dropout_rate = 0\n",
    "decay_rate = 0.9\n",
    "min_epochs = 2\n",
    "device = torch.device(\"cuda\" if torch.cuda.is_available() else \"cpu\")"
   ]
  },
  {
   "cell_type": "markdown",
   "metadata": {},
   "source": [
    "Define evaluation metric and train, eval and test datasets."
   ]
  },
  {
   "cell_type": "code",
   "execution_count": 5,
   "metadata": {},
   "outputs": [],
   "source": [
    "eval_metric = RMSE\n",
    "feature_list = [\"lat\", \"lon\"]\n",
    "# feature_list = [\"lat\", \"lon\", \"central_pressure\"]\n",
    "dataset = TCTrackDataset\n",
    "dataset_str = \"TCTracks\"\n",
    "\n",
    "train_set = TCTrackDataset(\n",
    "    input_length=input_length,\n",
    "    output_length=train_output_length,\n",
    "    tc_tracks=tc_tracks_train,\n",
    "    feature_list=feature_list,\n",
    "    mode=\"train\",\n",
    "    jumps=jumps,\n",
    ")\n",
    "valid_set = TCTrackDataset(\n",
    "    input_length=input_length,\n",
    "    output_length=train_output_length,\n",
    "    tc_tracks=tc_tracks_train,\n",
    "    feature_list=feature_list,\n",
    "    mode=\"valid\",\n",
    "    jumps=jumps,\n",
    ")\n",
    "test_set = TCTrackDataset(\n",
    "    input_length=input_length,\n",
    "    output_length=test_output_length,\n",
    "    tc_tracks=tc_tracks_test,\n",
    "    feature_list=feature_list,\n",
    "    mode=\"test\",\n",
    "    # jumps=jumps,\n",
    ")\n",
    "\n"
   ]
  },
  {
   "cell_type": "code",
   "execution_count": 6,
   "metadata": {},
   "outputs": [],
   "source": [
    "train_loader = data.DataLoader(\n",
    "    train_set, batch_size=batch_size, shuffle=True, num_workers=1\n",
    ")\n",
    "valid_loader = data.DataLoader(\n",
    "    valid_set, batch_size=batch_size, shuffle=True, num_workers=1\n",
    ")\n",
    "test_loader = data.DataLoader(\n",
    "    test_set, batch_size=batch_size, shuffle=False, num_workers=1\n",
    "  )"
   ]
  },
  {
   "cell_type": "markdown",
   "metadata": {},
   "source": [
    "Set up model name and model for training."
   ]
  },
  {
   "cell_type": "code",
   "execution_count": 7,
   "metadata": {},
   "outputs": [
    {
     "name": "stdout",
     "output_type": "stream",
     "text": [
      "Koopman_TCTracks_seed0_jumps2_poly-1_sin-1_exp-1_bz32_lr0.001_decay0.9_dim3_inp21_pred15_num15_enchid128_dechid128_trm64_conhid64_enclys4_declys4_trmlys3_conlys3_latdim32_RevINTrue_insnormTrue_regrankFalse_globalKTrue_contKTrue\n"
     ]
    },
    {
     "name": "stderr",
     "output_type": "stream",
     "text": [
      "d:\\work\\projects\\repositories\\koopman_learning_tropical_cyclone\\.venv\\lib\\site-packages\\torch\\nn\\modules\\transformer.py:307: UserWarning: enable_nested_tensor is True, but self.use_nested_tensor is False because encoder_layer.self_attn.batch_first was not True(use batch_first for better inference performance)\n",
      "  warnings.warn(f\"enable_nested_tensor is True, but self.use_nested_tensor is False because {why_not_sparsity_fast_path}\")\n"
     ]
    }
   ],
   "source": [
    "model_name = (\n",
    "    \"Koopman_\"\n",
    "    + dataset_str\n",
    "    + \"_seed{}_jumps{}_poly{}_sin{}_exp{}_bz{}_lr{}_decay{}_dim{}_inp{}_pred{}_num{}_enchid{}_dechid{}_trm{}_conhid{}_enclys{}_declys{}_trmlys{}_conlys{}_latdim{}_RevIN{}_insnorm{}_regrank{}_globalK{}_contK{}\"\n",
    "    .format(\n",
    "        seed,\n",
    "        jumps,\n",
    "        num_poly,\n",
    "        num_sins,\n",
    "        num_exp,\n",
    "        batch_size,\n",
    "        learning_rate,\n",
    "        decay_rate,\n",
    "        input_dim,\n",
    "        input_length,\n",
    "        train_output_length,\n",
    "        num_steps,\n",
    "        encoder_hidden_dim,\n",
    "        decoder_hidden_dim,\n",
    "        transformer_dim,\n",
    "        control_hidden_dim,\n",
    "        encoder_num_layers,\n",
    "        decoder_num_layers,\n",
    "        transformer_num_layers,\n",
    "        control_num_layers,\n",
    "        latent_dim,\n",
    "        use_revin,\n",
    "        use_instancenorm,\n",
    "        regularize_rank,\n",
    "        add_global_operator,\n",
    "        add_control,\n",
    "    )\n",
    ")\n",
    "print(model_name)\n",
    "\n",
    "model = Koopman(\n",
    "    # number of steps of historical observations encoded at every step\n",
    "    input_dim=input_dim,\n",
    "    # input length of ts\n",
    "    input_length=input_length,\n",
    "    # number of output features\n",
    "    output_dim=output_dim,\n",
    "    # number of prediction steps every forward pass\n",
    "    num_steps=num_steps,\n",
    "    # hidden dimension of encoder\n",
    "    encoder_hidden_dim=encoder_hidden_dim,\n",
    "    # hidden dimension of decoder\n",
    "    decoder_hidden_dim=decoder_hidden_dim,\n",
    "    # number of layers in the encoder\n",
    "    encoder_num_layers=encoder_num_layers,\n",
    "    # number of layers in the decoder\n",
    "    decoder_num_layers=decoder_num_layers,\n",
    "    # number of feature\n",
    "    num_feats=num_feats,\n",
    "    # dimension of finite koopman space\n",
    "    latent_dim=latent_dim,\n",
    "    # whether to learn a global operator shared across all time series\n",
    "    add_global_operator=add_global_operator,\n",
    "    # whether to use a feedback module\n",
    "    add_control=add_control,\n",
    "    # hidden dim in the control module\n",
    "    control_hidden_dim=control_hidden_dim,\n",
    "    # number of layers in the control module\n",
    "    use_revin=use_revin,  # whether to use reversible normalization\n",
    "    control_num_layers=control_num_layers,\n",
    "    # whether to use instance normalization on hidden states\n",
    "    use_instancenorm=use_instancenorm,\n",
    "    # Regularize rank.\n",
    "    regularize_rank=regularize_rank,\n",
    "    # number of pairs of sine and cosine measurement functions\n",
    "    num_sins=num_sins,\n",
    "    # the highest order of polynomial functions\n",
    "    num_poly=num_poly,\n",
    "    # number of exponential functions\n",
    "    num_exp=num_exp,\n",
    "    # Number of the head the transformer encoder\n",
    "    num_heads=num_heads,\n",
    "    # hidden dimension of tranformer encoder\n",
    "    transformer_dim=transformer_dim,\n",
    "    # number of layers in the transformer encoder\n",
    "    transformer_num_layers=transformer_num_layers,\n",
    "    # dropout rate of MLP modules\n",
    "    dropout_rate=dropout_rate\n",
    ").to(device)"
   ]
  },
  {
   "cell_type": "code",
   "execution_count": 8,
   "metadata": {},
   "outputs": [
    {
     "name": "stdout",
     "output_type": "stream",
     "text": [
      "number of params: 134944\n"
     ]
    }
   ],
   "source": [
    "print(\"number of params:\",\n",
    "    sum(p.numel() for p in model.parameters() if p.requires_grad))"
   ]
  },
  {
   "cell_type": "markdown",
   "metadata": {},
   "source": [
    "Set upt optimizer and training scheduler."
   ]
  },
  {
   "cell_type": "code",
   "execution_count": 9,
   "metadata": {},
   "outputs": [],
   "source": [
    "optimizer = torch.optim.Adam(model.parameters(), lr=learning_rate)\n",
    "scheduler = torch.optim.lr_scheduler.StepLR(\n",
    "    optimizer, step_size=1, gamma=decay_rate\n",
    ")  # stepwise learning rate decay\n",
    "loss_fun = nn.MSELoss()"
   ]
  },
  {
   "cell_type": "markdown",
   "metadata": {},
   "source": [
    "We test the training run for a small number of epochs (takes around 2min on CPU)."
   ]
  },
  {
   "cell_type": "code",
   "execution_count": 10,
   "metadata": {},
   "outputs": [],
   "source": [
    "num_epochs = 5\n",
    "last_epoch = 0"
   ]
  },
  {
   "cell_type": "code",
   "execution_count": 11,
   "metadata": {},
   "outputs": [
    {
     "name": "stderr",
     "output_type": "stream",
     "text": [
      "d:\\work\\projects\\repositories\\koopman_learning_tropical_cyclone\\.venv\\lib\\site-packages\\torch\\nn\\modules\\instancenorm.py:88: UserWarning: input's size at dim=1 does not match num_features. You can silence this warning by not passing in num_features, which is not used because affine=False\n",
      "  warnings.warn(f\"input's size at dim={feature_dim} does not match num_features. \"\n",
      "d:\\work\\projects\\repositories\\koopman_learning_tropical_cyclone\\.venv\\lib\\site-packages\\torch\\nn\\modules\\instancenorm.py:88: UserWarning: input's size at dim=0 does not match num_features. You can silence this warning by not passing in num_features, which is not used because affine=False\n",
      "  warnings.warn(f\"input's size at dim={feature_dim} does not match num_features. \"\n"
     ]
    },
    {
     "name": "stdout",
     "output_type": "stream",
     "text": [
      "Epoch 1 | T: 0.39 | Train RMSE: 9.318 | Valid RMSE: 1.453\n",
      "Epoch 2 | T: 0.34 | Train RMSE: 1.395 | Valid RMSE: 1.087\n",
      "Epoch 3 | T: 0.34 | Train RMSE: 1.172 | Valid RMSE: 1.062\n",
      "Epoch 4 | T: 0.35 | Train RMSE: 0.962 | Valid RMSE: 0.759\n",
      "Epoch 5 | T: 0.34 | Train RMSE: 0.921 | Valid RMSE: 0.952\n"
     ]
    }
   ],
   "source": [
    "all_train_rmses, all_eval_rmses = [], []\n",
    "best_eval_rmse = 1e6\n",
    "\n",
    "for epoch in range(last_epoch, num_epochs):\n",
    "    start_time = time.time()\n",
    "\n",
    "    train_rmse = train_epoch_koopman(\n",
    "        train_loader,\n",
    "        model,\n",
    "        loss_fun,\n",
    "        optimizer,\n",
    "        regularize_rank=regularize_rank)\n",
    "    eval_rmse, _, _ = eval_epoch_koopman(\n",
    "        valid_loader, model, loss_fun, regularize_rank=regularize_rank)\n",
    "\n",
    "    if eval_rmse < best_eval_rmse:\n",
    "        best_eval_rmse = eval_rmse\n",
    "        best_model = model\n",
    "        # torch.save([best_model, epoch, get_lr(optimizer)],\n",
    "        #             results_dir + model_name + \".pth\")\n",
    "\n",
    "    all_train_rmses.append(train_rmse)\n",
    "    all_eval_rmses.append(eval_rmse)\n",
    "\n",
    "    if np.isnan(train_rmse) or np.isnan(eval_rmse):\n",
    "        raise ValueError(\"The model generate NaN values\")\n",
    "\n",
    "    # # train the model at least 60 epochs and do early stopping\n",
    "    # if epoch > min_epochs and np.mean(all_eval_rmses[-10:]) > np.mean(\n",
    "    #     all_eval_rmses[-20:-10]):\n",
    "    #     break\n",
    "\n",
    "    epoch_time = time.time() - start_time\n",
    "    scheduler.step()\n",
    "    print(\"Epoch {} | T: {:0.2f} | Train RMSE: {:0.3f} | Valid RMSE: {:0.3f}\"\n",
    "            .format(epoch + 1, epoch_time / 60, train_rmse, eval_rmse))\n",
    "\n"
   ]
  },
  {
   "cell_type": "code",
   "execution_count": 17,
   "metadata": {},
   "outputs": [
    {
     "data": {
      "text/plain": [
       "Text(0, 0.5, 'RMSE')"
      ]
     },
     "execution_count": 17,
     "metadata": {},
     "output_type": "execute_result"
    },
    {
     "data": {
      "image/png": "[encoded data removed]",
      "text/plain": [
       "<Figure size 640x480 with 1 Axes>"
      ]
     },
     "metadata": {},
     "output_type": "display_data"
    }
   ],
   "source": [
    "epochs = range(last_epoch, num_epochs)\n",
    "plt.plot(epochs, all_train_rmses, \"-x\", label=\"Train RMSE\")\n",
    "plt.plot(epochs, all_eval_rmses, \"-x\", label=\"Eval RMSE\")\n",
    "plt.xlabel(\"Epochs\")\n",
    "plt.ylabel(\"RMSE\")"
   ]
  },
  {
   "cell_type": "markdown",
   "metadata": {},
   "source": [
    "Looks good. We observe a reduction of train and eval rmse over epochs."
   ]
  },
  {
   "cell_type": "markdown",
   "metadata": {},
   "source": [
    "Evaluating test RMSE."
   ]
  },
  {
   "cell_type": "code",
   "execution_count": 13,
   "metadata": {},
   "outputs": [],
   "source": [
    "test_rmse, test_preds, test_tgts = eval_epoch_koopman(test_loader, best_model,\n",
    "                                                loss_fun)"
   ]
  },
  {
   "cell_type": "code",
   "execution_count": 14,
   "metadata": {},
   "outputs": [
    {
     "data": {
      "text/plain": [
       "(1.8323278126088975, (3, 30, 2), (3, 30, 2))"
      ]
     },
     "execution_count": 14,
     "metadata": {},
     "output_type": "execute_result"
    }
   ],
   "source": [
    "test_rmse, test_preds.shape, test_tgts.shape"
   ]
  },
  {
   "cell_type": "code",
   "execution_count": null,
   "metadata": {},
   "outputs": [],
   "source": []
  }
 ],
 "metadata": {
  "kernelspec": {
   "display_name": ".venv",
   "language": "python",
   "name": "python3"
  },
  "language_info": {
   "codemirror_mode": {
    "name": "ipython",
    "version": 3
   },
   "file_extension": ".py",
   "mimetype": "text/x-python",
   "name": "python",
   "nbconvert_exporter": "python",
   "pygments_lexer": "ipython3",
   "version": "3.9.13"
  }
 },
 "nbformat": 4,
 "nbformat_minor": 2
}
