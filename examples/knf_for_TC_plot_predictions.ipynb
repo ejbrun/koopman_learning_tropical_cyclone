{
 "cells": [
  {
   "cell_type": "code",
   "execution_count": 1,
   "metadata": {},
   "outputs": [],
   "source": [
    "import os\n",
    "import random\n",
    "import time\n",
    "\n",
    "import numpy as np\n",
    "import torch\n",
    "from absl import app\n",
    "# from klearn_tcyclone.training_utils.args import FLAGS, ALL_FLAGS\n",
    "from klearn_tcyclone.training_utils.training_utils import get_default_flag_values\n",
    "from sklearn.model_selection import train_test_split\n",
    "from torch import nn\n",
    "from torch.utils import data\n",
    "\n",
    "from klearn_tcyclone.climada.tc_tracks import TCTracks\n",
    "from klearn_tcyclone.data_utils import (\n",
    "    LinearScaler,\n",
    ")\n",
    "from klearn_tcyclone.KNF.modules.eval_metrics import RMSE_TCTracks\n",
    "from klearn_tcyclone.KNF.modules.models import Koopman\n",
    "from klearn_tcyclone.KNF.modules.train_utils import (\n",
    "    eval_epoch_koopman,\n",
    "    train_epoch_koopman,\n",
    ")\n",
    "from klearn_tcyclone.knf_data_utils import TCTrackDataset\n",
    "from klearn_tcyclone.training_utils.training_utils import set_flags\n",
    "from absl import app, flags"
   ]
  },
  {
   "cell_type": "code",
   "execution_count": 2,
   "metadata": {},
   "outputs": [],
   "source": [
    "from klearn_tcyclone.training_utils.training_utils import extend_by_default_flag_values"
   ]
  },
  {
   "cell_type": "code",
   "execution_count": 3,
   "metadata": {},
   "outputs": [],
   "source": [
    "loss_fun = nn.MSELoss()"
   ]
  },
  {
   "cell_type": "markdown",
   "metadata": {},
   "source": [
    "Set some specific parameters and load default values for all other parameters."
   ]
  },
  {
   "cell_type": "code",
   "execution_count": 4,
   "metadata": {},
   "outputs": [],
   "source": [
    "flag_params = {\n",
    "    # \"seed\": 42,\n",
    "    # \"year_range\": [1980, 1988],\n",
    "    # \"batch_size\": 16,\n",
    "    \"num_epochs\": 2,\n",
    "}\n",
    "flag_params = extend_by_default_flag_values(flag_params)"
   ]
  },
  {
   "cell_type": "code",
   "execution_count": null,
   "metadata": {},
   "outputs": [],
   "source": []
  },
  {
   "cell_type": "code",
   "execution_count": 36,
   "metadata": {},
   "outputs": [],
   "source": [
    "# seed = flag_dict[\"seed\"]\n",
    "# model_str = flag_dict[\"model\"]\n",
    "# dataset = flag_dict[\"dataset\"]\n",
    "# year_range = flag_dict[\"year_range\"]\n",
    "# global_local_combination = flag_dict[\"global_local_combination\"]\n",
    "# learning_rate = flag_dict[\"learning_rate\"]\n",
    "# decay_rate = flag_dict[\"decay_rate\"]\n",
    "# batch_size = flag_dict[\"batch_size\"]\n",
    "# num_epochs = flag_dict[\"num_epochs\"]\n",
    "# min_epochs = flag_dict[\"min_epochs\"]\n",
    "\n",
    "# feature_list = [\"lat\", \"lon\"]\n",
    "# # feature_list = [\"lat\", \"lon\", \"central_pressure\"]\n",
    "\n",
    "# # fixed parameters\n",
    "# train_output_length = 15\n",
    "# hidden_dim = 128\n",
    "# num_layers = 4\n",
    "# input_dim = 3\n",
    "# parameter_dict = {\n",
    "#     # fixed parameters\n",
    "#     \"freq\": None,\n",
    "#     \"num_feats\": len(feature_list),\n",
    "#     \"train_output_length\": train_output_length,\n",
    "#     \"input_dim\": input_dim,\n",
    "#     \"input_length\": 21,\n",
    "    \n",
    "#     \"latent_dim\": 32,\n",
    "#     \"num_layers\": num_layers,\n",
    "#     \"control_num_layers\": 3,\n",
    "#     \"control_hidden_dim\": 64,\n",
    "#     \"transformer_dim\": 64,\n",
    "#     \"transformer_num_layers\": 3,\n",
    "#     \"test_output_length\": train_output_length,\n",
    "#     # num_steps can be chosen differently to train_output_length.\n",
    "#     \"num_steps\": 15,\n",
    "#     \"jumps\": 2,\n",
    "\n",
    "#     \"hidden_dim\": hidden_dim,\n",
    "#     \"control_hidden_dim\": 64,\n",
    "#     # \"hidden_dim\": num_feats,\n",
    "#     # \"control_hidden_dim\": hidden_dim,\n",
    "\n",
    "#     \"encoder_hidden_dim\": hidden_dim,\n",
    "#     \"decoder_hidden_dim\": hidden_dim,\n",
    "#     \"encoder_num_layers\": num_layers,\n",
    "#     \"decoder_num_layers\": num_layers,\n",
    "#     \"output_dim\": input_dim,\n",
    "#     \"use_revin\": True,\n",
    "#     \"use_instancenorm\": False,\n",
    "#     # \"use_instancenorm\": True,\n",
    "#     \"regularize_rank\": False,\n",
    "#     \"add_global_operator\": True,\n",
    "#     \"add_control\": True,\n",
    "#     \"num_sins\": -1,\n",
    "#     \"num_poly\": -1,\n",
    "#     \"num_exp\": -1,\n",
    "#     \"num_heads\": 1,\n",
    "#     \"dropout_rate\": 0,\n",
    "# }\n",
    "# device = torch.device(\"cuda\" if torch.cuda.is_available() else \"cpu\")\n",
    "# print(\"Device\", device)"
   ]
  },
  {
   "cell_type": "code",
   "execution_count": 37,
   "metadata": {},
   "outputs": [
    {
     "name": "stdout",
     "output_type": "stream",
     "text": [
      "Device cuda\n"
     ]
    }
   ],
   "source": [
    "random.seed(flag_params[\"seed\"])  # python random generator\n",
    "np.random.seed(flag_params[\"seed\"])  # numpy random generator\n",
    "\n",
    "torch.manual_seed(flag_params[\"seed\"])\n",
    "torch.cuda.manual_seed_all(flag_params[\"seed\"])\n",
    "\n",
    "torch.backends.cudnn.deterministic = True\n",
    "torch.backends.cudnn.benchmark = False\n",
    "\n",
    "feature_list = [\"lat\", \"lon\"]\n",
    "# feature_list = [\"lat\", \"lon\", \"central_pressure\"]\n",
    "\n",
    "# these are not contained as flags\n",
    "encoder_hidden_dim = flag_params[\"hidden_dim\"]\n",
    "decoder_hidden_dim = flag_params[\"hidden_dim\"]\n",
    "encoder_num_layers = flag_params[\"num_layers\"]\n",
    "decoder_num_layers = flag_params[\"num_layers\"]\n",
    "output_dim = flag_params[\"input_dim\"]\n",
    "num_feats = len(feature_list)\n",
    "learning_rate = flag_params[\"learning_rate\"]\n",
    "# ---------------\n",
    "\n",
    "device = torch.device(\"cuda\" if torch.cuda.is_available() else \"cpu\")\n",
    "print(\"Device\", device)\n",
    "\n",
    "scaler = LinearScaler()\n",
    "eval_metric = RMSE_TCTracks"
   ]
  },
  {
   "cell_type": "code",
   "execution_count": null,
   "metadata": {},
   "outputs": [],
   "source": []
  },
  {
   "cell_type": "code",
   "execution_count": 38,
   "metadata": {},
   "outputs": [
    {
     "name": "stdout",
     "output_type": "stream",
     "text": [
      "2024-10-10 19:27:58,530 - climada.hazard.tc_tracks - WARNING - The cached IBTrACS data set dates from 2023-06-07 23:07:38 (older than 180 days). Very likely, a more recent version is available. Consider manually removing the file C:\\Users\\Eric\\climada\\data\\IBTrACS.ALL.v04r00.nc and re-running this function, which will download the most recent version of the IBTrACS data set from the official URL.\n",
      "2024-10-10 19:28:00,076 - climada.hazard.tc_tracks - WARNING - 4 storm events are discarded because no valid wind/pressure values have been found: 1990145N19276, 1990262N15315, 1991187N23264, 1991241N11329.\n"
     ]
    },
    {
     "name": "stderr",
     "output_type": "stream",
     "text": [
      "c:\\Users\\Eric\\Projects\\koopman_learning_tropical_cyclone\\.venv\\Lib\\site-packages\\climada\\hazard\\tc_tracks.py:614: FutureWarning: The return type of `Dataset.dims` will be changed to return a set of dimension names in future, in order to be more consistent with `DataArray.dims`. To access a mapping from dimension names to lengths, please use `Dataset.sizes`.\n",
      "  if ibtracs_ds.dims['storm'] == 0:\n"
     ]
    }
   ],
   "source": [
    "# Datasets\n",
    "tc_tracks = TCTracks.from_ibtracs_netcdf(\n",
    "    provider=\"usa\",\n",
    "    year_range=flag_params[\"year_range\"],\n",
    "    basin=\"NA\",\n",
    "    correct_pres=False,\n",
    ")\n",
    "\n",
    "tc_tracks_train, tc_tracks_test = train_test_split(tc_tracks.data, test_size=0.1)\n",
    "train_set = TCTrackDataset(\n",
    "    input_length=flag_params[\"input_length\"],\n",
    "    output_length=flag_params[\"train_output_length\"],\n",
    "    tc_tracks=tc_tracks_train,\n",
    "    feature_list=feature_list,\n",
    "    mode=\"train\",\n",
    "    jumps=flag_params[\"jumps\"],\n",
    "    scaler=scaler,\n",
    "    fit=True,\n",
    ")\n",
    "valid_set = TCTrackDataset(\n",
    "    input_length=flag_params[\"input_length\"],\n",
    "    output_length=flag_params[\"train_output_length\"],\n",
    "    tc_tracks=tc_tracks_train,\n",
    "    feature_list=feature_list,\n",
    "    mode=\"valid\",\n",
    "    jumps=flag_params[\"jumps\"],\n",
    "    scaler=scaler,\n",
    "    fit=False,\n",
    ")\n",
    "test_set = TCTrackDataset(\n",
    "    input_length=flag_params[\"input_length\"],\n",
    "    output_length=flag_params[\"test_output_length\"],\n",
    "    tc_tracks=tc_tracks_test,\n",
    "    feature_list=feature_list,\n",
    "    mode=\"test\",\n",
    "    # jumps=flag_params[\"jumps\"], # jumps not used in test mode\n",
    "    scaler=scaler,\n",
    "    fit=False,\n",
    ")\n",
    "train_loader = data.DataLoader(\n",
    "    train_set, batch_size=flag_params[\"batch_size\"], shuffle=True, num_workers=1\n",
    ")\n",
    "valid_loader = data.DataLoader(\n",
    "    valid_set, batch_size=flag_params[\"batch_size\"], shuffle=True, num_workers=1\n",
    ")\n",
    "test_loader = data.DataLoader(\n",
    "    test_set, batch_size=flag_params[\"batch_size\"], shuffle=False, num_workers=1\n",
    ")\n",
    "\n",
    "if len(train_loader) == 0:\n",
    "    raise Exception(\n",
    "        \"There are likely too few data points in the test set. Try to increase year_range.\"\n",
    "    )"
   ]
  },
  {
   "cell_type": "code",
   "execution_count": null,
   "metadata": {},
   "outputs": [],
   "source": []
  },
  {
   "cell_type": "code",
   "execution_count": 39,
   "metadata": {},
   "outputs": [
    {
     "data": {
      "text/plain": [
       "'None'"
      ]
     },
     "execution_count": 39,
     "metadata": {},
     "output_type": "execute_result"
    }
   ],
   "source": [
    "flag_params[\"data_freq\"]"
   ]
  },
  {
   "cell_type": "code",
   "execution_count": 40,
   "metadata": {},
   "outputs": [
    {
     "data": {
      "text/plain": [
       "'c:\\\\Users\\\\Eric\\\\Projects\\\\koopman_learning_tropical_cyclone\\\\examples'"
      ]
     },
     "execution_count": 40,
     "metadata": {},
     "output_type": "execute_result"
    }
   ],
   "source": [
    "os.getcwd()"
   ]
  },
  {
   "cell_type": "code",
   "execution_count": 41,
   "metadata": {},
   "outputs": [],
   "source": [
    "model_folder_path = (\n",
    "    \"Koopman_\"\n",
    "    + str(flag_params[\"dataset\"])\n",
    "    + \"_model{}_glc{}\".format(flag_params[\"model\"], flag_params[\"global_local_combination\"])\n",
    ")\n",
    "model_name = (\n",
    "    \"seed{}_jumps{}_freq{}_poly{}_sin{}_exp{}_bz{}_lr{}_decay{}_dim{}_inp{}_pred{}_num{}_enchid{}_dechid{}_trm{}_conhid{}_enclys{}_declys{}_trmlys{}_conlys{}_latdim{}_RevIN{}_insnorm{}_regrank{}_globalK{}_contK{}\".format(  # noqa: E501, UP032\n",
    "        flag_params[\"seed\"],\n",
    "        flag_params[\"jumps\"],\n",
    "        flag_params[\"data_freq\"],\n",
    "        flag_params[\"num_poly\"],\n",
    "        flag_params[\"num_sins\"],\n",
    "        flag_params[\"num_exp\"],\n",
    "        flag_params[\"batch_size\"],\n",
    "        flag_params[\"learning_rate\"],\n",
    "        flag_params[\"decay_rate\"],\n",
    "        flag_params[\"input_dim\"],\n",
    "        flag_params[\"input_length\"],\n",
    "        flag_params[\"train_output_length\"],\n",
    "        flag_params[\"num_steps\"],\n",
    "        encoder_hidden_dim,\n",
    "        decoder_hidden_dim,\n",
    "        flag_params[\"transformer_dim\"],\n",
    "        flag_params[\"control_hidden_dim\"],\n",
    "        encoder_num_layers,\n",
    "        decoder_num_layers,\n",
    "        flag_params[\"transformer_num_layers\"],\n",
    "        flag_params[\"control_num_layers\"],\n",
    "        flag_params[\"latent_dim\"],\n",
    "        flag_params[\"use_revin\"],\n",
    "        flag_params[\"use_instancenorm\"],\n",
    "        flag_params[\"regularize_rank\"],\n",
    "        flag_params[\"add_global_operator\"],\n",
    "        flag_params[\"add_control\"],\n",
    "    )\n",
    ")\n",
    "\n",
    "file_dir_path = os.getcwd()\n",
    "root_path = os.path.join(file_dir_path, \"../\")\n",
    "results_dir = os.path.join(\n",
    "    root_path,\n",
    "    \"train_models\",\n",
    "    \"training_results\",\n",
    "    flag_params[\"dataset\"],\n",
    "    model_folder_path,\n",
    ")"
   ]
  },
  {
   "cell_type": "markdown",
   "metadata": {},
   "source": [
    "Load model and evaluation scores"
   ]
  },
  {
   "cell_type": "code",
   "execution_count": 42,
   "metadata": {},
   "outputs": [
    {
     "name": "stderr",
     "output_type": "stream",
     "text": [
      "C:\\Users\\Eric\\AppData\\Local\\Temp\\ipykernel_19644\\2993641039.py:2: FutureWarning: You are using `torch.load` with `weights_only=False` (the current default value), which uses the default pickle module implicitly. It is possible to construct malicious pickle data which will execute arbitrary code during unpickling (See https://github.com/pytorch/pytorch/blob/main/SECURITY.md#untrusted-models for more details). In a future release, the default value for `weights_only` will be flipped to `True`. This limits the functions that could be executed during unpickling. Arbitrary objects will no longer be allowed to be loaded via this mode unless they are explicitly allowlisted by the user via `torch.serialization.add_safe_globals`. We recommend you start setting `weights_only=True` for any use case where you don't have full control of the loaded file. Please open an issue on GitHub for any issues related to this experimental feature.\n",
      "  [best_model, epoch, learning_rate] = torch.load(\n",
      "C:\\Users\\Eric\\AppData\\Local\\Temp\\ipykernel_19644\\2993641039.py:10: FutureWarning: You are using `torch.load` with `weights_only=False` (the current default value), which uses the default pickle module implicitly. It is possible to construct malicious pickle data which will execute arbitrary code during unpickling (See https://github.com/pytorch/pytorch/blob/main/SECURITY.md#untrusted-models for more details). In a future release, the default value for `weights_only` will be flipped to `True`. This limits the functions that could be executed during unpickling. Arbitrary objects will no longer be allowed to be loaded via this mode unless they are explicitly allowlisted by the user via `torch.serialization.add_safe_globals`. We recommend you start setting `weights_only=True` for any use case where you don't have full control of the loaded file. Please open an issue on GitHub for any issues related to this experimental feature.\n",
      "  res_dicts.append(torch.load(\n",
      "C:\\Users\\Eric\\AppData\\Local\\Temp\\ipykernel_19644\\2993641039.py:19: FutureWarning: You are using `torch.load` with `weights_only=False` (the current default value), which uses the default pickle module implicitly. It is possible to construct malicious pickle data which will execute arbitrary code during unpickling (See https://github.com/pytorch/pytorch/blob/main/SECURITY.md#untrusted-models for more details). In a future release, the default value for `weights_only` will be flipped to `True`. This limits the functions that could be executed during unpickling. Arbitrary objects will no longer be allowed to be loaded via this mode unless they are explicitly allowlisted by the user via `torch.serialization.add_safe_globals`. We recommend you start setting `weights_only=True` for any use case where you don't have full control of the loaded file. Please open an issue on GitHub for any issues related to this experimental feature.\n",
      "  test_eval_dict = torch.load(\n"
     ]
    }
   ],
   "source": [
    "file_name_model = os.path.join(results_dir, model_name + \".pth\")\n",
    "[best_model, epoch, learning_rate] = torch.load(\n",
    "    file_name_model,\n",
    ")\n",
    "\n",
    "res_dicts = []\n",
    "for epoch in range(0, flag_params[\"num_epochs\"]):\n",
    "    # load test scores.\n",
    "    file_name_test_model = os.path.join(results_dir, f\"ep{epoch}_test\" + model_name + \".pt\")\n",
    "    res_dicts.append(torch.load(\n",
    "        file_name_test_model,\n",
    "    ))\n",
    "\n",
    "eval_scores = np.array([\n",
    "    res_dict[\"eval_score\"] for res_dict in res_dicts\n",
    "])\n",
    "\n",
    "file_name_test_model = os.path.join(results_dir, \"test_\" + model_name + \".pt\")\n",
    "test_eval_dict = torch.load(\n",
    "    file_name_test_model,\n",
    ")"
   ]
  },
  {
   "cell_type": "code",
   "execution_count": 43,
   "metadata": {},
   "outputs": [
    {
     "name": "stderr",
     "output_type": "stream",
     "text": [
      "c:\\Users\\Eric\\Projects\\koopman_learning_tropical_cyclone\\.venv\\Lib\\site-packages\\torch\\nn\\functional.py:5560: UserWarning: 1Torch was not compiled with flash attention. (Triggered internally at C:\\actions-runner\\_work\\pytorch\\pytorch\\builder\\windows\\pytorch\\aten\\src\\ATen\\native\\transformers\\cuda\\sdp_utils.cpp:555.)\n",
      "  attn_output = scaled_dot_product_attention(q, k, v, attn_mask, dropout_p, is_causal)\n"
     ]
    },
    {
     "name": "stdout",
     "output_type": "stream",
     "text": [
      "(0.035451595, 0.052750442, 0.07553796, 0.059111934) (0.03562394, 0.05284494, 0.0754363, 0.059116416)\n"
     ]
    }
   ],
   "source": [
    "_, test_preds, test_tgts = eval_epoch_koopman(test_loader, best_model, loss_fun)\n",
    "print(test_eval_dict[\"eval_score\"], eval_metric(test_preds, test_tgts))"
   ]
  },
  {
   "cell_type": "code",
   "execution_count": null,
   "metadata": {},
   "outputs": [],
   "source": []
  },
  {
   "cell_type": "code",
   "execution_count": null,
   "metadata": {},
   "outputs": [],
   "source": []
  },
  {
   "cell_type": "code",
   "execution_count": 22,
   "metadata": {},
   "outputs": [],
   "source": [
    "from matplotlib import pyplot as plt"
   ]
  },
  {
   "cell_type": "code",
   "execution_count": 24,
   "metadata": {},
   "outputs": [],
   "source": [
    "epochs = list(range(0, num_epochs))"
   ]
  },
  {
   "cell_type": "code",
   "execution_count": 25,
   "metadata": {},
   "outputs": [
    {
     "data": {
      "text/plain": [
       "<matplotlib.legend.Legend at 0x1df575e8690>"
      ]
     },
     "execution_count": 25,
     "metadata": {},
     "output_type": "execute_result"
    },
    {
     "data": {
      "image/png": "[encoded data removed]",
      "text/plain": [
       "<Figure size 640x480 with 1 Axes>"
      ]
     },
     "metadata": {},
     "output_type": "display_data"
    }
   ],
   "source": [
    "plt.plot(epochs, eval_scores[:, 0], label=\"short\")\n",
    "plt.plot(epochs, eval_scores[:, 1], label=\"medium\")\n",
    "plt.plot(epochs, eval_scores[:, 2], label=\"large\")\n",
    "plt.plot(epochs, eval_scores[:, 3], label=\"full\")\n",
    "plt.hlines(test_eval_dict[\"eval_score\"], epochs[0], epochs[-1], colors=\"black\")\n",
    "plt.legend()"
   ]
  },
  {
   "cell_type": "code",
   "execution_count": null,
   "metadata": {},
   "outputs": [],
   "source": []
  },
  {
   "cell_type": "code",
   "execution_count": null,
   "metadata": {},
   "outputs": [],
   "source": []
  },
  {
   "cell_type": "code",
   "execution_count": null,
   "metadata": {},
   "outputs": [],
   "source": []
  },
  {
   "cell_type": "code",
   "execution_count": null,
   "metadata": {},
   "outputs": [],
   "source": []
  }
 ],
 "metadata": {
  "kernelspec": {
   "display_name": ".venv",
   "language": "python",
   "name": "python3"
  },
  "language_info": {
   "codemirror_mode": {
    "name": "ipython",
    "version": 3
   },
   "file_extension": ".py",
   "mimetype": "text/x-python",
   "name": "python",
   "nbconvert_exporter": "python",
   "pygments_lexer": "ipython3",
   "version": "3.11.9"
  }
 },
 "nbformat": 4,
 "nbformat_minor": 2
}
