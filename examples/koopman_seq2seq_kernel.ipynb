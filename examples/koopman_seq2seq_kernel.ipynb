{
 "cells": [
  {
   "cell_type": "code",
   "execution_count": 1,
   "metadata": {},
   "outputs": [],
   "source": [
    "import os\n",
    "import random\n",
    "import time\n",
    "\n",
    "import numpy as np\n",
    "import torch\n",
    "from absl import app\n",
    "# from klearn_tcyclone.training_utils.args import FLAGS, ALL_FLAGS\n",
    "from klearn_tcyclone.training_utils.training_utils import get_default_flag_values\n",
    "from sklearn.model_selection import train_test_split\n",
    "from torch import nn\n",
    "from torch.utils import data\n",
    "\n",
    "from klearn_tcyclone.climada.tc_tracks import TCTracks\n",
    "from klearn_tcyclone.data_utils import (\n",
    "    LinearScaler,\n",
    ")\n",
    "from klearn_tcyclone.KNF.modules.eval_metrics import RMSE_TCTracks\n",
    "from klearn_tcyclone.KNF.modules.models import Koopman\n",
    "from klearn_tcyclone.KNF.modules.train_utils import (\n",
    "    eval_epoch_koopman,\n",
    "    train_epoch_koopman,\n",
    ")\n",
    "from klearn_tcyclone.knf_data_utils import TCTrackDataset\n",
    "from klearn_tcyclone.training_utils.training_utils import set_flags\n",
    "from absl import app, flags\n",
    "\n",
    "from klearn_tcyclone.training_utils.training_utils import extend_by_default_flag_values\n",
    "\n",
    "from klearn_tcyclone.koopkernel_seq2seq import KoopmanKernelSeq2Seq, RBFKernel\n",
    "from klearn_tcyclone.koopkernel_seq2seq import KoopKernelLoss, batch_tensor_context\n"
   ]
  },
  {
   "cell_type": "markdown",
   "metadata": {},
   "source": [
    "## Import data"
   ]
  },
  {
   "cell_type": "markdown",
   "metadata": {},
   "source": [
    "Set some specific parameters and load default values for all other parameters."
   ]
  },
  {
   "cell_type": "code",
   "execution_count": 2,
   "metadata": {},
   "outputs": [],
   "source": [
    "flag_params = {\n",
    "    # \"seed\": 42,\n",
    "    \"year_range\": [1980, 1988],\n",
    "    # \"batch_size\": 16,\n",
    "    \"num_epochs\": 2,\n",
    "    \"train_output_length\": 1,\n",
    "    \"context_length\": 14,\n",
    "}\n",
    "flag_params[\"input_length\"] = flag_params[\"context_length\"]\n",
    "flag_params = extend_by_default_flag_values(flag_params)"
   ]
  },
  {
   "cell_type": "code",
   "execution_count": 3,
   "metadata": {},
   "outputs": [
    {
     "name": "stdout",
     "output_type": "stream",
     "text": [
      "Device cuda\n"
     ]
    }
   ],
   "source": [
    "random.seed(flag_params[\"seed\"])  # python random generator\n",
    "np.random.seed(flag_params[\"seed\"])  # numpy random generator\n",
    "\n",
    "torch.manual_seed(flag_params[\"seed\"])\n",
    "torch.cuda.manual_seed_all(flag_params[\"seed\"])\n",
    "\n",
    "torch.backends.cudnn.deterministic = True\n",
    "torch.backends.cudnn.benchmark = False\n",
    "\n",
    "feature_list = [\n",
    "    \"lon\",\n",
    "    \"lat\",\n",
    "    \"max_sustained_wind\",\n",
    "    # \"radius_max_wind\",\n",
    "    # \"radius_oci\",\n",
    "    \"central_pressure\",\n",
    "    \"environmental_pressure\",\n",
    "]\n",
    "\n",
    "# feature_list = [\n",
    "#     \"lon\",\n",
    "#     \"lat\",\n",
    "#     \"max_sustained_wind\",\n",
    "#     \"radius_max_wind\",\n",
    "#     \"radius_oci\",\n",
    "#     \"central_pressure\",\n",
    "#     \"environmental_pressure\",\n",
    "# ]\n",
    "\n",
    "# these are not contained as flags\n",
    "# encoder_hidden_dim = flag_params[\"hidden_dim\"]\n",
    "# decoder_hidden_dim = flag_params[\"hidden_dim\"]\n",
    "# encoder_num_layers = flag_params[\"num_layers\"]\n",
    "# decoder_num_layers = flag_params[\"num_layers\"]\n",
    "\n",
    "output_dim = flag_params[\"input_dim\"]\n",
    "num_feats = len(feature_list)\n",
    "learning_rate = flag_params[\"learning_rate\"]\n",
    "# ---------------\n",
    "\n",
    "device = torch.device(\"cuda\" if torch.cuda.is_available() else \"cpu\")\n",
    "print(\"Device\", device)\n",
    "\n",
    "scaler = LinearScaler()\n",
    "eval_metric = RMSE_TCTracks"
   ]
  },
  {
   "cell_type": "code",
   "execution_count": 4,
   "metadata": {},
   "outputs": [
    {
     "name": "stdout",
     "output_type": "stream",
     "text": [
      "2025-02-09 20:30:07,167 - climada.hazard.tc_tracks - WARNING - The cached IBTrACS data set dates from 2023-06-07 23:07:38 (older than 180 days). Very likely, a more recent version is available. Consider manually removing the file /home/ecjb/climada/data/IBTrACS.ALL.v04r00.nc and re-running this function, which will download the most recent version of the IBTrACS data set from the official URL.\n",
      "2025-02-09 20:31:50,047 - climada.hazard.tc_tracks - WARNING - 49 storm events are discarded because no valid wind/pressure values have been found: 1980199N31284, 1980200N25270, 1980204N23287, 1980226N15339, 1980238N16328, ...\n"
     ]
    },
    {
     "name": "stderr",
     "output_type": "stream",
     "text": [
      "/home/ecjb/packages/climada_python/climada/hazard/tc_tracks.py:614: FutureWarning: The return type of `Dataset.dims` will be changed to return a set of dimension names in future, in order to be more consistent with `DataArray.dims`. To access a mapping from dimension names to lengths, please use `Dataset.sizes`.\n",
      "  if ibtracs_ds.dims['storm'] == 0:\n"
     ]
    }
   ],
   "source": [
    "# Datasets\n",
    "tc_tracks = TCTracks.from_ibtracs_netcdf(\n",
    "    provider=\"official\",\n",
    "    year_range=flag_params[\"year_range\"],\n",
    "    basin=\"NA\",\n",
    ")\n",
    "\n",
    "tc_tracks_train, tc_tracks_test = train_test_split(tc_tracks.data, test_size=0.1)"
   ]
  },
  {
   "cell_type": "code",
   "execution_count": 5,
   "metadata": {},
   "outputs": [
    {
     "data": {
      "text/plain": [
       "(73,\n",
       " <xarray.Dataset> Size: 8kB\n",
       " Dimensions:                 (time: 134)\n",
       " Coordinates:\n",
       "   * time                    (time) datetime64[ns] 1kB 1986-08-13T12:00:00 ......\n",
       "     lat                     (time) float32 536B 30.1 30.45 30.8 ... 56.2 56.2\n",
       "     lon                     (time) float32 536B -84.0 -84.0 -84.0 ... 7.0 8.0\n",
       " Data variables:\n",
       "     radius_max_wind         (time) float32 536B 0.0 0.0 0.0 0.0 ... 0.0 0.0 0.0\n",
       "     radius_oci              (time) float32 536B 0.0 0.0 0.0 0.0 ... 0.0 0.0 0.0\n",
       "     max_sustained_wind      (time) float32 536B 10.0 10.0 10.0 ... 15.0 15.0\n",
       "     central_pressure        (time) float32 536B 1.009e+03 1.01e+03 ... 1.006e+03\n",
       "     environmental_pressure  (time) float64 1kB 1.01e+03 1.01e+03 ... 1.01e+03\n",
       "     time_step               (time) float64 1kB 3.0 3.0 3.0 3.0 ... 3.0 3.0 3.0\n",
       "     basin                   (time) <U2 1kB 'NA' 'NA' 'NA' ... 'NA' 'NA' 'NA'\n",
       " Attributes:\n",
       "     max_sustained_wind_unit:  kn\n",
       "     central_pressure_unit:    mb\n",
       "     orig_event_flag:          True\n",
       "     data_provider:            ibtracs_official\n",
       "     category:                 1\n",
       "     name:                     CHARLEY\n",
       "     sid:                      1986226N30276\n",
       "     id_no:                    1986226030276.0)"
      ]
     },
     "execution_count": 5,
     "metadata": {},
     "output_type": "execute_result"
    }
   ],
   "source": [
    "len(tc_tracks_train), tc_tracks_train[5]"
   ]
  },
  {
   "cell_type": "code",
   "execution_count": null,
   "metadata": {},
   "outputs": [],
   "source": []
  },
  {
   "cell_type": "code",
   "execution_count": 6,
   "metadata": {},
   "outputs": [],
   "source": [
    "from klearn_tcyclone.data_utils import (\n",
    "    load_model,\n",
    "    standardized_context_dataset_from_TCTracks,\n",
    ")"
   ]
  },
  {
   "cell_type": "code",
   "execution_count": 7,
   "metadata": {},
   "outputs": [],
   "source": [
    "time_lag = 1\n",
    "scaler = LinearScaler()\n",
    "basin = \"NA\""
   ]
  },
  {
   "cell_type": "markdown",
   "metadata": {},
   "source": [
    "The idea is to feed the tensor_context_dataset into the model. Because for the kernels I need the lookback window and the shifted version of this."
   ]
  },
  {
   "cell_type": "code",
   "execution_count": 8,
   "metadata": {},
   "outputs": [],
   "source": [
    "tensor_context_train_standardized = standardized_context_dataset_from_TCTracks(\n",
    "    tc_tracks_train,\n",
    "    feature_list=feature_list,\n",
    "    scaler=scaler,\n",
    "    context_length=flag_params[\"context_length\"],\n",
    "    time_lag=time_lag,\n",
    "    fit=True,\n",
    "    periodic_shift=True,\n",
    "    basin=basin,\n",
    ")"
   ]
  },
  {
   "cell_type": "code",
   "execution_count": null,
   "metadata": {},
   "outputs": [],
   "source": []
  },
  {
   "cell_type": "code",
   "execution_count": null,
   "metadata": {},
   "outputs": [],
   "source": []
  },
  {
   "cell_type": "code",
   "execution_count": 9,
   "metadata": {},
   "outputs": [],
   "source": [
    "\n",
    "train_set = TCTrackDataset(\n",
    "    input_length=flag_params[\"input_length\"],\n",
    "    output_length=flag_params[\"train_output_length\"],\n",
    "    tc_tracks=tc_tracks_train,\n",
    "    feature_list=feature_list,\n",
    "    mode=\"train\",\n",
    "    jumps=flag_params[\"jumps\"],\n",
    "    scaler=scaler,\n",
    "    fit=True,\n",
    ")\n",
    "valid_set = TCTrackDataset(\n",
    "    input_length=flag_params[\"input_length\"],\n",
    "    output_length=flag_params[\"train_output_length\"],\n",
    "    tc_tracks=tc_tracks_train,\n",
    "    feature_list=feature_list,\n",
    "    mode=\"valid\",\n",
    "    jumps=flag_params[\"jumps\"],\n",
    "    scaler=scaler,\n",
    "    fit=False,\n",
    ")\n",
    "test_set = TCTrackDataset(\n",
    "    input_length=flag_params[\"input_length\"],\n",
    "    output_length=flag_params[\"test_output_length\"],\n",
    "    tc_tracks=tc_tracks_test,\n",
    "    feature_list=feature_list,\n",
    "    mode=\"test\",\n",
    "    # jumps=flag_params[\"jumps\"], # jumps not used in test mode\n",
    "    scaler=scaler,\n",
    "    fit=False,\n",
    ")\n",
    "train_loader = data.DataLoader(\n",
    "    train_set, batch_size=flag_params[\"batch_size\"], shuffle=True, num_workers=1\n",
    ")\n",
    "valid_loader = data.DataLoader(\n",
    "    valid_set, batch_size=flag_params[\"batch_size\"], shuffle=True, num_workers=1\n",
    ")\n",
    "test_loader = data.DataLoader(\n",
    "    test_set, batch_size=flag_params[\"batch_size\"], shuffle=False, num_workers=1\n",
    ")\n",
    "\n",
    "if len(train_loader) == 0:\n",
    "    raise Exception(\n",
    "        \"There are likely too few data points in the test set. Try to increase year_range.\"\n",
    "    )"
   ]
  },
  {
   "cell_type": "markdown",
   "metadata": {},
   "source": [
    "Check why we have nan values!!!"
   ]
  },
  {
   "cell_type": "code",
   "execution_count": 10,
   "metadata": {},
   "outputs": [
    {
     "data": {
      "text/plain": [
       "torch.Size([14, 5])"
      ]
     },
     "execution_count": 10,
     "metadata": {},
     "output_type": "execute_result"
    }
   ],
   "source": [
    "train_loader.dataset[0][0].shape"
   ]
  },
  {
   "cell_type": "code",
   "execution_count": null,
   "metadata": {},
   "outputs": [],
   "source": []
  },
  {
   "cell_type": "code",
   "execution_count": null,
   "metadata": {},
   "outputs": [],
   "source": []
  },
  {
   "cell_type": "code",
   "execution_count": 11,
   "metadata": {},
   "outputs": [
    {
     "name": "stdout",
     "output_type": "stream",
     "text": [
      "0\n",
      "torch.Size([32, 14, 5]) <class 'torch.Tensor'>\n",
      "torch.Size([32, 1, 5]) <class 'torch.Tensor'>\n",
      "tensor([0.7815, 0.8036, 0.8226, 0.8416, 0.8575, 0.8733, 0.8892, 0.9050, 0.9184,\n",
      "        0.9319, 0.9422, 0.9525, 0.9588, 0.9652])\n",
      "tensor([0.9667])\n",
      "\n",
      "1\n",
      "torch.Size([32, 14, 5]) <class 'torch.Tensor'>\n",
      "torch.Size([32, 1, 5]) <class 'torch.Tensor'>\n",
      "tensor([0.0538, 0.0689, 0.0784, 0.0879, 0.0855, 0.0831, 0.0744, 0.0657, 0.0499,\n",
      "        0.0340, 0.0293, 0.0245, 0.0238, 0.0230])\n",
      "tensor([0.0245])\n",
      "\n",
      "2\n",
      "torch.Size([32, 14, 5]) <class 'torch.Tensor'>\n",
      "torch.Size([32, 1, 5]) <class 'torch.Tensor'>\n",
      "tensor([-0.2043, -0.2162, -0.2257, -0.2352, -0.2494, -0.2637, -0.2755, -0.2874,\n",
      "        -0.3017, -0.3159, -0.3294, -0.3428, -0.3555, -0.3682])\n",
      "tensor([-0.3824])\n",
      "\n",
      "3\n",
      "torch.Size([32, 14, 5]) <class 'torch.Tensor'>\n",
      "torch.Size([32, 1, 5]) <class 'torch.Tensor'>\n",
      "tensor([-0.0428, -0.0546, -0.0665, -0.0784, -0.0895, -0.1006, -0.1108, -0.1211,\n",
      "        -0.1314, -0.1417, -0.1520, -0.1623, -0.1734, -0.1845])\n",
      "tensor([-0.1940])\n",
      "\n",
      "4\n",
      "torch.Size([32, 14, 5]) <class 'torch.Tensor'>\n",
      "torch.Size([32, 1, 5]) <class 'torch.Tensor'>\n",
      "tensor([-0.1639, -0.1742, -0.1845, -0.1932, -0.2019, -0.2106, -0.2193, -0.2272,\n",
      "        -0.2352, -0.2423, -0.2494, -0.2581, -0.2668, -0.2747])\n",
      "tensor([-0.2827])\n",
      "\n"
     ]
    }
   ],
   "source": [
    "counter = 0\n",
    "for inps, tgts in train_loader:\n",
    "    if counter < 5:\n",
    "        print(counter)\n",
    "        print(inps.shape, type(inps))\n",
    "        print(tgts.shape, type(inps))\n",
    "        print(inps[0,:,0])\n",
    "        print(tgts[0,:,0])\n",
    "        print()\n",
    "    \n",
    "    counter += 1\n"
   ]
  },
  {
   "cell_type": "code",
   "execution_count": null,
   "metadata": {},
   "outputs": [],
   "source": []
  },
  {
   "cell_type": "code",
   "execution_count": 12,
   "metadata": {},
   "outputs": [
    {
     "data": {
      "text/plain": [
       "(torch.Size([32, 103, 13, 5]), torch.Size([32, 103, 13, 5]))"
      ]
     },
     "execution_count": 12,
     "metadata": {},
     "output_type": "execute_result"
    }
   ],
   "source": [
    "tensor_context_inps, tensor_context_tgts = batch_tensor_context(tensor_context_train_standardized, batch_size=flag_params[\"batch_size\"], flag_params=flag_params)\n",
    "assert torch.all(tensor_context_inps[:,:,1:] == tensor_context_tgts[:,:,:-1])\n",
    "tensor_context_inps.shape, tensor_context_tgts.shape"
   ]
  },
  {
   "cell_type": "code",
   "execution_count": 13,
   "metadata": {},
   "outputs": [
    {
     "data": {
      "text/plain": [
       "13"
      ]
     },
     "execution_count": 13,
     "metadata": {},
     "output_type": "execute_result"
    }
   ],
   "source": [
    "input_length = tensor_context_train_standardized.context_length-1\n",
    "input_length"
   ]
  },
  {
   "cell_type": "code",
   "execution_count": 14,
   "metadata": {},
   "outputs": [],
   "source": [
    "rbf = RBFKernel(length_scale=1E-1)\n",
    "flag_params[\"koopman_kernel_num_centers\"] = 1000"
   ]
  },
  {
   "cell_type": "code",
   "execution_count": 15,
   "metadata": {},
   "outputs": [
    {
     "name": "stdout",
     "output_type": "stream",
     "text": [
      "torch.Size([1000, 5]) torch.Size([1000, 5])\n"
     ]
    }
   ],
   "source": [
    "#TODO most parameters don't play a role in model definition -> remove them\n",
    "koopkernelmodel = KoopmanKernelSeq2Seq(\n",
    "    kernel=rbf,\n",
    "    input_dim = num_feats,\n",
    "    input_length = 13,\n",
    "    output_length = 1,\n",
    "    output_dim = 1,\n",
    "    num_steps = 1,\n",
    "    num_nys_centers = flag_params[\"koopman_kernel_num_centers\"],\n",
    "    rng_seed = 42,\n",
    "    context_mode=\"last_context\"\n",
    ")\n",
    "\n",
    "koopkernelmodel._initialize_nystrom_data(tensor_context_train_standardized)"
   ]
  },
  {
   "cell_type": "code",
   "execution_count": null,
   "metadata": {},
   "outputs": [],
   "source": []
  },
  {
   "cell_type": "code",
   "execution_count": 16,
   "metadata": {},
   "outputs": [],
   "source": [
    "def train_one_epoch(model: KoopmanKernelSeq2Seq, optimizer, loss_fun, scheduler, epoch_index, tb_writer, tensor_context_inps, tensor_context_tgts):\n",
    "    \"\"\"From https://pytorch.org/tutorials/beginner/introyt/trainingyt.html.\"\"\"\n",
    "\n",
    "    running_loss = 0.\n",
    "    last_loss = 0.\n",
    "\n",
    "    # Here, we use enumerate(training_loader) instead of\n",
    "    # iter(training_loader) so that we can track the batch\n",
    "    # index and do some intra-epoch reporting\n",
    "\n",
    "    print(range(tensor_context_inps.shape[1]))\n",
    "    for i in range(tensor_context_inps.shape[1]):\n",
    "\n",
    "        # Every data instance is an input + label pair\n",
    "        inputs, labels = tensor_context_inps[:,i], tensor_context_tgts[:,i]\n",
    "        if model.context_mode == \"last_context\":\n",
    "            labels = labels[:, -1, :]\n",
    "\n",
    "        # Zero your gradients for every batch!\n",
    "        optimizer.zero_grad()\n",
    "\n",
    "        # Make predictions for this batch\n",
    "        outputs = model(inputs)\n",
    "\n",
    "        # Compute the loss and its gradients\n",
    "        loss = loss_fun(outputs, labels)\n",
    "        loss.backward()\n",
    "\n",
    "        # print(loss.item())\n",
    "\n",
    "        # Adjust learning weights\n",
    "        optimizer.step()\n",
    "\n",
    "        # Gather data and report\n",
    "        running_loss += loss.item()\n",
    "        if i % 10 == 9:\n",
    "            last_loss = running_loss / 10 # loss per batch\n",
    "            print('  batch {} loss: {}'.format(i + 1, last_loss))\n",
    "            tb_x = epoch_index * tensor_context_inps.shape[1] + i + 1\n",
    "            tb_writer.add_scalar('Loss/train', last_loss, tb_x)\n",
    "            running_loss = 0.\n",
    "\n",
    "    \n",
    "    print(optimizer.state_dict()[\"param_groups\"][0])\n",
    "\n",
    "    scheduler.step()\n",
    "\n",
    "    return last_loss"
   ]
  },
  {
   "cell_type": "code",
   "execution_count": 17,
   "metadata": {},
   "outputs": [],
   "source": [
    "optimizer = torch.optim.Adam(koopkernelmodel.parameters(), lr=learning_rate)\n",
    "loss_koopkernel = KoopKernelLoss(koopkernelmodel.nystrom_data_Y, koopkernelmodel._kernel)\n",
    "\n",
    "from torch.utils.tensorboard import SummaryWriter\n",
    "from datetime import datetime\n",
    "\n",
    "timestamp = datetime.now().strftime('%Y%m%d_%H%M%S')\n",
    "tb_writer = SummaryWriter('runs/fashion_trainer_{}'.format(timestamp))\n",
    "\n",
    "scheduler = torch.optim.lr_scheduler.StepLR(\n",
    "    optimizer, step_size=1, gamma=flag_params[\"decay_rate\"]\n",
    ")  # stepwise learning rate decay\n",
    "\n",
    "\n"
   ]
  },
  {
   "cell_type": "code",
   "execution_count": 18,
   "metadata": {},
   "outputs": [
    {
     "name": "stdout",
     "output_type": "stream",
     "text": [
      "range(0, 103)\n",
      "  batch 10 loss: 0.2388180747628212\n",
      "  batch 20 loss: 0.3040406696498394\n",
      "  batch 30 loss: 0.21430656760931016\n",
      "  batch 40 loss: 0.18975597843527794\n",
      "  batch 50 loss: 0.1430390454828739\n",
      "  batch 60 loss: 0.14588316902518272\n",
      "  batch 70 loss: 0.12525649592280388\n",
      "  batch 80 loss: 0.10441838651895523\n",
      "  batch 90 loss: 0.0865353062748909\n",
      "  batch 100 loss: 0.07903206497430801\n",
      "{'lr': 0.001, 'betas': (0.9, 0.999), 'eps': 1e-08, 'weight_decay': 0, 'amsgrad': False, 'maximize': False, 'foreach': None, 'capturable': False, 'differentiable': False, 'fused': None, 'initial_lr': 0.001, 'params': [0]}\n",
      "range(0, 103)\n",
      "  batch 10 loss: 0.08774410709738731\n",
      "  batch 20 loss: 0.06748025380074978\n",
      "  batch 30 loss: 0.06270867884159088\n",
      "  batch 40 loss: 0.08404757753014565\n",
      "  batch 50 loss: 0.07391072958707809\n",
      "  batch 60 loss: 0.0618722565472126\n",
      "  batch 70 loss: 0.062197978422045705\n",
      "  batch 80 loss: 0.05621521174907684\n",
      "  batch 90 loss: 0.061757806316018106\n",
      "  batch 100 loss: 0.06977181807160378\n",
      "{'lr': 0.0009000000000000001, 'betas': (0.9, 0.999), 'eps': 1e-08, 'weight_decay': 0, 'amsgrad': False, 'maximize': False, 'foreach': None, 'capturable': False, 'differentiable': False, 'fused': None, 'initial_lr': 0.001, 'params': [0]}\n",
      "range(0, 103)\n",
      "  batch 10 loss: 0.060724138468503955\n",
      "  batch 20 loss: 0.0494682639837265\n",
      "  batch 30 loss: 0.04774302504956722\n",
      "  batch 40 loss: 0.05227634981274605\n",
      "  batch 50 loss: 0.049152813479304315\n",
      "  batch 60 loss: 0.045550776086747645\n",
      "  batch 70 loss: 0.05842265188694\n",
      "  batch 80 loss: 0.051899562031030654\n",
      "  batch 90 loss: 0.041695510037243366\n",
      "  batch 100 loss: 0.04198937993496656\n",
      "{'lr': 0.0008100000000000001, 'betas': (0.9, 0.999), 'eps': 1e-08, 'weight_decay': 0, 'amsgrad': False, 'maximize': False, 'foreach': None, 'capturable': False, 'differentiable': False, 'fused': None, 'initial_lr': 0.001, 'params': [0]}\n",
      "range(0, 103)\n",
      "  batch 10 loss: 0.043513869680464265\n",
      "  batch 20 loss: 0.04228675551712513\n",
      "  batch 30 loss: 0.06186209674924612\n",
      "  batch 40 loss: 0.07119033485651016\n",
      "  batch 50 loss: 0.061673739925026894\n",
      "  batch 60 loss: 0.051140915229916574\n",
      "  batch 70 loss: 0.04186782333999872\n",
      "  batch 80 loss: 0.03122796453535557\n",
      "  batch 90 loss: 0.04003606028854847\n",
      "  batch 100 loss: 0.045494549162685874\n",
      "{'lr': 0.000729, 'betas': (0.9, 0.999), 'eps': 1e-08, 'weight_decay': 0, 'amsgrad': False, 'maximize': False, 'foreach': None, 'capturable': False, 'differentiable': False, 'fused': None, 'initial_lr': 0.001, 'params': [0]}\n",
      "range(0, 103)\n",
      "  batch 10 loss: 0.040634867176413535\n",
      "  batch 20 loss: 0.03231298066675663\n",
      "  batch 30 loss: 0.03460736628621817\n",
      "  batch 40 loss: 0.03639652524143457\n",
      "  batch 50 loss: 0.02936574723571539\n",
      "  batch 60 loss: 0.032496259175240995\n",
      "  batch 70 loss: 0.027194369956851004\n",
      "  batch 80 loss: 0.0219085443764925\n",
      "  batch 90 loss: 0.030987878423184158\n",
      "  batch 100 loss: 0.031220396514981985\n",
      "{'lr': 0.0006561000000000001, 'betas': (0.9, 0.999), 'eps': 1e-08, 'weight_decay': 0, 'amsgrad': False, 'maximize': False, 'foreach': None, 'capturable': False, 'differentiable': False, 'fused': None, 'initial_lr': 0.001, 'params': [0]}\n",
      "range(0, 103)\n",
      "  batch 10 loss: 0.02576662814244628\n",
      "  batch 20 loss: 0.022376119624823332\n",
      "  batch 30 loss: 0.020951210614293815\n",
      "  batch 40 loss: 0.02336300639435649\n",
      "  batch 50 loss: 0.01936368029564619\n",
      "  batch 60 loss: 0.022761902213096617\n",
      "  batch 70 loss: 0.018893729243427516\n",
      "  batch 80 loss: 0.014208296313881874\n",
      "  batch 90 loss: 0.018258965481072663\n",
      "  batch 100 loss: 0.016797337029129267\n",
      "{'lr': 0.00059049, 'betas': (0.9, 0.999), 'eps': 1e-08, 'weight_decay': 0, 'amsgrad': False, 'maximize': False, 'foreach': None, 'capturable': False, 'differentiable': False, 'fused': None, 'initial_lr': 0.001, 'params': [0]}\n",
      "range(0, 103)\n",
      "  batch 10 loss: 0.014821239933371543\n",
      "  batch 20 loss: 0.013459574338048697\n",
      "  batch 30 loss: 0.015037623047828675\n",
      "  batch 40 loss: 0.015187061112374067\n",
      "  batch 50 loss: 0.015045222546905278\n",
      "  batch 60 loss: 0.016363765811547637\n",
      "  batch 70 loss: 0.012745978869497776\n",
      "  batch 80 loss: 0.009406932024285197\n",
      "  batch 90 loss: 0.011015287134796381\n",
      "  batch 100 loss: 0.01036169878207147\n",
      "{'lr': 0.000531441, 'betas': (0.9, 0.999), 'eps': 1e-08, 'weight_decay': 0, 'amsgrad': False, 'maximize': False, 'foreach': None, 'capturable': False, 'differentiable': False, 'fused': None, 'initial_lr': 0.001, 'params': [0]}\n",
      "range(0, 103)\n",
      "  batch 10 loss: 0.010537209454923868\n",
      "  batch 20 loss: 0.009115083143115044\n",
      "  batch 30 loss: 0.012202756013721228\n",
      "  batch 40 loss: 0.013652418693527579\n",
      "  batch 50 loss: 0.010633095167577267\n",
      "  batch 60 loss: 0.010505147650837899\n",
      "  batch 70 loss: 0.009136938117444515\n",
      "  batch 80 loss: 0.006338461069390178\n",
      "  batch 90 loss: 0.00876668021082878\n",
      "  batch 100 loss: 0.007659350242465735\n",
      "{'lr': 0.0004782969, 'betas': (0.9, 0.999), 'eps': 1e-08, 'weight_decay': 0, 'amsgrad': False, 'maximize': False, 'foreach': None, 'capturable': False, 'differentiable': False, 'fused': None, 'initial_lr': 0.001, 'params': [0]}\n",
      "range(0, 103)\n",
      "  batch 10 loss: 0.007927816407755018\n",
      "  batch 20 loss: 0.006873164279386401\n",
      "  batch 30 loss: 0.008843899704515934\n",
      "  batch 40 loss: 0.00931640607304871\n",
      "  batch 50 loss: 0.007766129588708282\n",
      "  batch 60 loss: 0.0073953119572252035\n",
      "  batch 70 loss: 0.00686156761366874\n",
      "  batch 80 loss: 0.005499162338674068\n",
      "  batch 90 loss: 0.006803320720791817\n",
      "  batch 100 loss: 0.0064507998991757635\n",
      "{'lr': 0.00043046721, 'betas': (0.9, 0.999), 'eps': 1e-08, 'weight_decay': 0, 'amsgrad': False, 'maximize': False, 'foreach': None, 'capturable': False, 'differentiable': False, 'fused': None, 'initial_lr': 0.001, 'params': [0]}\n",
      "range(0, 103)\n",
      "  batch 10 loss: 0.00677289143204689\n",
      "  batch 20 loss: 0.005522515927441418\n",
      "  batch 30 loss: 0.006580576649866998\n",
      "  batch 40 loss: 0.006872555357404053\n",
      "  batch 50 loss: 0.006177655979990959\n",
      "  batch 60 loss: 0.006298948731273413\n",
      "  batch 70 loss: 0.0060147085227072235\n",
      "  batch 80 loss: 0.0048597970046103\n",
      "  batch 90 loss: 0.005740494374185801\n",
      "  batch 100 loss: 0.005709260073490441\n",
      "{'lr': 0.000387420489, 'betas': (0.9, 0.999), 'eps': 1e-08, 'weight_decay': 0, 'amsgrad': False, 'maximize': False, 'foreach': None, 'capturable': False, 'differentiable': False, 'fused': None, 'initial_lr': 0.001, 'params': [0]}\n",
      "range(0, 103)\n",
      "  batch 10 loss: 0.006112746242433786\n",
      "  batch 20 loss: 0.004812241368927062\n",
      "  batch 30 loss: 0.005452955933287739\n",
      "  batch 40 loss: 0.005681201489642263\n",
      "  batch 50 loss: 0.005107823293656111\n",
      "  batch 60 loss: 0.005433381162583828\n",
      "  batch 70 loss: 0.0052438506856560705\n",
      "  batch 80 loss: 0.003985401475802064\n",
      "  batch 90 loss: 0.004863277566619218\n",
      "  batch 100 loss: 0.005100176483392715\n",
      "{'lr': 0.0003486784401, 'betas': (0.9, 0.999), 'eps': 1e-08, 'weight_decay': 0, 'amsgrad': False, 'maximize': False, 'foreach': None, 'capturable': False, 'differentiable': False, 'fused': None, 'initial_lr': 0.001, 'params': [0]}\n",
      "range(0, 103)\n",
      "  batch 10 loss: 0.005510160932317376\n",
      "  batch 20 loss: 0.004291227203793824\n",
      "  batch 30 loss: 0.00483511253260076\n",
      "  batch 40 loss: 0.005089580244384706\n",
      "  batch 50 loss: 0.004484819725621492\n",
      "  batch 60 loss: 0.004805649979971349\n",
      "  batch 70 loss: 0.004697892931289971\n",
      "  batch 80 loss: 0.003415071382187307\n",
      "  batch 90 loss: 0.004360002651810646\n",
      "  batch 100 loss: 0.004784750752151012\n",
      "{'lr': 0.00031381059609000004, 'betas': (0.9, 0.999), 'eps': 1e-08, 'weight_decay': 0, 'amsgrad': False, 'maximize': False, 'foreach': None, 'capturable': False, 'differentiable': False, 'fused': None, 'initial_lr': 0.001, 'params': [0]}\n",
      "range(0, 103)\n",
      "  batch 10 loss: 0.004981997609138489\n",
      "  batch 20 loss: 0.00378055686596781\n",
      "  batch 30 loss: 0.004355811257846653\n",
      "  batch 40 loss: 0.004337468603625894\n",
      "  batch 50 loss: 0.003898703132290393\n",
      "  batch 60 loss: 0.004363854858092963\n",
      "  batch 70 loss: 0.004261540924198925\n",
      "  batch 80 loss: 0.0031282369745895267\n",
      "  batch 90 loss: 0.004032680625095963\n",
      "  batch 100 loss: 0.004561023612041026\n",
      "{'lr': 0.00028242953648100003, 'betas': (0.9, 0.999), 'eps': 1e-08, 'weight_decay': 0, 'amsgrad': False, 'maximize': False, 'foreach': None, 'capturable': False, 'differentiable': False, 'fused': None, 'initial_lr': 0.001, 'params': [0]}\n",
      "range(0, 103)\n",
      "  batch 10 loss: 0.004518125276081264\n",
      "  batch 20 loss: 0.003398843004833907\n",
      "  batch 30 loss: 0.004007010348141193\n",
      "  batch 40 loss: 0.0037795333424583077\n",
      "  batch 50 loss: 0.0034515489125624297\n",
      "  batch 60 loss: 0.004067827784456313\n",
      "  batch 70 loss: 0.0039007165352813898\n",
      "  batch 80 loss: 0.00292487891856581\n",
      "  batch 90 loss: 0.003776912624016404\n",
      "  batch 100 loss: 0.004323186143301428\n",
      "{'lr': 0.00025418658283290005, 'betas': (0.9, 0.999), 'eps': 1e-08, 'weight_decay': 0, 'amsgrad': False, 'maximize': False, 'foreach': None, 'capturable': False, 'differentiable': False, 'fused': None, 'initial_lr': 0.001, 'params': [0]}\n",
      "range(0, 103)\n",
      "  batch 10 loss: 0.004133167502004653\n",
      "  batch 20 loss: 0.0031811096821911635\n",
      "  batch 30 loss: 0.0038234056206420063\n",
      "  batch 40 loss: 0.0034996096976101397\n",
      "  batch 50 loss: 0.003149518184363842\n",
      "  batch 60 loss: 0.0038206262281164525\n",
      "  batch 70 loss: 0.0036132302251644433\n",
      "  batch 80 loss: 0.0027302326634526253\n",
      "  batch 90 loss: 0.003553935373201966\n",
      "  batch 100 loss: 0.004090102470945567\n",
      "{'lr': 0.00022876792454961005, 'betas': (0.9, 0.999), 'eps': 1e-08, 'weight_decay': 0, 'amsgrad': False, 'maximize': False, 'foreach': None, 'capturable': False, 'differentiable': False, 'fused': None, 'initial_lr': 0.001, 'params': [0]}\n",
      "range(0, 103)\n",
      "  batch 10 loss: 0.0038244958384893836\n",
      "  batch 20 loss: 0.003009230422321707\n",
      "  batch 30 loss: 0.0036592837190255524\n",
      "  batch 40 loss: 0.0033165021101012825\n",
      "  batch 50 loss: 0.0029305282980203627\n",
      "  batch 60 loss: 0.0036110769491642714\n",
      "  batch 70 loss: 0.0034003663109615444\n",
      "  batch 80 loss: 0.0025838431902229786\n",
      "  batch 90 loss: 0.003348476719111204\n",
      "  batch 100 loss: 0.0038644408574327826\n",
      "{'lr': 0.00020589113209464906, 'betas': (0.9, 0.999), 'eps': 1e-08, 'weight_decay': 0, 'amsgrad': False, 'maximize': False, 'foreach': None, 'capturable': False, 'differentiable': False, 'fused': None, 'initial_lr': 0.001, 'params': [0]}\n",
      "range(0, 103)\n",
      "  batch 10 loss: 0.0035863721510395407\n",
      "  batch 20 loss: 0.0028478294610977174\n",
      "  batch 30 loss: 0.0034835844417102635\n",
      "  batch 40 loss: 0.0032016824814490976\n",
      "  batch 50 loss: 0.0027962935622781516\n",
      "  batch 60 loss: 0.003449052944779396\n",
      "  batch 70 loss: 0.0032669033273123203\n",
      "  batch 80 loss: 0.002492056239861995\n",
      "  batch 90 loss: 0.003149191429838538\n",
      "  batch 100 loss: 0.0036362060578539967\n",
      "{'lr': 0.00018530201888518417, 'betas': (0.9, 0.999), 'eps': 1e-08, 'weight_decay': 0, 'amsgrad': False, 'maximize': False, 'foreach': None, 'capturable': False, 'differentiable': False, 'fused': None, 'initial_lr': 0.001, 'params': [0]}\n",
      "range(0, 103)\n",
      "  batch 10 loss: 0.003398500685580075\n",
      "  batch 20 loss: 0.002699887694325298\n",
      "  batch 30 loss: 0.0033219356904737652\n",
      "  batch 40 loss: 0.003105358313769102\n",
      "  batch 50 loss: 0.002722650417126715\n",
      "  batch 60 loss: 0.003319962928071618\n",
      "  batch 70 loss: 0.0031825075624510647\n",
      "  batch 80 loss: 0.0024123741080984474\n",
      "  batch 90 loss: 0.0029689929098822175\n",
      "  batch 100 loss: 0.0034110019681975246\n",
      "{'lr': 0.00016677181699666576, 'betas': (0.9, 0.999), 'eps': 1e-08, 'weight_decay': 0, 'amsgrad': False, 'maximize': False, 'foreach': None, 'capturable': False, 'differentiable': False, 'fused': None, 'initial_lr': 0.001, 'params': [0]}\n",
      "range(0, 103)\n",
      "  batch 10 loss: 0.003244219720363617\n",
      "  batch 20 loss: 0.0025633346172980963\n",
      "  batch 30 loss: 0.0031687814858742057\n",
      "  batch 40 loss: 0.0029903097660280765\n",
      "  batch 50 loss: 0.002663388685323298\n",
      "  batch 60 loss: 0.0032015273347496985\n",
      "  batch 70 loss: 0.003100153838749975\n",
      "  batch 80 loss: 0.002310364379081875\n",
      "  batch 90 loss: 0.0028368479805067183\n",
      "  batch 100 loss: 0.00320750770624727\n",
      "{'lr': 0.0001500946352969992, 'betas': (0.9, 0.999), 'eps': 1e-08, 'weight_decay': 0, 'amsgrad': False, 'maximize': False, 'foreach': None, 'capturable': False, 'differentiable': False, 'fused': None, 'initial_lr': 0.001, 'params': [0]}\n",
      "range(0, 103)\n",
      "  batch 10 loss: 0.0031064455630257725\n",
      "  batch 20 loss: 0.0024311379878781737\n",
      "  batch 30 loss: 0.0030063090613111853\n",
      "  batch 40 loss: 0.0028493195190094412\n",
      "  batch 50 loss: 0.0025819403934292497\n",
      "  batch 60 loss: 0.0030755244195461275\n",
      "  batch 70 loss: 0.002982426329981536\n",
      "  batch 80 loss: 0.0021772077539935707\n",
      "  batch 90 loss: 0.002739686018321663\n",
      "  batch 100 loss: 0.0030461046961136164\n",
      "{'lr': 0.0001350851717672993, 'betas': (0.9, 0.999), 'eps': 1e-08, 'weight_decay': 0, 'amsgrad': False, 'maximize': False, 'foreach': None, 'capturable': False, 'differentiable': False, 'fused': None, 'initial_lr': 0.001, 'params': [0]}\n"
     ]
    }
   ],
   "source": [
    "epoch_index = 1\n",
    "train_loss = []\n",
    "for epoch_index, epoch in enumerate(range(20)):\n",
    "    train_loss.append(train_one_epoch(koopkernelmodel, optimizer, loss_koopkernel, scheduler, epoch_index, tb_writer, tensor_context_inps, tensor_context_tgts))\n"
   ]
  },
  {
   "cell_type": "code",
   "execution_count": 19,
   "metadata": {},
   "outputs": [
    {
     "data": {
      "text/plain": [
       "103"
      ]
     },
     "execution_count": 19,
     "metadata": {},
     "output_type": "execute_result"
    }
   ],
   "source": [
    "tensor_context_inps.shape[1]"
   ]
  },
  {
   "cell_type": "code",
   "execution_count": 20,
   "metadata": {},
   "outputs": [],
   "source": [
    "i = 13\n",
    "inputs, labels = tensor_context_inps[:,i], tensor_context_tgts[:,i]"
   ]
  },
  {
   "cell_type": "code",
   "execution_count": 21,
   "metadata": {},
   "outputs": [
    {
     "data": {
      "text/plain": [
       "(torch.Size([32, 13, 5]), torch.Size([32, 13, 5]))"
      ]
     },
     "execution_count": 21,
     "metadata": {},
     "output_type": "execute_result"
    }
   ],
   "source": [
    "labels.shape, inputs.shape"
   ]
  },
  {
   "cell_type": "code",
   "execution_count": 22,
   "metadata": {},
   "outputs": [],
   "source": [
    "outs = koopkernelmodel(inputs)"
   ]
  },
  {
   "cell_type": "code",
   "execution_count": 23,
   "metadata": {},
   "outputs": [
    {
     "data": {
      "text/plain": [
       "tensor([[ 0.0624, -0.1982,  0.0308,  0.2283, -0.9807],\n",
       "        [-0.6995, -0.1657, -0.9369,  1.0254, -0.9121],\n",
       "        [ 0.3630,  0.2852, -0.5414,  0.7856, -1.0500],\n",
       "        [-0.0590,  0.2890, -0.0866,  0.2665, -0.9577],\n",
       "        [-0.2439,  0.3004, -0.6501,  0.8730, -1.0102],\n",
       "        [ 0.0321, -0.0483, -0.3308,  0.5809, -1.0201],\n",
       "        [ 0.1600,  0.8173, -0.4568,  0.6112, -0.9860],\n",
       "        [ 0.0111, -0.0944, -0.3363,  0.5920, -1.0276],\n",
       "        [-0.9784, -0.6480, -0.7237,  0.8128, -0.9419],\n",
       "        [-0.5495, -0.3140, -0.5114,  0.7514, -1.0106],\n",
       "        [-0.5373, -0.3550, -0.6262,  0.8298, -0.9677],\n",
       "        [-0.2073, -0.2946, -0.6102,  0.8675, -1.0914],\n",
       "        [-0.2077, -0.5895, -0.5773,  0.8521, -1.0009],\n",
       "        [-0.3586, -0.0392, -0.8241,  0.8079,  0.0036],\n",
       "        [-0.2377, -0.1928, -0.3935,  0.7069, -1.0653],\n",
       "        [-0.6517, -0.2877, -0.2341,  0.5385, -0.9702],\n",
       "        [ 0.1955, -0.5712,  0.0190,  0.2066, -0.9792],\n",
       "        [-0.0178, -0.6375, -0.3258,  0.7002, -1.0841],\n",
       "        [-0.4997, -0.1998,  0.1508,  0.1476, -1.0314],\n",
       "        [ 0.2564, -0.6240, -0.3385,  0.6045, -1.0142],\n",
       "        [ 0.0455,  0.4278, -0.2913,  0.4710, -0.9759],\n",
       "        [-0.0446,  0.3172, -0.3446,  0.4646, -0.9976],\n",
       "        [ 0.3219,  0.1748, -0.6152,  0.7617, -0.9439],\n",
       "        [-0.2697,  0.0944, -0.0803,  0.3503, -1.0173],\n",
       "        [ 0.0927, -0.5503, -0.7682,  0.9300, -1.0973],\n",
       "        [-0.3429, -0.9023, -0.0490,  0.3674, -0.9980],\n",
       "        [ 0.0223,  0.0568, -0.2622,  0.5095, -1.0204],\n",
       "        [ 0.2766,  0.5025, -0.5663,  0.6988, -0.9860],\n",
       "        [ 0.2950, -0.5188, -0.5637,  0.8091, -1.0755],\n",
       "        [ 0.1628, -0.5358,  0.0515,  0.1867, -0.9808],\n",
       "        [ 0.0981, -0.5224,  0.0726,  0.2223, -0.9986],\n",
       "        [-0.6450, -0.1142, -0.3100,  0.5904, -0.9934]], device='cuda:0',\n",
       "       grad_fn=<ViewBackward0>)"
      ]
     },
     "execution_count": 23,
     "metadata": {},
     "output_type": "execute_result"
    }
   ],
   "source": [
    "outs"
   ]
  },
  {
   "cell_type": "code",
   "execution_count": 24,
   "metadata": {},
   "outputs": [
    {
     "data": {
      "text/plain": [
       "tensor([[[ 0.1219, -0.4886,  0.0323,  0.2031, -1.0000],\n",
       "         [ 0.1132, -0.4719,  0.0323,  0.2031, -1.0000],\n",
       "         [ 0.1069, -0.4532,  0.0323,  0.2031, -1.0000],\n",
       "         ...,\n",
       "         [ 0.0689, -0.2640,  0.0323,  0.2031, -1.0000],\n",
       "         [ 0.0689, -0.2308,  0.0323,  0.2031, -1.0000],\n",
       "         [ 0.0705, -0.2017,  0.0323,  0.2031, -1.0000]],\n",
       "\n",
       "        [[-0.5978, -0.1601, -0.6129,  0.8438, -1.0000],\n",
       "         [-0.6057, -0.1476, -0.4839,  0.8125, -1.0000],\n",
       "         [-0.6176, -0.1476, -0.5484,  0.8125, -1.0000],\n",
       "         ...,\n",
       "         [-0.6793, -0.1642, -0.8387,  0.8906, -1.0000],\n",
       "         [-0.6833, -0.1642, -0.8710,  0.9062, -1.0000],\n",
       "         [-0.6888, -0.1642, -0.8710,  0.9062, -1.0000]],\n",
       "\n",
       "        [[ 0.1370,  0.1081, -0.2581,  0.5234, -1.0000],\n",
       "         [ 0.1576,  0.1102, -0.2258,  0.5156, -1.0000],\n",
       "         [ 0.1781,  0.1123, -0.2258,  0.4844, -1.0000],\n",
       "         ...,\n",
       "         [ 0.3500,  0.2245, -0.4516,  0.6797, -1.0000],\n",
       "         [ 0.3729,  0.2599, -0.5484,  0.7188, -1.0000],\n",
       "         [ 0.3959,  0.2911, -0.5806,  0.7422, -1.0000]],\n",
       "\n",
       "        ...,\n",
       "\n",
       "        [[ 0.2692, -0.6195, -0.0968,  0.2812, -1.0000],\n",
       "         [ 0.2637, -0.6091, -0.0968,  0.2812, -1.0000],\n",
       "         [ 0.2549, -0.6029, -0.0968,  0.2812, -1.0000],\n",
       "         ...,\n",
       "         [ 0.1758, -0.5572,  0.0323,  0.2031, -1.0000],\n",
       "         [ 0.1655, -0.5468,  0.0323,  0.2031, -1.0000],\n",
       "         [ 0.1560, -0.5385,  0.0323,  0.2031, -1.0000]],\n",
       "\n",
       "        [[ 0.1259, -0.6944,  0.4194, -0.1562, -1.0000],\n",
       "         [ 0.1211, -0.6798,  0.4194, -0.1250, -1.0000],\n",
       "         [ 0.1172, -0.6632,  0.3871, -0.0938, -1.0000],\n",
       "         ...,\n",
       "         [ 0.0966, -0.5509,  0.1290,  0.1953, -1.0000],\n",
       "         [ 0.0958, -0.5385,  0.0968,  0.2188, -1.0000],\n",
       "         [ 0.0942, -0.5198,  0.0645,  0.2344, -1.0000]],\n",
       "\n",
       "        [[-0.5566, -0.2599, -0.5484,  0.7656, -1.0000],\n",
       "         [-0.5622, -0.2578, -0.5161,  0.7734, -1.0000],\n",
       "         [-0.5677, -0.2557, -0.4839,  0.7812, -1.0000],\n",
       "         ...,\n",
       "         [-0.6105, -0.1642, -0.1613,  0.6719, -1.0000],\n",
       "         [-0.6144, -0.1518, -0.1613,  0.6328, -1.0000],\n",
       "         [-0.6184, -0.1393, -0.1613,  0.5938, -1.0000]]], device='cuda:0')"
      ]
     },
     "execution_count": 24,
     "metadata": {},
     "output_type": "execute_result"
    }
   ],
   "source": [
    "labels"
   ]
  },
  {
   "cell_type": "code",
   "execution_count": 25,
   "metadata": {},
   "outputs": [
    {
     "name": "stderr",
     "output_type": "stream",
     "text": [
      "/home/ecjb/projects/koopman_learning_tropical_cyclone/klearn_tcyclone/koopkernel_seq2seq.py:294: UserWarning: Using a target size (torch.Size([32, 13, 5])) that is different to the input size (torch.Size([32, 5])). This will likely lead to incorrect results due to broadcasting. Please ensure they have the same size.\n",
      "  return F.mse_loss(input, target_transformed, reduction=self.reduction)\n"
     ]
    },
    {
     "ename": "RuntimeError",
     "evalue": "The size of tensor a (32) must match the size of tensor b (13) at non-singleton dimension 1",
     "output_type": "error",
     "traceback": [
      "\u001b[0;31m---------------------------------------------------------------------------\u001b[0m",
      "\u001b[0;31mRuntimeError\u001b[0m                              Traceback (most recent call last)",
      "Cell \u001b[0;32mIn[25], line 1\u001b[0m\n\u001b[0;32m----> 1\u001b[0m loss \u001b[38;5;241m=\u001b[39m \u001b[43mloss_koopkernel\u001b[49m\u001b[43m(\u001b[49m\u001b[43mouts\u001b[49m\u001b[43m,\u001b[49m\u001b[43m \u001b[49m\u001b[43mlabels\u001b[49m\u001b[43m)\u001b[49m\n\u001b[1;32m      2\u001b[0m loss\n",
      "File \u001b[0;32m~/projects/koopman_learning_tropical_cyclone/.venv/lib/python3.11/site-packages/torch/nn/modules/module.py:1736\u001b[0m, in \u001b[0;36mModule._wrapped_call_impl\u001b[0;34m(self, *args, **kwargs)\u001b[0m\n\u001b[1;32m   1734\u001b[0m     \u001b[38;5;28;01mreturn\u001b[39;00m \u001b[38;5;28mself\u001b[39m\u001b[38;5;241m.\u001b[39m_compiled_call_impl(\u001b[38;5;241m*\u001b[39margs, \u001b[38;5;241m*\u001b[39m\u001b[38;5;241m*\u001b[39mkwargs)  \u001b[38;5;66;03m# type: ignore[misc]\u001b[39;00m\n\u001b[1;32m   1735\u001b[0m \u001b[38;5;28;01melse\u001b[39;00m:\n\u001b[0;32m-> 1736\u001b[0m     \u001b[38;5;28;01mreturn\u001b[39;00m \u001b[38;5;28;43mself\u001b[39;49m\u001b[38;5;241;43m.\u001b[39;49m\u001b[43m_call_impl\u001b[49m\u001b[43m(\u001b[49m\u001b[38;5;241;43m*\u001b[39;49m\u001b[43margs\u001b[49m\u001b[43m,\u001b[49m\u001b[43m \u001b[49m\u001b[38;5;241;43m*\u001b[39;49m\u001b[38;5;241;43m*\u001b[39;49m\u001b[43mkwargs\u001b[49m\u001b[43m)\u001b[49m\n",
      "File \u001b[0;32m~/projects/koopman_learning_tropical_cyclone/.venv/lib/python3.11/site-packages/torch/nn/modules/module.py:1747\u001b[0m, in \u001b[0;36mModule._call_impl\u001b[0;34m(self, *args, **kwargs)\u001b[0m\n\u001b[1;32m   1742\u001b[0m \u001b[38;5;66;03m# If we don't have any hooks, we want to skip the rest of the logic in\u001b[39;00m\n\u001b[1;32m   1743\u001b[0m \u001b[38;5;66;03m# this function, and just call forward.\u001b[39;00m\n\u001b[1;32m   1744\u001b[0m \u001b[38;5;28;01mif\u001b[39;00m \u001b[38;5;129;01mnot\u001b[39;00m (\u001b[38;5;28mself\u001b[39m\u001b[38;5;241m.\u001b[39m_backward_hooks \u001b[38;5;129;01mor\u001b[39;00m \u001b[38;5;28mself\u001b[39m\u001b[38;5;241m.\u001b[39m_backward_pre_hooks \u001b[38;5;129;01mor\u001b[39;00m \u001b[38;5;28mself\u001b[39m\u001b[38;5;241m.\u001b[39m_forward_hooks \u001b[38;5;129;01mor\u001b[39;00m \u001b[38;5;28mself\u001b[39m\u001b[38;5;241m.\u001b[39m_forward_pre_hooks\n\u001b[1;32m   1745\u001b[0m         \u001b[38;5;129;01mor\u001b[39;00m _global_backward_pre_hooks \u001b[38;5;129;01mor\u001b[39;00m _global_backward_hooks\n\u001b[1;32m   1746\u001b[0m         \u001b[38;5;129;01mor\u001b[39;00m _global_forward_hooks \u001b[38;5;129;01mor\u001b[39;00m _global_forward_pre_hooks):\n\u001b[0;32m-> 1747\u001b[0m     \u001b[38;5;28;01mreturn\u001b[39;00m \u001b[43mforward_call\u001b[49m\u001b[43m(\u001b[49m\u001b[38;5;241;43m*\u001b[39;49m\u001b[43margs\u001b[49m\u001b[43m,\u001b[49m\u001b[43m \u001b[49m\u001b[38;5;241;43m*\u001b[39;49m\u001b[38;5;241;43m*\u001b[39;49m\u001b[43mkwargs\u001b[49m\u001b[43m)\u001b[49m\n\u001b[1;32m   1749\u001b[0m result \u001b[38;5;241m=\u001b[39m \u001b[38;5;28;01mNone\u001b[39;00m\n\u001b[1;32m   1750\u001b[0m called_always_called_hooks \u001b[38;5;241m=\u001b[39m \u001b[38;5;28mset\u001b[39m()\n",
      "File \u001b[0;32m~/projects/koopman_learning_tropical_cyclone/klearn_tcyclone/koopkernel_seq2seq.py:294\u001b[0m, in \u001b[0;36mKoopKernelLoss.forward\u001b[0;34m(self, input, target)\u001b[0m\n\u001b[1;32m    283\u001b[0m \u001b[38;5;66;03m# kernel_nysY_Y = self._kernel(self.nystrom_data_Y, target)\u001b[39;00m\n\u001b[1;32m    284\u001b[0m \u001b[38;5;66;03m# # shape: (batch_size, num_nys_centers, input_length)\u001b[39;00m\n\u001b[1;32m    285\u001b[0m \n\u001b[0;32m   (...)\u001b[0m\n\u001b[1;32m    289\u001b[0m \u001b[38;5;66;03m# # shape: (num_nys_centers, num_feats), (batch_size, num_nys_centers, input_length)\u001b[39;00m\n\u001b[1;32m    290\u001b[0m \u001b[38;5;66;03m# # -> (batch_size, input_length, num_feats)\u001b[39;00m\n\u001b[1;32m    292\u001b[0m target_transformed \u001b[38;5;241m=\u001b[39m target\n\u001b[0;32m--> 294\u001b[0m \u001b[38;5;28;01mreturn\u001b[39;00m \u001b[43mF\u001b[49m\u001b[38;5;241;43m.\u001b[39;49m\u001b[43mmse_loss\u001b[49m\u001b[43m(\u001b[49m\u001b[38;5;28;43minput\u001b[39;49m\u001b[43m,\u001b[49m\u001b[43m \u001b[49m\u001b[43mtarget_transformed\u001b[49m\u001b[43m,\u001b[49m\u001b[43m \u001b[49m\u001b[43mreduction\u001b[49m\u001b[38;5;241;43m=\u001b[39;49m\u001b[38;5;28;43mself\u001b[39;49m\u001b[38;5;241;43m.\u001b[39;49m\u001b[43mreduction\u001b[49m\u001b[43m)\u001b[49m\n",
      "File \u001b[0;32m~/projects/koopman_learning_tropical_cyclone/.venv/lib/python3.11/site-packages/torch/nn/functional.py:3791\u001b[0m, in \u001b[0;36mmse_loss\u001b[0;34m(input, target, size_average, reduce, reduction)\u001b[0m\n\u001b[1;32m   3788\u001b[0m \u001b[38;5;28;01mif\u001b[39;00m size_average \u001b[38;5;129;01mis\u001b[39;00m \u001b[38;5;129;01mnot\u001b[39;00m \u001b[38;5;28;01mNone\u001b[39;00m \u001b[38;5;129;01mor\u001b[39;00m reduce \u001b[38;5;129;01mis\u001b[39;00m \u001b[38;5;129;01mnot\u001b[39;00m \u001b[38;5;28;01mNone\u001b[39;00m:\n\u001b[1;32m   3789\u001b[0m     reduction \u001b[38;5;241m=\u001b[39m _Reduction\u001b[38;5;241m.\u001b[39mlegacy_get_string(size_average, reduce)\n\u001b[0;32m-> 3791\u001b[0m expanded_input, expanded_target \u001b[38;5;241m=\u001b[39m \u001b[43mtorch\u001b[49m\u001b[38;5;241;43m.\u001b[39;49m\u001b[43mbroadcast_tensors\u001b[49m\u001b[43m(\u001b[49m\u001b[38;5;28;43minput\u001b[39;49m\u001b[43m,\u001b[49m\u001b[43m \u001b[49m\u001b[43mtarget\u001b[49m\u001b[43m)\u001b[49m\n\u001b[1;32m   3792\u001b[0m \u001b[38;5;28;01mreturn\u001b[39;00m torch\u001b[38;5;241m.\u001b[39m_C\u001b[38;5;241m.\u001b[39m_nn\u001b[38;5;241m.\u001b[39mmse_loss(\n\u001b[1;32m   3793\u001b[0m     expanded_input, expanded_target, _Reduction\u001b[38;5;241m.\u001b[39mget_enum(reduction)\n\u001b[1;32m   3794\u001b[0m )\n",
      "File \u001b[0;32m~/projects/koopman_learning_tropical_cyclone/.venv/lib/python3.11/site-packages/torch/functional.py:76\u001b[0m, in \u001b[0;36mbroadcast_tensors\u001b[0;34m(*tensors)\u001b[0m\n\u001b[1;32m     74\u001b[0m \u001b[38;5;28;01mif\u001b[39;00m has_torch_function(tensors):\n\u001b[1;32m     75\u001b[0m     \u001b[38;5;28;01mreturn\u001b[39;00m handle_torch_function(broadcast_tensors, tensors, \u001b[38;5;241m*\u001b[39mtensors)\n\u001b[0;32m---> 76\u001b[0m \u001b[38;5;28;01mreturn\u001b[39;00m \u001b[43m_VF\u001b[49m\u001b[38;5;241;43m.\u001b[39;49m\u001b[43mbroadcast_tensors\u001b[49m\u001b[43m(\u001b[49m\u001b[43mtensors\u001b[49m\u001b[43m)\u001b[49m\n",
      "\u001b[0;31mRuntimeError\u001b[0m: The size of tensor a (32) must match the size of tensor b (13) at non-singleton dimension 1"
     ]
    }
   ],
   "source": [
    "loss = loss_koopkernel(outs, labels)\n",
    "loss"
   ]
  },
  {
   "cell_type": "code",
   "execution_count": null,
   "metadata": {},
   "outputs": [],
   "source": []
  },
  {
   "cell_type": "code",
   "execution_count": 26,
   "metadata": {},
   "outputs": [],
   "source": [
    "\"\"\"Utils for Koopman model.\"\"\"\n",
    "from matplotlib import pyplot as plt\n",
    "import copy\n",
    "from matplotlib.axes._axes import Axes\n",
    "\n",
    "from klearn_tcyclone.KNF.modules.models import Koopman\n",
    "import torch\n",
    "\n",
    "device = torch.device(\"cuda\" if torch.cuda.is_available() else \"cpu\")\n",
    "\n",
    "def predict_koopman_seq2seq_model(\n",
    "    time_series: torch.Tensor,\n",
    "    prediction_steps: int,\n",
    "    model: KoopmanKernelSeq2Seq,\n",
    "):\n",
    "    assert len(time_series.shape) == 2\n",
    "    # tgts_dummy only needed to set the number of predicted time steps by model.\n",
    "    \"\"\"\n",
    "    Note: The model performs a number of single_forward steps, each predicting\n",
    "    `num_steps` future time steps, such that the total number of predicted time steps is\n",
    "    larger than `tgts.shape[1]`, i.e. `prediction_steps` or the `output_length` of the\n",
    "    dataset. In the end only the first `output_length` predicted data points are given\n",
    "    as output, the remaining (further) steps are discarded.\n",
    "    \"\"\"\n",
    "    if model.context_mode == \"no_context\":\n",
    "        time_series_unsqueeze = time_series.unsqueeze(0).to(device)\n",
    "    elif model.context_mode == \"full_context\":\n",
    "        time_series_unsqueeze = time_series[-model.input_length:].unsqueeze(0).to(device)\n",
    "    if model.context_mode == \"last_context\":\n",
    "        time_series_unsqueeze = time_series[-model.input_length:].unsqueeze(0).to(device)\n",
    "    # outs_list = []\n",
    "    prediction = time_series_unsqueeze\n",
    "    # outs_list.append(prediction)\n",
    "    for _ in range(prediction_steps):\n",
    "        new_prediction = model(prediction)\n",
    "        new_prediction = new_prediction.unsqueeze(1).to(device)\n",
    "        if model.context_mode == \"last_context\":\n",
    "            prediction = torch.cat([prediction[:,1:], new_prediction], dim=1)\n",
    "        else:\n",
    "            prediction = torch.cat([prediction[:,1:], new_prediction[:,-1:]], dim=1)\n",
    "        # outs_list.append(prediction)\n",
    "\n",
    "    res = prediction[0,-prediction_steps:]\n",
    "    return res\n",
    "\n",
    "\n",
    "from klearn_tcyclone.plot_utils import plot_TCTrackDataset_item_2D\n",
    "\n",
    "def plot_TCTrackDataset_item_2D_with_prediction_koopman_seq2seq(\n",
    "    tc_tracks_dataset: TCTrackDataset,\n",
    "    idx: int,\n",
    "    prediction_steps,\n",
    "    model,\n",
    "    ax: Axes,\n",
    "    color: str,\n",
    "    dimensions: tuple[int, int] = (0, 1),\n",
    "):\n",
    "    plot_TCTrackDataset_item_2D(tc_tracks_dataset, idx, ax, color, dimensions)\n",
    "    time_series, _ = tc_tracks_dataset[idx]\n",
    "    predictions = predict_koopman_seq2seq_model(\n",
    "        time_series, prediction_steps, model\n",
    "    )\n",
    "    predictions = predictions.cpu().data.numpy()\n",
    "    ax.plot(\n",
    "        predictions[:, dimensions[0]],\n",
    "        predictions[:, dimensions[1]],\n",
    "        marker=\"s\",\n",
    "        color=color,\n",
    "    )\n"
   ]
  },
  {
   "cell_type": "code",
   "execution_count": 27,
   "metadata": {},
   "outputs": [
    {
     "data": {
      "image/png": "[encoded data removed]",
      "text/plain": [
       "<Figure size 640x480 with 1 Axes>"
      ]
     },
     "metadata": {},
     "output_type": "display_data"
    }
   ],
   "source": [
    "fig, ax = plt.subplots()\n",
    "for i, idx in enumerate(np.random.randint(0, len(train_set), 7)):\n",
    "    plot_TCTrackDataset_item_2D(train_set, idx, ax, color=f\"C{i}\")"
   ]
  },
  {
   "cell_type": "code",
   "execution_count": null,
   "metadata": {},
   "outputs": [],
   "source": []
  },
  {
   "cell_type": "code",
   "execution_count": 28,
   "metadata": {},
   "outputs": [],
   "source": [
    "# i = 13\n",
    "# inputs, labels = tensor_context_inps[:,i], tensor_context_tgts[:,i]"
   ]
  },
  {
   "cell_type": "code",
   "execution_count": 29,
   "metadata": {},
   "outputs": [],
   "source": [
    "idx = 1\n",
    "time_series, _ = train_set[idx]\n",
    "time_series_unsqueeze = time_series[-koopkernelmodel.input_length:].unsqueeze(0).to(device)\n",
    "outs = time_series_unsqueeze"
   ]
  },
  {
   "cell_type": "code",
   "execution_count": 30,
   "metadata": {},
   "outputs": [],
   "source": [
    "prediction_steps = 3\n",
    "res_list = predict_koopman_seq2seq_model(time_series, prediction_steps=prediction_steps, model=koopkernelmodel)"
   ]
  },
  {
   "cell_type": "code",
   "execution_count": 31,
   "metadata": {},
   "outputs": [
    {
     "data": {
      "text/plain": [
       "(tensor([[ 0.0301,  0.1289, -0.2903,  0.6328, -1.0000],\n",
       "         [ 0.0388,  0.1351, -0.2903,  0.6406, -1.0000],\n",
       "         [ 0.0499,  0.1414, -0.2903,  0.6562, -1.0000],\n",
       "         [ 0.0610,  0.1476, -0.2903,  0.6719, -1.0000],\n",
       "         [ 0.0721,  0.1601, -0.2903,  0.6797, -1.0000],\n",
       "         [ 0.0831,  0.1726, -0.2903,  0.6875, -1.0000],\n",
       "         [ 0.0966,  0.1809, -0.2903,  0.6953, -1.0000],\n",
       "         [ 0.1101,  0.1892, -0.2903,  0.7031, -1.0000],\n",
       "         [ 0.1211,  0.1975, -0.3548,  0.7109, -1.0000],\n",
       "         [ 0.1322,  0.2058, -0.4194,  0.7188, -1.0000],\n",
       "         [ 0.1449,  0.2141, -0.4839,  0.7500, -1.0000],\n",
       "         [ 0.1576,  0.2225, -0.5484,  0.7812, -1.0000],\n",
       "         [ 0.1750,  0.2266, -0.6129,  0.8047, -1.0000],\n",
       "         [ 0.1924,  0.2308, -0.6774,  0.8281, -1.0000]]),\n",
       " tensor([[ 0.1467,  0.1916, -0.6607,  0.8610, -1.0334],\n",
       "         [ 0.1583,  0.1962, -0.7138,  0.9103, -1.0567],\n",
       "         [ 0.1652,  0.1963, -0.7342,  0.9257, -1.0562]], device='cuda:0',\n",
       "        grad_fn=<SliceBackward0>))"
      ]
     },
     "execution_count": 31,
     "metadata": {},
     "output_type": "execute_result"
    }
   ],
   "source": [
    "time_series, res_list"
   ]
  },
  {
   "cell_type": "code",
   "execution_count": 36,
   "metadata": {},
   "outputs": [
    {
     "data": {
      "image/png": "[encoded data removed]",
      "text/plain": [
       "<Figure size 640x480 with 1 Axes>"
      ]
     },
     "metadata": {},
     "output_type": "display_data"
    }
   ],
   "source": [
    "prediction_steps = 3\n",
    "\n",
    "fig, ax = plt.subplots()\n",
    "for i, idx in enumerate(np.random.randint(0, len(train_set), 5)):\n",
    "\n",
    "    plot_TCTrackDataset_item_2D_with_prediction_koopman_seq2seq(\n",
    "        train_set,\n",
    "        idx,\n",
    "        prediction_steps=prediction_steps,\n",
    "        model=koopkernelmodel,\n",
    "        ax=ax,\n",
    "        color=f\"C{i}\"\n",
    "    )\n",
    "\n",
    "# ax.set_xlim(-1, 1)\n",
    "# ax.set_ylim(-1, 1)\n",
    "# ax.set_xlim(-6,-5)\n",
    "# ax.set_ylim(-9.25,-9)"
   ]
  },
  {
   "cell_type": "code",
   "execution_count": null,
   "metadata": {},
   "outputs": [],
   "source": []
  },
  {
   "cell_type": "code",
   "execution_count": null,
   "metadata": {},
   "outputs": [],
   "source": []
  }
 ],
 "metadata": {
  "kernelspec": {
   "display_name": ".venv",
   "language": "python",
   "name": "python3"
  },
  "language_info": {
   "codemirror_mode": {
    "name": "ipython",
    "version": 3
   },
   "file_extension": ".py",
   "mimetype": "text/x-python",
   "name": "python",
   "nbconvert_exporter": "python",
   "pygments_lexer": "ipython3",
   "version": "3.11.9"
  }
 },
 "nbformat": 4,
 "nbformat_minor": 2
}
