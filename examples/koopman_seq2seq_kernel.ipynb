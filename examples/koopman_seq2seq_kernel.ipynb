{
 "cells": [
  {
   "cell_type": "markdown",
   "metadata": {},
   "source": [
    "# Koopman Seq2Seq model\n",
    "\n",
    "[work in progress]\n",
    "\n",
    "Here I develop a new ML architecture, combining Koopman kernel methods with a seq2seq architecture."
   ]
  },
  {
   "cell_type": "code",
   "execution_count": 1,
   "metadata": {},
   "outputs": [],
   "source": [
    "import os\n",
    "import random\n",
    "import time\n",
    "\n",
    "import numpy as np\n",
    "import torch\n",
    "from absl import app\n",
    "# from klearn_tcyclone.training_utils.args import FLAGS, ALL_FLAGS\n",
    "from klearn_tcyclone.training_utils.training_utils import get_default_flag_values\n",
    "from sklearn.model_selection import train_test_split\n",
    "from torch import nn\n",
    "from torch.utils import data\n",
    "\n",
    "from klearn_tcyclone.climada.tc_tracks import TCTracks\n",
    "from klearn_tcyclone.data_utils import (\n",
    "    LinearScaler,\n",
    ")\n",
    "from klearn_tcyclone.KNF.modules.eval_metrics import RMSE_TCTracks\n",
    "from klearn_tcyclone.KNF.modules.models import Koopman\n",
    "from klearn_tcyclone.KNF.modules.train_utils import (\n",
    "    eval_epoch_koopman,\n",
    "    train_epoch_koopman,\n",
    ")\n",
    "from klearn_tcyclone.knf_data_utils import TCTrackDataset\n",
    "from klearn_tcyclone.training_utils.training_utils import set_flags\n",
    "from absl import app, flags\n",
    "\n",
    "from klearn_tcyclone.training_utils.training_utils import extend_by_default_flag_values\n",
    "\n",
    "from klearn_tcyclone.koopkernel_seq2seq import KoopmanKernelSeq2Seq, RBFKernel\n",
    "from klearn_tcyclone.koopkernel_seq2seq import KoopKernelLoss, batch_tensor_context\n"
   ]
  },
  {
   "cell_type": "code",
   "execution_count": 2,
   "metadata": {},
   "outputs": [],
   "source": [
    "from klearn_tcyclone.data_utils import (\n",
    "    load_model,\n",
    "    standardized_context_dataset_from_TCTracks,\n",
    ")\n",
    "\n",
    "from torch.utils.tensorboard import SummaryWriter\n",
    "from datetime import datetime\n",
    "from matplotlib import pyplot as plt\n",
    "\n",
    "\n",
    "from matplotlib import pyplot as plt\n",
    "import copy\n",
    "from matplotlib.axes._axes import Axes\n",
    "\n",
    "from klearn_tcyclone.KNF.modules.models import Koopman\n",
    "import torch"
   ]
  },
  {
   "cell_type": "markdown",
   "metadata": {},
   "source": [
    "## Import data"
   ]
  },
  {
   "cell_type": "markdown",
   "metadata": {},
   "source": [
    "Set some specific parameters and load default values for all other parameters."
   ]
  },
  {
   "cell_type": "code",
   "execution_count": 3,
   "metadata": {},
   "outputs": [],
   "source": [
    "flag_params = {\n",
    "    # \"seed\": 42,\n",
    "    \"year_range\": [1980, 1988],\n",
    "    # \"batch_size\": 16,\n",
    "    \"num_epochs\": 20,\n",
    "    \"train_output_length\": 1,\n",
    "    \"test_output_length\": 1,\n",
    "    \"input_length\": 13,\n",
    "    \"context_length\": 14,\n",
    "}\n",
    "flag_params = extend_by_default_flag_values(flag_params)\n",
    "\n",
    "assert flag_params[\"context_length\"] == flag_params[\"input_length\"] + flag_params[\"train_output_length\"]"
   ]
  },
  {
   "cell_type": "code",
   "execution_count": 4,
   "metadata": {},
   "outputs": [
    {
     "name": "stdout",
     "output_type": "stream",
     "text": [
      "Device cuda\n"
     ]
    }
   ],
   "source": [
    "random.seed(flag_params[\"seed\"])  # python random generator\n",
    "np.random.seed(flag_params[\"seed\"])  # numpy random generator\n",
    "\n",
    "torch.manual_seed(flag_params[\"seed\"])\n",
    "torch.cuda.manual_seed_all(flag_params[\"seed\"])\n",
    "\n",
    "torch.backends.cudnn.deterministic = True\n",
    "torch.backends.cudnn.benchmark = False\n",
    "\n",
    "feature_list = [\n",
    "    \"lon\",\n",
    "    \"lat\",\n",
    "    \"max_sustained_wind\",\n",
    "    # \"radius_max_wind\",\n",
    "    # \"radius_oci\",\n",
    "    \"central_pressure\",\n",
    "    \"environmental_pressure\",\n",
    "]\n",
    "\n",
    "# feature_list = [\n",
    "#     \"lon\",\n",
    "#     \"lat\",\n",
    "#     \"max_sustained_wind\",\n",
    "#     \"radius_max_wind\",\n",
    "#     \"radius_oci\",\n",
    "#     \"central_pressure\",\n",
    "#     \"environmental_pressure\",\n",
    "# ]\n",
    "\n",
    "# these are not contained as flags\n",
    "# encoder_hidden_dim = flag_params[\"hidden_dim\"]\n",
    "# decoder_hidden_dim = flag_params[\"hidden_dim\"]\n",
    "# encoder_num_layers = flag_params[\"num_layers\"]\n",
    "# decoder_num_layers = flag_params[\"num_layers\"]\n",
    "\n",
    "output_dim = flag_params[\"input_dim\"]\n",
    "num_feats = len(feature_list)\n",
    "learning_rate = flag_params[\"learning_rate\"]\n",
    "# ---------------\n",
    "\n",
    "device = torch.device(\"cuda\" if torch.cuda.is_available() else \"cpu\")\n",
    "print(\"Device\", device)\n",
    "\n",
    "scaler = LinearScaler()\n",
    "eval_metric = RMSE_TCTracks"
   ]
  },
  {
   "cell_type": "code",
   "execution_count": 5,
   "metadata": {},
   "outputs": [
    {
     "name": "stdout",
     "output_type": "stream",
     "text": [
      "2025-02-16 20:10:10,834 - climada.hazard.tc_tracks - WARNING - The cached IBTrACS data set dates from 2023-06-07 23:07:38 (older than 180 days). Very likely, a more recent version is available. Consider manually removing the file /home/ecjb/climada/data/IBTrACS.ALL.v04r00.nc and re-running this function, which will download the most recent version of the IBTrACS data set from the official URL.\n",
      "2025-02-16 20:12:41,031 - climada.hazard.tc_tracks - WARNING - 49 storm events are discarded because no valid wind/pressure values have been found: 1980199N31284, 1980200N25270, 1980204N23287, 1980226N15339, 1980238N16328, ...\n"
     ]
    },
    {
     "name": "stderr",
     "output_type": "stream",
     "text": [
      "/home/ecjb/packages/climada_python/climada/hazard/tc_tracks.py:614: FutureWarning: The return type of `Dataset.dims` will be changed to return a set of dimension names in future, in order to be more consistent with `DataArray.dims`. To access a mapping from dimension names to lengths, please use `Dataset.sizes`.\n",
      "  if ibtracs_ds.dims['storm'] == 0:\n"
     ]
    }
   ],
   "source": [
    "# Datasets\n",
    "tc_tracks = TCTracks.from_ibtracs_netcdf(\n",
    "    provider=\"official\",\n",
    "    year_range=flag_params[\"year_range\"],\n",
    "    basin=\"NA\",\n",
    ")\n",
    "\n",
    "tc_tracks_train, tc_tracks_test = train_test_split(tc_tracks.data, test_size=0.1)"
   ]
  },
  {
   "cell_type": "code",
   "execution_count": 6,
   "metadata": {},
   "outputs": [
    {
     "data": {
      "text/plain": [
       "(73,\n",
       " <xarray.Dataset> Size: 8kB\n",
       " Dimensions:                 (time: 134)\n",
       " Coordinates:\n",
       "   * time                    (time) datetime64[ns] 1kB 1986-08-13T12:00:00 ......\n",
       "     lat                     (time) float32 536B 30.1 30.45 30.8 ... 56.2 56.2\n",
       "     lon                     (time) float32 536B -84.0 -84.0 -84.0 ... 7.0 8.0\n",
       " Data variables:\n",
       "     radius_max_wind         (time) float32 536B 0.0 0.0 0.0 0.0 ... 0.0 0.0 0.0\n",
       "     radius_oci              (time) float32 536B 0.0 0.0 0.0 0.0 ... 0.0 0.0 0.0\n",
       "     max_sustained_wind      (time) float32 536B 10.0 10.0 10.0 ... 15.0 15.0\n",
       "     central_pressure        (time) float32 536B 1.009e+03 1.01e+03 ... 1.006e+03\n",
       "     environmental_pressure  (time) float64 1kB 1.01e+03 1.01e+03 ... 1.01e+03\n",
       "     time_step               (time) float64 1kB 3.0 3.0 3.0 3.0 ... 3.0 3.0 3.0\n",
       "     basin                   (time) <U2 1kB 'NA' 'NA' 'NA' ... 'NA' 'NA' 'NA'\n",
       " Attributes:\n",
       "     max_sustained_wind_unit:  kn\n",
       "     central_pressure_unit:    mb\n",
       "     orig_event_flag:          True\n",
       "     data_provider:            ibtracs_official\n",
       "     category:                 1\n",
       "     name:                     CHARLEY\n",
       "     sid:                      1986226N30276\n",
       "     id_no:                    1986226030276.0)"
      ]
     },
     "execution_count": 6,
     "metadata": {},
     "output_type": "execute_result"
    }
   ],
   "source": [
    "len(tc_tracks_train), tc_tracks_train[5]"
   ]
  },
  {
   "cell_type": "code",
   "execution_count": 7,
   "metadata": {},
   "outputs": [],
   "source": [
    "time_lag = 1\n",
    "scaler = LinearScaler()\n",
    "basin = \"NA\""
   ]
  },
  {
   "cell_type": "markdown",
   "metadata": {},
   "source": [
    "The idea is to feed the tensor_context_dataset into the model. Because for the kernels I need the lookback window and the shifted version of this."
   ]
  },
  {
   "cell_type": "code",
   "execution_count": 8,
   "metadata": {},
   "outputs": [
    {
     "name": "stdout",
     "output_type": "stream",
     "text": [
      "con_len set to context_length.\n"
     ]
    }
   ],
   "source": [
    "tensor_context_train_standardized = standardized_context_dataset_from_TCTracks(\n",
    "    tc_tracks_train,\n",
    "    feature_list=feature_list,\n",
    "    scaler=scaler,\n",
    "    context_length=flag_params[\"context_length\"],\n",
    "    time_lag=time_lag,\n",
    "    fit=True,\n",
    "    periodic_shift=True,\n",
    "    basin=basin,\n",
    ")"
   ]
  },
  {
   "cell_type": "code",
   "execution_count": 9,
   "metadata": {},
   "outputs": [
    {
     "data": {
      "text/plain": [
       "(3301, 14, 5)"
      ]
     },
     "execution_count": 9,
     "metadata": {},
     "output_type": "execute_result"
    }
   ],
   "source": [
    "tensor_context_train_standardized.shape"
   ]
  },
  {
   "cell_type": "code",
   "execution_count": 10,
   "metadata": {},
   "outputs": [
    {
     "data": {
      "text/plain": [
       "14"
      ]
     },
     "execution_count": 10,
     "metadata": {},
     "output_type": "execute_result"
    }
   ],
   "source": [
    "flag_params[\"context_length\"]"
   ]
  },
  {
   "cell_type": "code",
   "execution_count": 11,
   "metadata": {},
   "outputs": [
    {
     "data": {
      "text/plain": [
       "(13, 1)"
      ]
     },
     "execution_count": 11,
     "metadata": {},
     "output_type": "execute_result"
    }
   ],
   "source": [
    "flag_params[\"input_length\"], flag_params[\"train_output_length\"]"
   ]
  },
  {
   "cell_type": "code",
   "execution_count": 12,
   "metadata": {},
   "outputs": [],
   "source": [
    "train_set = TCTrackDataset(\n",
    "    input_length=flag_params[\"input_length\"],\n",
    "    output_length=flag_params[\"train_output_length\"],\n",
    "    tc_tracks=tc_tracks_train,\n",
    "    feature_list=feature_list,\n",
    "    mode=\"train\",\n",
    "    jumps=flag_params[\"jumps\"],\n",
    "    scaler=scaler,\n",
    "    fit=True,\n",
    ")\n",
    "valid_set = TCTrackDataset(\n",
    "    input_length=flag_params[\"input_length\"],\n",
    "    output_length=flag_params[\"train_output_length\"],\n",
    "    tc_tracks=tc_tracks_train,\n",
    "    feature_list=feature_list,\n",
    "    mode=\"valid\",\n",
    "    jumps=flag_params[\"jumps\"],\n",
    "    scaler=scaler,\n",
    "    fit=False,\n",
    ")\n",
    "test_set = TCTrackDataset(\n",
    "    input_length=flag_params[\"input_length\"],\n",
    "    output_length=flag_params[\"test_output_length\"],\n",
    "    tc_tracks=tc_tracks_test,\n",
    "    feature_list=feature_list,\n",
    "    mode=\"test\",\n",
    "    # jumps=flag_params[\"jumps\"], # jumps not used in test mode\n",
    "    scaler=scaler,\n",
    "    fit=False,\n",
    ")\n",
    "train_loader = data.DataLoader(\n",
    "    train_set, batch_size=flag_params[\"batch_size\"], shuffle=True, num_workers=1\n",
    ")\n",
    "valid_loader = data.DataLoader(\n",
    "    valid_set, batch_size=flag_params[\"batch_size\"], shuffle=True, num_workers=1\n",
    ")\n",
    "test_loader = data.DataLoader(\n",
    "    test_set, batch_size=flag_params[\"batch_size\"], shuffle=False, num_workers=1\n",
    ")\n",
    "\n",
    "if len(train_loader) == 0:\n",
    "    raise Exception(\n",
    "        \"There are likely too few data points in the test set. Try to increase year_range.\"\n",
    "    )"
   ]
  },
  {
   "cell_type": "markdown",
   "metadata": {},
   "source": [
    "Check why we have nan values!!!"
   ]
  },
  {
   "cell_type": "code",
   "execution_count": null,
   "metadata": {},
   "outputs": [],
   "source": []
  },
  {
   "cell_type": "code",
   "execution_count": 13,
   "metadata": {},
   "outputs": [
    {
     "name": "stdout",
     "output_type": "stream",
     "text": [
      "0\n",
      "torch.Size([32, 13, 5]) <class 'torch.Tensor'>\n",
      "torch.Size([32, 1, 5]) <class 'torch.Tensor'>\n",
      "tensor([-0.3270, -0.3238, -0.3222, -0.3143, -0.3064, -0.2969, -0.2874, -0.2795,\n",
      "        -0.2573, -0.2352, -0.2177, -0.2003, -0.1742])\n",
      "tensor([-0.1481])\n",
      "\n",
      "1\n",
      "torch.Size([32, 13, 5]) <class 'torch.Tensor'>\n",
      "torch.Size([32, 1, 5]) <class 'torch.Tensor'>\n",
      "tensor([-0.0808, -0.0768, -0.0752, -0.0736, -0.0744, -0.0752, -0.0776, -0.0800,\n",
      "        -0.0863, -0.0926, -0.0982, -0.1037, -0.1093])\n",
      "tensor([-0.1148])\n",
      "\n",
      "2\n",
      "torch.Size([32, 13, 5]) <class 'torch.Tensor'>\n",
      "torch.Size([32, 1, 5]) <class 'torch.Tensor'>\n",
      "tensor([0.6120, 0.6239, 0.6358, 0.6397, 0.6437, 0.6477, 0.6516, 0.6714, 0.6912,\n",
      "        0.7189, 0.7466, 0.7625, 0.7783])\n",
      "tensor([0.7862])\n",
      "\n",
      "3\n",
      "torch.Size([32, 13, 5]) <class 'torch.Tensor'>\n",
      "torch.Size([32, 1, 5]) <class 'torch.Tensor'>\n",
      "tensor([-0.1433, -0.1489, -0.1544, -0.1591, -0.1639, -0.1686, -0.1734, -0.1774,\n",
      "        -0.1813, -0.1845, -0.1876, -0.1892, -0.1908])\n",
      "tensor([-0.1916])\n",
      "\n",
      "4\n",
      "torch.Size([32, 13, 5]) <class 'torch.Tensor'>\n",
      "torch.Size([32, 1, 5]) <class 'torch.Tensor'>\n",
      "tensor([0.1164, 0.1370, 0.1576, 0.1781, 0.1987, 0.2193, 0.2399, 0.2637, 0.2874,\n",
      "        0.3072, 0.3270, 0.3500, 0.3729])\n",
      "tensor([0.3959])\n",
      "\n"
     ]
    }
   ],
   "source": [
    "counter = 0\n",
    "for inps, tgts in train_loader:\n",
    "    if counter < 5:\n",
    "        print(counter)\n",
    "        print(inps.shape, type(inps))\n",
    "        print(tgts.shape, type(inps))\n",
    "        print(inps[0,:,0])\n",
    "        print(tgts[0,:,0])\n",
    "        print()\n",
    "    \n",
    "    counter += 1\n"
   ]
  },
  {
   "cell_type": "code",
   "execution_count": null,
   "metadata": {},
   "outputs": [],
   "source": []
  },
  {
   "cell_type": "code",
   "execution_count": 14,
   "metadata": {},
   "outputs": [
    {
     "data": {
      "text/plain": [
       "(3301, 14, 5)"
      ]
     },
     "execution_count": 14,
     "metadata": {},
     "output_type": "execute_result"
    }
   ],
   "source": [
    "tensor_context_train_standardized.data.shape"
   ]
  },
  {
   "cell_type": "code",
   "execution_count": 15,
   "metadata": {},
   "outputs": [
    {
     "data": {
      "text/plain": [
       "(13, 1)"
      ]
     },
     "execution_count": 15,
     "metadata": {},
     "output_type": "execute_result"
    }
   ],
   "source": [
    "flag_params[\"input_length\"], flag_params[\"train_output_length\"]"
   ]
  },
  {
   "cell_type": "code",
   "execution_count": 16,
   "metadata": {},
   "outputs": [
    {
     "data": {
      "text/plain": [
       "(torch.Size([32, 103, 13, 5]), torch.Size([32, 103, 13, 5]))"
      ]
     },
     "execution_count": 16,
     "metadata": {},
     "output_type": "execute_result"
    }
   ],
   "source": [
    "tensor_context_inps, tensor_context_tgts = batch_tensor_context(\n",
    "    tensor_context_train_standardized,\n",
    "    batch_size=flag_params[\"batch_size\"],\n",
    "    input_length=flag_params[\"input_length\"],\n",
    "    output_length=flag_params[\"train_output_length\"],\n",
    ")\n",
    "assert torch.all(tensor_context_inps[:,:,1:] == tensor_context_tgts[:,:,:-1])\n",
    "tensor_context_inps.shape, tensor_context_tgts.shape"
   ]
  },
  {
   "cell_type": "code",
   "execution_count": 17,
   "metadata": {},
   "outputs": [],
   "source": [
    "m = nn.Dropout(p=0.2)\n",
    "input = torch.randn(12, 4)\n",
    "# output = input\n",
    "output = m(input)"
   ]
  },
  {
   "cell_type": "code",
   "execution_count": 18,
   "metadata": {},
   "outputs": [
    {
     "data": {
      "text/plain": [
       "tensor([[ 0.0000, -1.4180, -1.5607, -0.0000],\n",
       "        [ 0.8854,  1.0389,  0.3996, -1.2018],\n",
       "        [ 0.6969,  0.0000, -0.4411,  0.0000],\n",
       "        [-0.4754,  1.0791, -0.5748, -2.1081],\n",
       "        [-0.9038,  0.4996, -1.5146, -1.4703],\n",
       "        [ 0.3719, -0.0000, -2.0920,  1.0250],\n",
       "        [-1.4110,  0.0000,  0.0815,  0.0483],\n",
       "        [ 0.4959,  0.1266,  0.8658,  1.3709],\n",
       "        [ 0.6611,  0.0000, -0.3912,  0.0000],\n",
       "        [ 0.0000,  1.1273, -0.7555,  1.7286],\n",
       "        [-1.8233,  0.6153,  0.0000,  0.0000],\n",
       "        [ 1.3718,  0.0000, -1.1233,  1.7907]])"
      ]
     },
     "execution_count": 18,
     "metadata": {},
     "output_type": "execute_result"
    }
   ],
   "source": [
    "output"
   ]
  },
  {
   "cell_type": "code",
   "execution_count": null,
   "metadata": {},
   "outputs": [],
   "source": []
  },
  {
   "cell_type": "markdown",
   "metadata": {},
   "source": [
    "### Single step model"
   ]
  },
  {
   "cell_type": "code",
   "execution_count": 182,
   "metadata": {},
   "outputs": [
    {
     "name": "stdout",
     "output_type": "stream",
     "text": [
      "torch.Size([1000, 5]) torch.Size([1000, 5])\n"
     ]
    }
   ],
   "source": [
    "rbf = RBFKernel(length_scale=1E-1)\n",
    "flag_params[\"koopman_kernel_num_centers\"] = 1000\n",
    "\n",
    "#TODO some parameters don't play a role in model definition -> remove them\n",
    "koopkernelmodel = KoopmanKernelSeq2Seq(\n",
    "    kernel=rbf,\n",
    "    input_dim = num_feats,\n",
    "    input_length = 13,\n",
    "    output_length = 1,\n",
    "    output_dim = 1,\n",
    "    num_steps = 1,\n",
    "    num_nys_centers = flag_params[\"koopman_kernel_num_centers\"],\n",
    "    rng_seed = 42,\n",
    "    # context_mode=\"last_context\"\n",
    "    # context_mode=\"no_context\"\n",
    "    context_mode=\"full_context\"\n",
    ")\n",
    "\n",
    "koopkernelmodel._initialize_nystrom_data(tensor_context_train_standardized)"
   ]
  },
  {
   "cell_type": "code",
   "execution_count": 183,
   "metadata": {},
   "outputs": [
    {
     "data": {
      "text/plain": [
       "torch.Size([32, 103, 13, 5])"
      ]
     },
     "execution_count": 183,
     "metadata": {},
     "output_type": "execute_result"
    }
   ],
   "source": [
    "tensor_context_tgts.shape"
   ]
  },
  {
   "cell_type": "code",
   "execution_count": 184,
   "metadata": {},
   "outputs": [],
   "source": [
    "i = 13\n",
    "inputs, labels = tensor_context_inps[:,i], tensor_context_tgts[:,i]"
   ]
  },
  {
   "cell_type": "code",
   "execution_count": 185,
   "metadata": {},
   "outputs": [
    {
     "data": {
      "text/plain": [
       "torch.Size([32, 13, 5])"
      ]
     },
     "execution_count": 185,
     "metadata": {},
     "output_type": "execute_result"
    }
   ],
   "source": [
    "inputs.shape"
   ]
  },
  {
   "cell_type": "code",
   "execution_count": 186,
   "metadata": {},
   "outputs": [],
   "source": [
    "outs = koopkernelmodel(inputs)"
   ]
  },
  {
   "cell_type": "code",
   "execution_count": 187,
   "metadata": {},
   "outputs": [
    {
     "data": {
      "text/plain": [
       "torch.Size([32, 13, 5])"
      ]
     },
     "execution_count": 187,
     "metadata": {},
     "output_type": "execute_result"
    }
   ],
   "source": [
    "outs.shape"
   ]
  },
  {
   "cell_type": "code",
   "execution_count": null,
   "metadata": {},
   "outputs": [],
   "source": []
  },
  {
   "cell_type": "code",
   "execution_count": null,
   "metadata": {},
   "outputs": [],
   "source": []
  },
  {
   "cell_type": "markdown",
   "metadata": {},
   "source": [
    "#### Compare context modes"
   ]
  },
  {
   "cell_type": "code",
   "execution_count": null,
   "metadata": {},
   "outputs": [],
   "source": [
    "def train_one_epoch(model: KoopmanKernelSeq2Seq, optimizer, loss_fun, scheduler, epoch_index, tb_writer, tensor_context_inps, tensor_context_tgts):\n",
    "    \"\"\"From https://pytorch.org/tutorials/beginner/introyt/trainingyt.html.\"\"\"\n",
    "\n",
    "    running_loss = 0.\n",
    "    last_loss = 0.\n",
    "\n",
    "    # Here, we use enumerate(training_loader) instead of\n",
    "    # iter(training_loader) so that we can track the batch\n",
    "    # index and do some intra-epoch reporting\n",
    "\n",
    "    print(range(tensor_context_inps.shape[1]))\n",
    "    for i in range(tensor_context_inps.shape[1]):\n",
    "\n",
    "        # Every data instance is an input + label pair\n",
    "        inputs, labels = tensor_context_inps[:,i], tensor_context_tgts[:,i]\n",
    "        if model.context_mode == \"last_context\":\n",
    "            labels = labels[:, -1, :]\n",
    "\n",
    "        # Zero your gradients for every batch!\n",
    "        optimizer.zero_grad()\n",
    "\n",
    "        # Make predictions for this batch\n",
    "        outputs = model(inputs)\n",
    "\n",
    "        # Compute the loss and its gradients\n",
    "        loss = loss_fun(outputs, labels)\n",
    "        loss.backward()\n",
    "\n",
    "        # print(loss.item())\n",
    "\n",
    "        # Adjust learning weights\n",
    "        optimizer.step()\n",
    "\n",
    "        # Gather data and report\n",
    "        running_loss += loss.item()\n",
    "        if i % 10 == 9:\n",
    "            last_loss = running_loss / 10 # loss per batch\n",
    "            print('  batch {} loss: {}'.format(i + 1, last_loss))\n",
    "            tb_x = epoch_index * tensor_context_inps.shape[1] + i + 1\n",
    "            tb_writer.add_scalar('Loss/train', last_loss, tb_x)\n",
    "            running_loss = 0.\n",
    "\n",
    "    \n",
    "    print(optimizer.state_dict()[\"param_groups\"][0])\n",
    "\n",
    "    scheduler.step()\n",
    "\n",
    "    return last_loss\n",
    "\n",
    "\n",
    "def train_KKSeq2Seq(num_epochs, context_mode) -> tuple[KoopmanKernelSeq2Seq, list]:\n",
    "\n",
    "    if flag_params[\"train_output_length\"] != 1:\n",
    "        raise Exception(\"This function still requires output_length = 1.\")\n",
    "    \n",
    "    rbf = RBFKernel(length_scale=1E-1)\n",
    "\n",
    "    #TODO some parameters don't play a role in model definition -> remove them\n",
    "    koopkernelmodel = KoopmanKernelSeq2Seq(\n",
    "        kernel=rbf,\n",
    "        input_dim = num_feats,\n",
    "        input_length = flag_params[\"input_length\"],\n",
    "        output_length = flag_params[\"train_output_length\"],\n",
    "        output_dim = 1,\n",
    "        num_steps = 1,\n",
    "        num_nys_centers = flag_params[\"koopman_kernel_num_centers\"],\n",
    "        rng_seed = 42,\n",
    "        context_mode=context_mode,\n",
    "    )\n",
    "\n",
    "    koopkernelmodel._initialize_nystrom_data(tensor_context_train_standardized)\n",
    "\n",
    "\n",
    "    optimizer = torch.optim.Adam(koopkernelmodel.parameters(), lr=learning_rate)\n",
    "    loss_koopkernel = KoopKernelLoss(koopkernelmodel.nystrom_data_Y, koopkernelmodel._kernel)\n",
    "\n",
    "    timestamp = datetime.now().strftime('%Y%m%d_%H%M%S')\n",
    "    tb_writer = SummaryWriter('runs/fashion_trainer_{}'.format(timestamp))\n",
    "\n",
    "    scheduler = torch.optim.lr_scheduler.StepLR(\n",
    "        optimizer, step_size=1, gamma=flag_params[\"decay_rate\"]\n",
    "    )  # stepwise learning rate decay\n",
    "\n",
    "\n",
    "    epoch_index = 1\n",
    "    train_loss = []\n",
    "    for epoch_index, epoch in enumerate(range(num_epochs)):\n",
    "        train_loss.append(train_one_epoch(koopkernelmodel, optimizer, loss_koopkernel, scheduler, epoch_index, tb_writer, tensor_context_inps, tensor_context_tgts))\n",
    "    \n",
    "\n",
    "    return koopkernelmodel, train_loss"
   ]
  },
  {
   "cell_type": "code",
   "execution_count": 189,
   "metadata": {},
   "outputs": [
    {
     "name": "stdout",
     "output_type": "stream",
     "text": [
      "torch.Size([1000, 5]) torch.Size([1000, 5])\n",
      "range(0, 103)\n",
      "  batch 10 loss: 0.2699535548686981\n",
      "  batch 20 loss: 0.24510035961866378\n",
      "  batch 30 loss: 0.2211139276623726\n",
      "  batch 40 loss: 0.19808569997549058\n",
      "  batch 50 loss: 0.15121935978531836\n",
      "  batch 60 loss: 0.11774655357003212\n",
      "  batch 70 loss: 0.118960652500391\n",
      "  batch 80 loss: 0.09800691455602646\n",
      "  batch 90 loss: 0.07945370860397816\n",
      "  batch 100 loss: 0.07415060065686703\n",
      "{'lr': 0.001, 'betas': (0.9, 0.999), 'eps': 1e-08, 'weight_decay': 0, 'amsgrad': False, 'maximize': False, 'foreach': None, 'capturable': False, 'differentiable': False, 'fused': None, 'initial_lr': 0.001, 'params': [0]}\n",
      "range(0, 103)\n",
      "  batch 10 loss: 0.0721783060580492\n",
      "  batch 20 loss: 0.06536770090460778\n",
      "  batch 30 loss: 0.08069838285446167\n",
      "  batch 40 loss: 0.07464696429669856\n",
      "  batch 50 loss: 0.06820722743868828\n",
      "  batch 60 loss: 0.06685983240604401\n",
      "  batch 70 loss: 0.08499105758965016\n",
      "  batch 80 loss: 0.06783822216093541\n",
      "  batch 90 loss: 0.08012386187911033\n",
      "  batch 100 loss: 0.08469051271677017\n",
      "{'lr': 0.0009000000000000001, 'betas': (0.9, 0.999), 'eps': 1e-08, 'weight_decay': 0, 'amsgrad': False, 'maximize': False, 'foreach': None, 'capturable': False, 'differentiable': False, 'fused': None, 'initial_lr': 0.001, 'params': [0]}\n",
      "range(0, 103)\n",
      "  batch 10 loss: 0.07208351530134678\n",
      "  batch 20 loss: 0.06910276338458061\n",
      "  batch 30 loss: 0.06843939051032066\n",
      "  batch 40 loss: 0.0582297720015049\n",
      "  batch 50 loss: 0.05213104970753193\n",
      "  batch 60 loss: 0.056401821225881575\n",
      "  batch 70 loss: 0.05456611849367619\n",
      "  batch 80 loss: 0.0490817055106163\n",
      "  batch 90 loss: 0.03704852871596813\n",
      "  batch 100 loss: 0.04034531954675913\n",
      "{'lr': 0.0008100000000000001, 'betas': (0.9, 0.999), 'eps': 1e-08, 'weight_decay': 0, 'amsgrad': False, 'maximize': False, 'foreach': None, 'capturable': False, 'differentiable': False, 'fused': None, 'initial_lr': 0.001, 'params': [0]}\n",
      "range(0, 103)\n",
      "  batch 10 loss: 0.03137918785214424\n",
      "  batch 20 loss: 0.03469901494681835\n",
      "  batch 30 loss: 0.034589480794966224\n",
      "  batch 40 loss: 0.029569764994084834\n",
      "  batch 50 loss: 0.02663443796336651\n",
      "  batch 60 loss: 0.03196382336318493\n",
      "  batch 70 loss: 0.03075016513466835\n",
      "  batch 80 loss: 0.02753642909228802\n",
      "  batch 90 loss: 0.026476744189858438\n",
      "  batch 100 loss: 0.024333596974611283\n",
      "{'lr': 0.000729, 'betas': (0.9, 0.999), 'eps': 1e-08, 'weight_decay': 0, 'amsgrad': False, 'maximize': False, 'foreach': None, 'capturable': False, 'differentiable': False, 'fused': None, 'initial_lr': 0.001, 'params': [0]}\n",
      "range(0, 103)\n",
      "  batch 10 loss: 0.0230680450797081\n",
      "  batch 20 loss: 0.026530857011675835\n",
      "  batch 30 loss: 0.03134737890213728\n",
      "  batch 40 loss: 0.02818913944065571\n",
      "  batch 50 loss: 0.023727997951209546\n",
      "  batch 60 loss: 0.024226215295493604\n",
      "  batch 70 loss: 0.02240319363772869\n",
      "  batch 80 loss: 0.020357386954128743\n",
      "  batch 90 loss: 0.02241079490631819\n",
      "  batch 100 loss: 0.02183612370863557\n",
      "{'lr': 0.0006561000000000001, 'betas': (0.9, 0.999), 'eps': 1e-08, 'weight_decay': 0, 'amsgrad': False, 'maximize': False, 'foreach': None, 'capturable': False, 'differentiable': False, 'fused': None, 'initial_lr': 0.001, 'params': [0]}\n",
      "range(0, 103)\n",
      "  batch 10 loss: 0.019485180824995042\n",
      "  batch 20 loss: 0.02066752063110471\n",
      "  batch 30 loss: 0.019448324758559465\n",
      "  batch 40 loss: 0.017592492792755366\n",
      "  batch 50 loss: 0.01733982628211379\n",
      "  batch 60 loss: 0.020937447249889374\n",
      "  batch 70 loss: 0.019710065703839062\n",
      "  batch 80 loss: 0.016602064203470945\n",
      "  batch 90 loss: 0.018831825535744428\n",
      "  batch 100 loss: 0.016264755092561246\n",
      "{'lr': 0.00059049, 'betas': (0.9, 0.999), 'eps': 1e-08, 'weight_decay': 0, 'amsgrad': False, 'maximize': False, 'foreach': None, 'capturable': False, 'differentiable': False, 'fused': None, 'initial_lr': 0.001, 'params': [0]}\n",
      "range(0, 103)\n",
      "  batch 10 loss: 0.016069985553622247\n",
      "  batch 20 loss: 0.01555206924676895\n",
      "  batch 30 loss: 0.015537776984274387\n",
      "  batch 40 loss: 0.015429742727428674\n",
      "  batch 50 loss: 0.0141664644703269\n",
      "  batch 60 loss: 0.014076422806829214\n",
      "  batch 70 loss: 0.013616853114217519\n",
      "  batch 80 loss: 0.0121776906773448\n",
      "  batch 90 loss: 0.013955708313733339\n",
      "  batch 100 loss: 0.013910511508584023\n",
      "{'lr': 0.000531441, 'betas': (0.9, 0.999), 'eps': 1e-08, 'weight_decay': 0, 'amsgrad': False, 'maximize': False, 'foreach': None, 'capturable': False, 'differentiable': False, 'fused': None, 'initial_lr': 0.001, 'params': [0]}\n",
      "range(0, 103)\n",
      "  batch 10 loss: 0.011904329247772693\n",
      "  batch 20 loss: 0.012087235320359468\n",
      "  batch 30 loss: 0.013651092210784555\n",
      "  batch 40 loss: 0.012015630304813386\n",
      "  batch 50 loss: 0.010991873964667321\n",
      "  batch 60 loss: 0.01116217658855021\n",
      "  batch 70 loss: 0.010867580678313971\n",
      "  batch 80 loss: 0.010632443381473422\n",
      "  batch 90 loss: 0.012180899921804666\n",
      "  batch 100 loss: 0.010711856093257666\n",
      "{'lr': 0.0004782969, 'betas': (0.9, 0.999), 'eps': 1e-08, 'weight_decay': 0, 'amsgrad': False, 'maximize': False, 'foreach': None, 'capturable': False, 'differentiable': False, 'fused': None, 'initial_lr': 0.001, 'params': [0]}\n",
      "range(0, 103)\n",
      "  batch 10 loss: 0.007954410510137677\n",
      "  batch 20 loss: 0.008213263656944036\n",
      "  batch 30 loss: 0.009684940613806248\n",
      "  batch 40 loss: 0.008729837788268923\n",
      "  batch 50 loss: 0.008736974420025944\n",
      "  batch 60 loss: 0.007931457459926605\n",
      "  batch 70 loss: 0.00765485754236579\n",
      "  batch 80 loss: 0.006873119156807661\n",
      "  batch 90 loss: 0.0071368249598890545\n",
      "  batch 100 loss: 0.007292429031804204\n",
      "{'lr': 0.00043046721, 'betas': (0.9, 0.999), 'eps': 1e-08, 'weight_decay': 0, 'amsgrad': False, 'maximize': False, 'foreach': None, 'capturable': False, 'differentiable': False, 'fused': None, 'initial_lr': 0.001, 'params': [0]}\n",
      "range(0, 103)\n",
      "  batch 10 loss: 0.005714293941855431\n",
      "  batch 20 loss: 0.006421653693541885\n",
      "  batch 30 loss: 0.0070249163545668125\n",
      "  batch 40 loss: 0.006185931665822863\n",
      "  batch 50 loss: 0.006498466618359089\n",
      "  batch 60 loss: 0.006032718229107559\n",
      "  batch 70 loss: 0.005450763832777738\n",
      "  batch 80 loss: 0.005340452119708061\n",
      "  batch 90 loss: 0.005121007724665105\n",
      "  batch 100 loss: 0.005291085061617196\n",
      "{'lr': 0.000387420489, 'betas': (0.9, 0.999), 'eps': 1e-08, 'weight_decay': 0, 'amsgrad': False, 'maximize': False, 'foreach': None, 'capturable': False, 'differentiable': False, 'fused': None, 'initial_lr': 0.001, 'params': [0]}\n",
      "range(0, 103)\n",
      "  batch 10 loss: 0.004438271769322455\n",
      "  batch 20 loss: 0.005142661929130554\n",
      "  batch 30 loss: 0.005447906325571239\n",
      "  batch 40 loss: 0.004863269068300724\n",
      "  batch 50 loss: 0.0053285154514014724\n",
      "  batch 60 loss: 0.00503356505651027\n",
      "  batch 70 loss: 0.004476870340295136\n",
      "  batch 80 loss: 0.004432264482602477\n",
      "  batch 90 loss: 0.004144879151135683\n",
      "  batch 100 loss: 0.004513134784065187\n",
      "{'lr': 0.0003486784401, 'betas': (0.9, 0.999), 'eps': 1e-08, 'weight_decay': 0, 'amsgrad': False, 'maximize': False, 'foreach': None, 'capturable': False, 'differentiable': False, 'fused': None, 'initial_lr': 0.001, 'params': [0]}\n",
      "range(0, 103)\n",
      "  batch 10 loss: 0.003653657587710768\n",
      "  batch 20 loss: 0.004573279595933855\n",
      "  batch 30 loss: 0.00453504070173949\n",
      "  batch 40 loss: 0.004239061987027526\n",
      "  batch 50 loss: 0.0046225872589275244\n",
      "  batch 60 loss: 0.004523276234976947\n",
      "  batch 70 loss: 0.004039621260017156\n",
      "  batch 80 loss: 0.003872328600846231\n",
      "  batch 90 loss: 0.0038377010961994527\n",
      "  batch 100 loss: 0.004122626525349915\n",
      "{'lr': 0.00031381059609000004, 'betas': (0.9, 0.999), 'eps': 1e-08, 'weight_decay': 0, 'amsgrad': False, 'maximize': False, 'foreach': None, 'capturable': False, 'differentiable': False, 'fused': None, 'initial_lr': 0.001, 'params': [0]}\n",
      "range(0, 103)\n",
      "  batch 10 loss: 0.0031987568945623934\n",
      "  batch 20 loss: 0.004140235111117363\n",
      "  batch 30 loss: 0.004025179240852594\n",
      "  batch 40 loss: 0.0038842950947582723\n",
      "  batch 50 loss: 0.0042865337571129205\n",
      "  batch 60 loss: 0.004070274159312248\n",
      "  batch 70 loss: 0.0036234528524801135\n",
      "  batch 80 loss: 0.00342544507002458\n",
      "  batch 90 loss: 0.003578644385561347\n",
      "  batch 100 loss: 0.003714447724632919\n",
      "{'lr': 0.00028242953648100003, 'betas': (0.9, 0.999), 'eps': 1e-08, 'weight_decay': 0, 'amsgrad': False, 'maximize': False, 'foreach': None, 'capturable': False, 'differentiable': False, 'fused': None, 'initial_lr': 0.001, 'params': [0]}\n",
      "range(0, 103)\n",
      "  batch 10 loss: 0.002777827682439238\n",
      "  batch 20 loss: 0.0037461952539160847\n",
      "  batch 30 loss: 0.0035997564787976443\n",
      "  batch 40 loss: 0.003543889755383134\n",
      "  batch 50 loss: 0.003958867699839175\n",
      "  batch 60 loss: 0.0036458944668993354\n",
      "  batch 70 loss: 0.0031940811546519398\n",
      "  batch 80 loss: 0.0031371110817417502\n",
      "  batch 90 loss: 0.0032313417876139285\n",
      "  batch 100 loss: 0.0033055869396775963\n",
      "{'lr': 0.00025418658283290005, 'betas': (0.9, 0.999), 'eps': 1e-08, 'weight_decay': 0, 'amsgrad': False, 'maximize': False, 'foreach': None, 'capturable': False, 'differentiable': False, 'fused': None, 'initial_lr': 0.001, 'params': [0]}\n",
      "range(0, 103)\n",
      "  batch 10 loss: 0.0025286790216341613\n",
      "  batch 20 loss: 0.0033428074209950866\n",
      "  batch 30 loss: 0.003302779805380851\n",
      "  batch 40 loss: 0.0032091452274471523\n",
      "  batch 50 loss: 0.003660662053152919\n",
      "  batch 60 loss: 0.0032618432771414517\n",
      "  batch 70 loss: 0.0027783507714048026\n",
      "  batch 80 loss: 0.0028749912744387984\n",
      "  batch 90 loss: 0.0028562182560563087\n",
      "  batch 100 loss: 0.002955607767216861\n",
      "{'lr': 0.00022876792454961005, 'betas': (0.9, 0.999), 'eps': 1e-08, 'weight_decay': 0, 'amsgrad': False, 'maximize': False, 'foreach': None, 'capturable': False, 'differentiable': False, 'fused': None, 'initial_lr': 0.001, 'params': [0]}\n",
      "range(0, 103)\n",
      "  batch 10 loss: 0.002304113912396133\n",
      "  batch 20 loss: 0.0029845859040506183\n",
      "  batch 30 loss: 0.0030444236821494997\n",
      "  batch 40 loss: 0.002907234989106655\n",
      "  batch 50 loss: 0.0033783808816224337\n",
      "  batch 60 loss: 0.0029614670900627972\n",
      "  batch 70 loss: 0.00247025394346565\n",
      "  batch 80 loss: 0.002621197432745248\n",
      "  batch 90 loss: 0.0025289964862167834\n",
      "  batch 100 loss: 0.0026915068505331875\n",
      "{'lr': 0.00020589113209464906, 'betas': (0.9, 0.999), 'eps': 1e-08, 'weight_decay': 0, 'amsgrad': False, 'maximize': False, 'foreach': None, 'capturable': False, 'differentiable': False, 'fused': None, 'initial_lr': 0.001, 'params': [0]}\n",
      "range(0, 103)\n",
      "  batch 10 loss: 0.0021214022184722126\n",
      "  batch 20 loss: 0.0027390477480366826\n",
      "  batch 30 loss: 0.0028234602883458137\n",
      "  batch 40 loss: 0.0026806595851667225\n",
      "  batch 50 loss: 0.003139453928451985\n",
      "  batch 60 loss: 0.002757005870807916\n",
      "  batch 70 loss: 0.0022813079296611248\n",
      "  batch 80 loss: 0.0024049457162618635\n",
      "  batch 90 loss: 0.002307269023731351\n",
      "  batch 100 loss: 0.002501638955436647\n",
      "{'lr': 0.00018530201888518417, 'betas': (0.9, 0.999), 'eps': 1e-08, 'weight_decay': 0, 'amsgrad': False, 'maximize': False, 'foreach': None, 'capturable': False, 'differentiable': False, 'fused': None, 'initial_lr': 0.001, 'params': [0]}\n",
      "range(0, 103)\n",
      "  batch 10 loss: 0.001995486090891063\n",
      "  batch 20 loss: 0.0025663469918072225\n",
      "  batch 30 loss: 0.0026539622573181986\n",
      "  batch 40 loss: 0.0025255720829591155\n",
      "  batch 50 loss: 0.0029514045105315744\n",
      "  batch 60 loss: 0.002597750222776085\n",
      "  batch 70 loss: 0.002155418915208429\n",
      "  batch 80 loss: 0.0022386887925677002\n",
      "  batch 90 loss: 0.00215331322979182\n",
      "  batch 100 loss: 0.002358046313747764\n",
      "{'lr': 0.00016677181699666576, 'betas': (0.9, 0.999), 'eps': 1e-08, 'weight_decay': 0, 'amsgrad': False, 'maximize': False, 'foreach': None, 'capturable': False, 'differentiable': False, 'fused': None, 'initial_lr': 0.001, 'params': [0]}\n",
      "range(0, 103)\n",
      "  batch 10 loss: 0.0018998211016878486\n",
      "  batch 20 loss: 0.002436308015603572\n",
      "  batch 30 loss: 0.0025241850758902728\n",
      "  batch 40 loss: 0.002408844279125333\n",
      "  batch 50 loss: 0.002794835378881544\n",
      "  batch 60 loss: 0.002461876394227147\n",
      "  batch 70 loss: 0.002052686642855406\n",
      "  batch 80 loss: 0.002112207654863596\n",
      "  batch 90 loss: 0.0020329394028522074\n",
      "  batch 100 loss: 0.00224513818975538\n",
      "{'lr': 0.0001500946352969992, 'betas': (0.9, 0.999), 'eps': 1e-08, 'weight_decay': 0, 'amsgrad': False, 'maximize': False, 'foreach': None, 'capturable': False, 'differentiable': False, 'fused': None, 'initial_lr': 0.001, 'params': [0]}\n",
      "range(0, 103)\n",
      "  batch 10 loss: 0.001809361868072301\n",
      "  batch 20 loss: 0.002322650048881769\n",
      "  batch 30 loss: 0.0024057376198470593\n",
      "  batch 40 loss: 0.002301139268092811\n",
      "  batch 50 loss: 0.0026461123721674084\n",
      "  batch 60 loss: 0.0023384856758639216\n",
      "  batch 70 loss: 0.001951757911592722\n",
      "  batch 80 loss: 0.0020097645989153533\n",
      "  batch 90 loss: 0.0019281600369140505\n",
      "  batch 100 loss: 0.00215212432667613\n",
      "{'lr': 0.0001350851717672993, 'betas': (0.9, 0.999), 'eps': 1e-08, 'weight_decay': 0, 'amsgrad': False, 'maximize': False, 'foreach': None, 'capturable': False, 'differentiable': False, 'fused': None, 'initial_lr': 0.001, 'params': [0]}\n"
     ]
    }
   ],
   "source": [
    "context_modes = [\n",
    "    # \"no_context\",\n",
    "    \"full_context\",\n",
    "    # \"last_context\",\n",
    "]\n",
    "models = {}\n",
    "train_losses = {}\n",
    "for cm in context_modes:\n",
    "    m, tl = train_KKSeq2Seq(flag_params[\"num_epochs\"], cm)\n",
    "    models[cm] = m\n",
    "    train_losses[cm] = tl"
   ]
  },
  {
   "cell_type": "code",
   "execution_count": 190,
   "metadata": {},
   "outputs": [
    {
     "data": {
      "image/png": "[encoded data removed]",
      "text/plain": [
       "<Figure size 640x480 with 1 Axes>"
      ]
     },
     "metadata": {},
     "output_type": "display_data"
    }
   ],
   "source": [
    "fig, ax = plt.subplots()\n",
    "\n",
    "for idx, cm in enumerate(context_modes):\n",
    "    ax.plot(range(flag_params[\"num_epochs\"]), train_losses[cm], color = f\"C{idx}\", label = cm)\n",
    "# ax.set_yscale(\"log\")\n",
    "ax.set_xlabel(\"Number of epochs\")\n",
    "ax.set_ylabel(\"Loss (MSE)\")\n",
    "ax.legend()\n",
    "ax.grid()\n",
    "\n",
    "# save_path = os.path.join(\n",
    "#     \"../plots/\", \"koopman_seq2seq/\"\n",
    "# )\n",
    "# os.makedirs(save_path, exist_ok=True)\n",
    "# fig.savefig(os.path.join(save_path, \"context_mode_comparison.png\"), bbox_inches='tight')"
   ]
  },
  {
   "cell_type": "code",
   "execution_count": null,
   "metadata": {},
   "outputs": [],
   "source": []
  },
  {
   "cell_type": "code",
   "execution_count": null,
   "metadata": {},
   "outputs": [],
   "source": []
  },
  {
   "cell_type": "markdown",
   "metadata": {},
   "source": [
    "#### Plot predictions"
   ]
  },
  {
   "cell_type": "code",
   "execution_count": 39,
   "metadata": {},
   "outputs": [
    {
     "data": {
      "text/plain": [
       "103"
      ]
     },
     "execution_count": 39,
     "metadata": {},
     "output_type": "execute_result"
    }
   ],
   "source": [
    "tensor_context_inps.shape[1]"
   ]
  },
  {
   "cell_type": "code",
   "execution_count": 40,
   "metadata": {},
   "outputs": [],
   "source": [
    "i = 13\n",
    "inputs, labels = tensor_context_inps[:,i], tensor_context_tgts[:,i]"
   ]
  },
  {
   "cell_type": "code",
   "execution_count": 41,
   "metadata": {},
   "outputs": [
    {
     "data": {
      "text/plain": [
       "(torch.Size([32, 13, 5]), torch.Size([32, 13, 5]))"
      ]
     },
     "execution_count": 41,
     "metadata": {},
     "output_type": "execute_result"
    }
   ],
   "source": [
    "labels.shape, inputs.shape"
   ]
  },
  {
   "cell_type": "code",
   "execution_count": 42,
   "metadata": {},
   "outputs": [],
   "source": [
    "outs = koopkernelmodel(inputs)"
   ]
  },
  {
   "cell_type": "code",
   "execution_count": 43,
   "metadata": {},
   "outputs": [
    {
     "data": {
      "text/plain": [
       "(torch.Size([32, 13, 5]), torch.Size([32, 13, 5]))"
      ]
     },
     "execution_count": 43,
     "metadata": {},
     "output_type": "execute_result"
    }
   ],
   "source": [
    "outs.shape, labels.shape"
   ]
  },
  {
   "cell_type": "code",
   "execution_count": null,
   "metadata": {},
   "outputs": [],
   "source": []
  },
  {
   "cell_type": "code",
   "execution_count": null,
   "metadata": {},
   "outputs": [],
   "source": []
  },
  {
   "cell_type": "code",
   "execution_count": 119,
   "metadata": {},
   "outputs": [],
   "source": [
    "\"\"\"Utils for Koopman model.\"\"\"\n",
    "\n",
    "from klearn_tcyclone.plot_utils import plot_TCTrackDataset_item_2D\n",
    "\n",
    "\n",
    "device = torch.device(\"cuda\" if torch.cuda.is_available() else \"cpu\")\n",
    "\n",
    "def predict_koopman_seq2seq_model(\n",
    "    time_series: torch.Tensor,\n",
    "    prediction_steps: int,\n",
    "    model: KoopmanKernelSeq2Seq,\n",
    "):\n",
    "    assert len(time_series.shape) == 2\n",
    "    # tgts_dummy only needed to set the number of predicted time steps by model.\n",
    "    \"\"\"\n",
    "    Note: The model performs a number of single_forward steps, each predicting\n",
    "    `num_steps` future time steps, such that the total number of predicted time steps is\n",
    "    larger than `tgts.shape[1]`, i.e. `prediction_steps` or the `output_length` of the\n",
    "    dataset. In the end only the first `output_length` predicted data points are given\n",
    "    as output, the remaining (further) steps are discarded.\n",
    "    \"\"\"\n",
    "    if model.context_mode == \"no_context\":\n",
    "        time_series_unsqueeze = time_series.unsqueeze(0).to(device)\n",
    "    elif model.context_mode == \"full_context\":\n",
    "        time_series_unsqueeze = time_series[-model.input_length:].unsqueeze(0).to(device)\n",
    "    if model.context_mode == \"last_context\":\n",
    "        time_series_unsqueeze = time_series[-model.input_length:].unsqueeze(0).to(device)\n",
    "    # outs_list = []\n",
    "    prediction = time_series_unsqueeze\n",
    "    # outs_list.append(prediction)\n",
    "    for _ in range(prediction_steps):\n",
    "        new_prediction = model(prediction)\n",
    "        if model.context_mode == \"last_context\":\n",
    "            new_prediction = new_prediction.unsqueeze(1).to(device)\n",
    "            prediction = torch.cat([prediction[:,1:], new_prediction], dim=1)\n",
    "        else:\n",
    "            prediction = torch.cat([prediction[:,1:], new_prediction[:,-1:]], dim=1)\n",
    "        # outs_list.append(prediction)\n",
    "\n",
    "    res = prediction[0,-prediction_steps:]\n",
    "    return res\n",
    "\n",
    "\n",
    "def plot_TCTrackDataset_item_2D_with_prediction_koopman_seq2seq(\n",
    "    tc_tracks_dataset: TCTrackDataset,\n",
    "    idx: int,\n",
    "    prediction_steps,\n",
    "    model,\n",
    "    ax: Axes,\n",
    "    color: str,\n",
    "    dimensions: tuple[int, int] = (0, 1),\n",
    "):\n",
    "    plot_TCTrackDataset_item_2D(tc_tracks_dataset, idx, ax, color, dimensions)\n",
    "    time_series, _ = tc_tracks_dataset[idx]\n",
    "    predictions = predict_koopman_seq2seq_model(\n",
    "        time_series, prediction_steps, model\n",
    "    )\n",
    "    predictions = predictions.cpu().data.numpy()\n",
    "    ax.plot(\n",
    "        predictions[:, dimensions[0]],\n",
    "        predictions[:, dimensions[1]],\n",
    "        marker=\"s\",\n",
    "        color=color,\n",
    "    )\n"
   ]
  },
  {
   "cell_type": "code",
   "execution_count": 120,
   "metadata": {},
   "outputs": [
    {
     "data": {
      "image/png": "[encoded data removed]",
      "text/plain": [
       "<Figure size 640x480 with 1 Axes>"
      ]
     },
     "metadata": {},
     "output_type": "display_data"
    }
   ],
   "source": [
    "fig, ax = plt.subplots()\n",
    "for i, idx in enumerate(np.random.randint(0, len(train_set), 7)):\n",
    "    plot_TCTrackDataset_item_2D(train_set, idx, ax, color=f\"C{i}\")"
   ]
  },
  {
   "cell_type": "code",
   "execution_count": 121,
   "metadata": {},
   "outputs": [
    {
     "data": {
      "image/png": "[encoded data removed]",
      "text/plain": [
       "<Figure size 640x480 with 1 Axes>"
      ]
     },
     "metadata": {},
     "output_type": "display_data"
    }
   ],
   "source": [
    "prediction_steps = 3\n",
    "\n",
    "fig, ax = plt.subplots()\n",
    "for i, idx in enumerate(np.random.randint(0, len(train_set), 5)):\n",
    "\n",
    "    plot_TCTrackDataset_item_2D_with_prediction_koopman_seq2seq(\n",
    "        train_set,\n",
    "        idx,\n",
    "        prediction_steps=prediction_steps,\n",
    "        model=models[\"last_context\"],\n",
    "        ax=ax,\n",
    "        color=f\"C{i}\"\n",
    "    )\n",
    "\n",
    "# ax.set_xlim(-1, 1)\n",
    "# ax.set_ylim(-1, 1)\n",
    "# ax.set_xlim(-6,-5)\n",
    "# ax.set_ylim(-9.25,-9)"
   ]
  },
  {
   "cell_type": "code",
   "execution_count": null,
   "metadata": {},
   "outputs": [],
   "source": []
  },
  {
   "cell_type": "markdown",
   "metadata": {},
   "source": [
    "### Multi step model"
   ]
  },
  {
   "cell_type": "code",
   "execution_count": 97,
   "metadata": {},
   "outputs": [],
   "source": [
    "flag_params[\"input_length\"] = 13\n",
    "flag_params[\"train_output_length\"] = 1\n",
    "flag_params[\"context_length\"] = flag_params[\"input_length\"] + flag_params[\"train_output_length\"]\n",
    "flag_params[\"num_epochs\"] = 10\n",
    "# flag_params[\"koopman_kernel_num_centers\"] = 10\n",
    "flag_params[\"koopman_kernel_num_centers\"] = 1000"
   ]
  },
  {
   "cell_type": "code",
   "execution_count": 98,
   "metadata": {},
   "outputs": [
    {
     "name": "stdout",
     "output_type": "stream",
     "text": [
      "intput_length and output_length are not None.\n"
     ]
    }
   ],
   "source": [
    "tensor_context_train_standardized = standardized_context_dataset_from_TCTracks(\n",
    "    tc_tracks_train,\n",
    "    feature_list=feature_list,\n",
    "    scaler=scaler,\n",
    "    context_length=flag_params[\"context_length\"],\n",
    "    time_lag=time_lag,\n",
    "    fit=True,\n",
    "    periodic_shift=True,\n",
    "    basin=basin,\n",
    "    input_length=flag_params[\"input_length\"],\n",
    "    output_length=flag_params[\"train_output_length\"],\n",
    ")"
   ]
  },
  {
   "cell_type": "code",
   "execution_count": 99,
   "metadata": {},
   "outputs": [
    {
     "data": {
      "text/plain": [
       "(3301, 14, 5)"
      ]
     },
     "execution_count": 99,
     "metadata": {},
     "output_type": "execute_result"
    }
   ],
   "source": [
    "tensor_context_train_standardized.shape"
   ]
  },
  {
   "cell_type": "code",
   "execution_count": 100,
   "metadata": {},
   "outputs": [],
   "source": [
    "tensor_context_inps, tensor_context_tgts = batch_tensor_context(\n",
    "    tensor_context_train_standardized,\n",
    "    batch_size=flag_params[\"batch_size\"],\n",
    "    input_length=flag_params[\"input_length\"],\n",
    "    output_length=flag_params[\"train_output_length\"],\n",
    ")\n"
   ]
  },
  {
   "cell_type": "code",
   "execution_count": 101,
   "metadata": {},
   "outputs": [
    {
     "data": {
      "text/plain": [
       "(torch.Size([32, 103, 13, 5]), torch.Size([32, 103, 13, 5]))"
      ]
     },
     "execution_count": 101,
     "metadata": {},
     "output_type": "execute_result"
    }
   ],
   "source": [
    "for idx in range(flag_params[\"train_output_length\"]):\n",
    "    if flag_params[\"train_output_length\"] == 1:\n",
    "        assert torch.all(tensor_context_inps[:,:,idx+1:] == tensor_context_tgts[:,:,:-idx-1])\n",
    "    else:\n",
    "        assert torch.all(tensor_context_inps[:,:,idx+1:] == tensor_context_tgts[:,:,:-idx-1,idx])\n",
    "tensor_context_inps.shape, tensor_context_tgts.shape"
   ]
  },
  {
   "cell_type": "code",
   "execution_count": 102,
   "metadata": {},
   "outputs": [
    {
     "name": "stdout",
     "output_type": "stream",
     "text": [
      "torch.Size([1000, 5]) torch.Size([1000, 5])\n"
     ]
    }
   ],
   "source": [
    "rbf = RBFKernel(length_scale=1E-1)\n",
    "\n",
    "#TODO some parameters don't play a role in model definition -> remove them\n",
    "koopkernelmodel = KoopmanKernelSeq2Seq(\n",
    "    kernel=rbf,\n",
    "    input_dim = num_feats,\n",
    "    input_length = flag_params[\"input_length\"],\n",
    "    output_length = flag_params[\"train_output_length\"],\n",
    "    output_dim = 1,\n",
    "    num_steps = 1,\n",
    "    num_nys_centers = flag_params[\"koopman_kernel_num_centers\"],\n",
    "    rng_seed = 42,\n",
    "    # context_mode=\"last_context\"\n",
    "    # context_mode=\"no_context\"\n",
    "    context_mode=\"full_context\"\n",
    ")\n",
    "\n",
    "koopkernelmodel._initialize_nystrom_data(tensor_context_train_standardized)"
   ]
  },
  {
   "cell_type": "code",
   "execution_count": 103,
   "metadata": {},
   "outputs": [
    {
     "data": {
      "text/plain": [
       "torch.Size([32, 103, 13, 5])"
      ]
     },
     "execution_count": 103,
     "metadata": {},
     "output_type": "execute_result"
    }
   ],
   "source": [
    "tensor_context_tgts.shape"
   ]
  },
  {
   "cell_type": "code",
   "execution_count": 104,
   "metadata": {},
   "outputs": [],
   "source": [
    "i = 13\n",
    "inputs, labels = tensor_context_inps[:,i], tensor_context_tgts[:,i]"
   ]
  },
  {
   "cell_type": "code",
   "execution_count": 105,
   "metadata": {},
   "outputs": [
    {
     "data": {
      "text/plain": [
       "(torch.Size([32, 13, 5]), torch.Size([32, 13, 5]))"
      ]
     },
     "execution_count": 105,
     "metadata": {},
     "output_type": "execute_result"
    }
   ],
   "source": [
    "inputs.shape, labels.shape"
   ]
  },
  {
   "cell_type": "code",
   "execution_count": 106,
   "metadata": {},
   "outputs": [],
   "source": [
    "outs = koopkernelmodel(inputs)"
   ]
  },
  {
   "cell_type": "code",
   "execution_count": 107,
   "metadata": {},
   "outputs": [
    {
     "data": {
      "text/plain": [
       "(torch.Size([32, 13, 5]), torch.Size([32, 5]))"
      ]
     },
     "execution_count": 107,
     "metadata": {},
     "output_type": "execute_result"
    }
   ],
   "source": [
    "outs.shape, labels[:, -1].shape"
   ]
  },
  {
   "cell_type": "code",
   "execution_count": null,
   "metadata": {},
   "outputs": [],
   "source": []
  },
  {
   "cell_type": "markdown",
   "metadata": {},
   "source": [
    "#### Compare context modes"
   ]
  },
  {
   "cell_type": "code",
   "execution_count": 108,
   "metadata": {},
   "outputs": [],
   "source": [
    "def train_one_epoch(model: KoopmanKernelSeq2Seq, optimizer, loss_fun, scheduler, epoch_index, tb_writer, tensor_context_inps, tensor_context_tgts):\n",
    "    \"\"\"From https://pytorch.org/tutorials/beginner/introyt/trainingyt.html.\"\"\"\n",
    "\n",
    "    running_loss = 0.\n",
    "    last_loss = 0.\n",
    "\n",
    "    # Here, we use enumerate(training_loader) instead of\n",
    "    # iter(training_loader) so that we can track the batch\n",
    "    # index and do some intra-epoch reporting\n",
    "\n",
    "    print(range(tensor_context_inps.shape[1]))\n",
    "    for i in range(tensor_context_inps.shape[1]):\n",
    "\n",
    "        # Every data instance is an input + label pair\n",
    "        inputs, labels = tensor_context_inps[:,i], tensor_context_tgts[:,i]\n",
    "        if model.context_mode == \"last_context\":\n",
    "            labels = labels[:, -1, :]\n",
    "\n",
    "        # Zero your gradients for every batch!\n",
    "        optimizer.zero_grad()\n",
    "\n",
    "        # Make predictions for this batch\n",
    "        outputs = model(inputs)\n",
    "\n",
    "        # Compute the loss and its gradients\n",
    "        loss = loss_fun(outputs, labels)\n",
    "        loss.backward()\n",
    "\n",
    "        # print(loss.item())\n",
    "\n",
    "        # Adjust learning weights\n",
    "        optimizer.step()\n",
    "\n",
    "        # Gather data and report\n",
    "        running_loss += loss.item()\n",
    "        if i % 10 == 9:\n",
    "            last_loss = running_loss / 10 # loss per batch\n",
    "            print('  batch {} loss: {}'.format(i + 1, last_loss))\n",
    "            tb_x = epoch_index * tensor_context_inps.shape[1] + i + 1\n",
    "            tb_writer.add_scalar('Loss/train', last_loss, tb_x)\n",
    "            running_loss = 0.\n",
    "\n",
    "    \n",
    "    print(optimizer.state_dict()[\"param_groups\"][0])\n",
    "\n",
    "    scheduler.step()\n",
    "\n",
    "    return last_loss\n",
    "\n",
    "\n",
    "def train_KKSeq2Seq(num_epochs, context_mode, input_length, output_length):\n",
    "\n",
    "    rbf = RBFKernel(length_scale=1E-1)\n",
    "\n",
    "    #TODO some parameters don't play a role in model definition -> remove them\n",
    "    koopkernelmodel = KoopmanKernelSeq2Seq(\n",
    "        kernel=rbf,\n",
    "        input_dim = num_feats,\n",
    "        input_length = input_length,\n",
    "        output_length = output_length,\n",
    "        output_dim = 1,\n",
    "        num_steps = 1,\n",
    "        num_nys_centers = flag_params[\"koopman_kernel_num_centers\"],\n",
    "        rng_seed = 42,\n",
    "        context_mode=context_mode,\n",
    "    )\n",
    "\n",
    "    koopkernelmodel._initialize_nystrom_data(tensor_context_train_standardized)\n",
    "\n",
    "    optimizer = torch.optim.Adam(koopkernelmodel.parameters(), lr=learning_rate)\n",
    "    loss_koopkernel = KoopKernelLoss(koopkernelmodel.nystrom_data_Y, koopkernelmodel._kernel)\n",
    "\n",
    "    timestamp = datetime.now().strftime('%Y%m%d_%H%M%S')\n",
    "    tb_writer = SummaryWriter('runs/fashion_trainer_{}'.format(timestamp))\n",
    "\n",
    "    scheduler = torch.optim.lr_scheduler.StepLR(\n",
    "        optimizer, step_size=1, gamma=flag_params[\"decay_rate\"]\n",
    "    )  # stepwise learning rate decay\n",
    "\n",
    "\n",
    "    epoch_index = 1\n",
    "    train_loss = []\n",
    "    for epoch_index, epoch in enumerate(range(num_epochs)):\n",
    "        train_loss.append(train_one_epoch(koopkernelmodel, optimizer, loss_koopkernel, scheduler, epoch_index, tb_writer, tensor_context_inps, tensor_context_tgts))\n",
    "    \n",
    "\n",
    "    return koopkernelmodel, train_loss"
   ]
  },
  {
   "cell_type": "code",
   "execution_count": 109,
   "metadata": {},
   "outputs": [
    {
     "name": "stdout",
     "output_type": "stream",
     "text": [
      "torch.Size([1000, 5]) torch.Size([1000, 5])\n",
      "range(0, 103)\n",
      "  batch 10 loss: 0.2682906433939934\n",
      "  batch 20 loss: 0.22609010562300683\n",
      "  batch 30 loss: 0.19245049804449083\n",
      "  batch 40 loss: 0.17763813510537146\n",
      "  batch 50 loss: 0.18863796591758727\n",
      "  batch 60 loss: 0.19036825299263\n",
      "  batch 70 loss: 0.1568097822368145\n",
      "  batch 80 loss: 0.12087478563189506\n",
      "  batch 90 loss: 0.09943061769008636\n",
      "  batch 100 loss: 0.09260941147804261\n",
      "{'lr': 0.001, 'betas': (0.9, 0.999), 'eps': 1e-08, 'weight_decay': 0, 'amsgrad': False, 'maximize': False, 'foreach': None, 'capturable': False, 'differentiable': False, 'fused': None, 'initial_lr': 0.001, 'params': [0]}\n",
      "range(0, 103)\n",
      "  batch 10 loss: 0.08791203126311302\n",
      "  batch 20 loss: 0.09467920437455177\n",
      "  batch 30 loss: 0.06266043558716775\n",
      "  batch 40 loss: 0.060598532855510714\n",
      "  batch 50 loss: 0.05561333075165749\n",
      "  batch 60 loss: 0.054211157560348514\n",
      "  batch 70 loss: 0.05555953569710255\n",
      "  batch 80 loss: 0.04545779395848513\n",
      "  batch 90 loss: 0.045427343994379046\n",
      "  batch 100 loss: 0.058887030184268954\n",
      "{'lr': 0.0009000000000000001, 'betas': (0.9, 0.999), 'eps': 1e-08, 'weight_decay': 0, 'amsgrad': False, 'maximize': False, 'foreach': None, 'capturable': False, 'differentiable': False, 'fused': None, 'initial_lr': 0.001, 'params': [0]}\n",
      "range(0, 103)\n",
      "  batch 10 loss: 0.06667766440659761\n",
      "  batch 20 loss: 0.05587234795093536\n",
      "  batch 30 loss: 0.04469935856759548\n",
      "  batch 40 loss: 0.05103693939745426\n",
      "  batch 50 loss: 0.06827586703002453\n",
      "  batch 60 loss: 0.07978730350732803\n",
      "  batch 70 loss: 0.05269942972809076\n",
      "  batch 80 loss: 0.04010303076356649\n",
      "  batch 90 loss: 0.03860198929905891\n",
      "  batch 100 loss: 0.04157975688576698\n",
      "{'lr': 0.0008100000000000001, 'betas': (0.9, 0.999), 'eps': 1e-08, 'weight_decay': 0, 'amsgrad': False, 'maximize': False, 'foreach': None, 'capturable': False, 'differentiable': False, 'fused': None, 'initial_lr': 0.001, 'params': [0]}\n",
      "range(0, 103)\n",
      "  batch 10 loss: 0.04399471394717693\n",
      "  batch 20 loss: 0.040742425993084905\n",
      "  batch 30 loss: 0.038751280307769774\n",
      "  batch 40 loss: 0.03455234989523888\n",
      "  batch 50 loss: 0.039738410525023936\n",
      "  batch 60 loss: 0.040029275603592394\n",
      "  batch 70 loss: 0.0377839082852006\n",
      "  batch 80 loss: 0.03238341547548771\n",
      "  batch 90 loss: 0.028283466771245002\n",
      "  batch 100 loss: 0.033355075120925906\n",
      "{'lr': 0.000729, 'betas': (0.9, 0.999), 'eps': 1e-08, 'weight_decay': 0, 'amsgrad': False, 'maximize': False, 'foreach': None, 'capturable': False, 'differentiable': False, 'fused': None, 'initial_lr': 0.001, 'params': [0]}\n",
      "range(0, 103)\n",
      "  batch 10 loss: 0.03175892159342766\n",
      "  batch 20 loss: 0.032302717491984365\n",
      "  batch 30 loss: 0.025529992207884787\n",
      "  batch 40 loss: 0.023026999644935132\n",
      "  batch 50 loss: 0.02589613012969494\n",
      "  batch 60 loss: 0.034792187996208666\n",
      "  batch 70 loss: 0.030882970429956913\n",
      "  batch 80 loss: 0.030404766835272313\n",
      "  batch 90 loss: 0.032370809465646744\n",
      "  batch 100 loss: 0.027040285989642143\n",
      "{'lr': 0.0006561000000000001, 'betas': (0.9, 0.999), 'eps': 1e-08, 'weight_decay': 0, 'amsgrad': False, 'maximize': False, 'foreach': None, 'capturable': False, 'differentiable': False, 'fused': None, 'initial_lr': 0.001, 'params': [0]}\n",
      "range(0, 103)\n",
      "  batch 10 loss: 0.03211595974862576\n",
      "  batch 20 loss: 0.038489091023802754\n",
      "  batch 30 loss: 0.02725318130105734\n",
      "  batch 40 loss: 0.02632218599319458\n",
      "  batch 50 loss: 0.02516849534586072\n",
      "  batch 60 loss: 0.031094135344028474\n",
      "  batch 70 loss: 0.030521337129175662\n",
      "  batch 80 loss: 0.025969581492245198\n",
      "  batch 90 loss: 0.02465765904635191\n",
      "  batch 100 loss: 0.02394865183159709\n",
      "{'lr': 0.00059049, 'betas': (0.9, 0.999), 'eps': 1e-08, 'weight_decay': 0, 'amsgrad': False, 'maximize': False, 'foreach': None, 'capturable': False, 'differentiable': False, 'fused': None, 'initial_lr': 0.001, 'params': [0]}\n",
      "range(0, 103)\n",
      "  batch 10 loss: 0.028982084617018698\n",
      "  batch 20 loss: 0.03074030876159668\n",
      "  batch 30 loss: 0.025814893655478954\n",
      "  batch 40 loss: 0.023753243032842875\n",
      "  batch 50 loss: 0.02202184172347188\n",
      "  batch 60 loss: 0.022351858019828797\n",
      "  batch 70 loss: 0.019035791233181953\n",
      "  batch 80 loss: 0.01467318767681718\n",
      "  batch 90 loss: 0.01676955884322524\n",
      "  batch 100 loss: 0.017451091762632133\n",
      "{'lr': 0.000531441, 'betas': (0.9, 0.999), 'eps': 1e-08, 'weight_decay': 0, 'amsgrad': False, 'maximize': False, 'foreach': None, 'capturable': False, 'differentiable': False, 'fused': None, 'initial_lr': 0.001, 'params': [0]}\n",
      "range(0, 103)\n",
      "  batch 10 loss: 0.018481389060616492\n",
      "  batch 20 loss: 0.01626962423324585\n",
      "  batch 30 loss: 0.017740225419402122\n",
      "  batch 40 loss: 0.01599079938605428\n",
      "  batch 50 loss: 0.015708213578909634\n",
      "  batch 60 loss: 0.016102643311023714\n",
      "  batch 70 loss: 0.011891129752621054\n",
      "  batch 80 loss: 0.010331060877069831\n",
      "  batch 90 loss: 0.010996469575911761\n",
      "  batch 100 loss: 0.01096254624426365\n",
      "{'lr': 0.0004782969, 'betas': (0.9, 0.999), 'eps': 1e-08, 'weight_decay': 0, 'amsgrad': False, 'maximize': False, 'foreach': None, 'capturable': False, 'differentiable': False, 'fused': None, 'initial_lr': 0.001, 'params': [0]}\n",
      "range(0, 103)\n",
      "  batch 10 loss: 0.01106182299554348\n",
      "  batch 20 loss: 0.011955465283244848\n",
      "  batch 30 loss: 0.009048123750835657\n",
      "  batch 40 loss: 0.00952133652754128\n",
      "  batch 50 loss: 0.009792903251945973\n",
      "  batch 60 loss: 0.010368821816518903\n",
      "  batch 70 loss: 0.008418320072814822\n",
      "  batch 80 loss: 0.008736747456714511\n",
      "  batch 90 loss: 0.007549234619364143\n",
      "  batch 100 loss: 0.008229562547057867\n",
      "{'lr': 0.00043046721, 'betas': (0.9, 0.999), 'eps': 1e-08, 'weight_decay': 0, 'amsgrad': False, 'maximize': False, 'foreach': None, 'capturable': False, 'differentiable': False, 'fused': None, 'initial_lr': 0.001, 'params': [0]}\n",
      "range(0, 103)\n",
      "  batch 10 loss: 0.009380514640361071\n",
      "  batch 20 loss: 0.010588002437725664\n",
      "  batch 30 loss: 0.008581146830692887\n",
      "  batch 40 loss: 0.008888740930706263\n",
      "  batch 50 loss: 0.009394938359037042\n",
      "  batch 60 loss: 0.00915231634862721\n",
      "  batch 70 loss: 0.008989343512803316\n",
      "  batch 80 loss: 0.009370425203815102\n",
      "  batch 90 loss: 0.0077288668835535645\n",
      "  batch 100 loss: 0.008266426343470811\n",
      "{'lr': 0.000387420489, 'betas': (0.9, 0.999), 'eps': 1e-08, 'weight_decay': 0, 'amsgrad': False, 'maximize': False, 'foreach': None, 'capturable': False, 'differentiable': False, 'fused': None, 'initial_lr': 0.001, 'params': [0]}\n"
     ]
    }
   ],
   "source": [
    "# context_modes = [\n",
    "#     \"no_context\",\n",
    "#     \"full_context\",\n",
    "#     \"last_context\",\n",
    "# ]\n",
    "# models = {}\n",
    "# train_losses = {}\n",
    "# for cm in context_modes:\n",
    "#     m, tl = train_KKSeq2Seq(flag_params[\"num_epochs\"], cm)\n",
    "#     models[cm] = m\n",
    "#     train_losses[cm] = tl\n",
    "\n",
    "\n",
    "context_mode = \"last_context\"\n",
    "# context_mode = \"full_context\"\n",
    "model, train_loss = train_KKSeq2Seq(\n",
    "    flag_params[\"num_epochs\"],\n",
    "    context_mode=context_mode,\n",
    "    input_length=flag_params[\"input_length\"],\n",
    "    output_length=flag_params[\"train_output_length\"],\n",
    ")"
   ]
  },
  {
   "cell_type": "code",
   "execution_count": 110,
   "metadata": {},
   "outputs": [
    {
     "data": {
      "text/plain": [
       "[0.09260941147804261,\n",
       " 0.058887030184268954,\n",
       " 0.04157975688576698,\n",
       " 0.033355075120925906,\n",
       " 0.027040285989642143,\n",
       " 0.02394865183159709,\n",
       " 0.017451091762632133,\n",
       " 0.01096254624426365,\n",
       " 0.008229562547057867,\n",
       " 0.008266426343470811]"
      ]
     },
     "execution_count": 110,
     "metadata": {},
     "output_type": "execute_result"
    }
   ],
   "source": [
    "train_loss"
   ]
  },
  {
   "cell_type": "code",
   "execution_count": 111,
   "metadata": {},
   "outputs": [
    {
     "data": {
      "image/png": "[encoded data removed]",
      "text/plain": [
       "<Figure size 640x480 with 1 Axes>"
      ]
     },
     "metadata": {},
     "output_type": "display_data"
    }
   ],
   "source": [
    "fig, ax = plt.subplots()\n",
    "\n",
    "ax.plot(range(flag_params[\"num_epochs\"]), train_loss, color = f\"C{0}\", label = \"full_context\")\n",
    "# ax.set_yscale(\"log\")\n",
    "ax.set_xlabel(\"Number of epochs\")\n",
    "ax.set_ylabel(\"Loss (MSE)\")\n",
    "ax.legend()\n",
    "ax.grid()\n",
    "\n",
    "# save_path = os.path.join(\n",
    "#     \"../plots/\", \"koopman_seq2seq/\"\n",
    "# )\n",
    "# os.makedirs(save_path, exist_ok=True)\n",
    "# fig.savefig(os.path.join(save_path, \"context_mode_comparison.png\"), bbox_inches='tight')"
   ]
  },
  {
   "cell_type": "code",
   "execution_count": null,
   "metadata": {},
   "outputs": [],
   "source": []
  },
  {
   "cell_type": "code",
   "execution_count": 112,
   "metadata": {},
   "outputs": [],
   "source": [
    "time_series, _ = train_set[0]"
   ]
  },
  {
   "cell_type": "code",
   "execution_count": 113,
   "metadata": {},
   "outputs": [
    {
     "data": {
      "text/plain": [
       "torch.Size([13, 5])"
      ]
     },
     "execution_count": 113,
     "metadata": {},
     "output_type": "execute_result"
    }
   ],
   "source": [
    "time_series.shape"
   ]
  },
  {
   "cell_type": "code",
   "execution_count": null,
   "metadata": {},
   "outputs": [],
   "source": []
  },
  {
   "cell_type": "code",
   "execution_count": 114,
   "metadata": {},
   "outputs": [],
   "source": [
    "\"\"\"Utils for Koopman model.\"\"\"\n",
    "\n",
    "from klearn_tcyclone.plot_utils import plot_TCTrackDataset_item_2D\n",
    "\n",
    "\n",
    "device = torch.device(\"cuda\" if torch.cuda.is_available() else \"cpu\")\n",
    "\n",
    "def predict_koopman_seq2seq_model(\n",
    "    time_series: torch.Tensor,\n",
    "    prediction_steps: int,\n",
    "    model: KoopmanKernelSeq2Seq,\n",
    "):\n",
    "    assert len(time_series.shape) == 2\n",
    "    # tgts_dummy only needed to set the number of predicted time steps by model.\n",
    "    \"\"\"\n",
    "    Note: The model performs a number of single_forward steps, each predicting\n",
    "    `num_steps` future time steps, such that the total number of predicted time steps is\n",
    "    larger than `tgts.shape[1]`, i.e. `prediction_steps` or the `output_length` of the\n",
    "    dataset. In the end only the first `output_length` predicted data points are given\n",
    "    as output, the remaining (further) steps are discarded.\n",
    "    \"\"\"\n",
    "\n",
    "    num_feats = time_series.shape[1]\n",
    "\n",
    "    if model.context_mode == \"no_context\":\n",
    "        time_series_unsqueeze = time_series.unsqueeze(0).to(device)\n",
    "    elif model.context_mode == \"full_context\":\n",
    "        time_series_unsqueeze = time_series[-model.input_length:].unsqueeze(0).to(device)\n",
    "    if model.context_mode == \"last_context\":\n",
    "        time_series_unsqueeze = time_series[-model.input_length:].unsqueeze(0).to(device)\n",
    "\n",
    "\n",
    "    n_eval_steps = int(prediction_steps // model.output_length)\n",
    "    if n_eval_steps * model.output_length < prediction_steps:\n",
    "        n_eval_steps += 1\n",
    "\n",
    "    predictions = torch.zeros(\n",
    "        size=(\n",
    "            n_eval_steps * model.output_length,\n",
    "            num_feats,\n",
    "        ),\n",
    "        device=device,\n",
    "        dtype=torch.float32,\n",
    "    )\n",
    "    prediction = time_series_unsqueeze\n",
    "    # shape: (1, input_length, num_feats)\n",
    "    print(prediction.shape)\n",
    "\n",
    "    for idx in range(n_eval_steps):\n",
    "        new_prediction = model(prediction)\n",
    "        if model.context_mode == \"last_context\":\n",
    "            prediction = torch.cat([prediction[:, model.output_length:], new_prediction], dim=1)\n",
    "            # shape: (1, input_length, num_feats)\n",
    "        else:\n",
    "            prediction = torch.cat([prediction[:, model.output_length:], new_prediction[:, -1]], dim=1)\n",
    "            # shape: (1, input_length, num_feats)\n",
    "        print(prediction.shape)\n",
    "        predictions[idx * model.output_length : (idx+1) * model.output_length] = prediction[0, -model.output_length:]\n",
    "    # shape: (n_eval_steps, num_feats)\n",
    "\n",
    "    print(predictions.shape)\n",
    "\n",
    "    return predictions[:prediction_steps]\n",
    "\n",
    "\n",
    "def plot_TCTrackDataset_item_2D_with_prediction_koopman_seq2seq(\n",
    "    tc_tracks_dataset: TCTrackDataset,\n",
    "    idx: int,\n",
    "    prediction_steps,\n",
    "    model,\n",
    "    ax: Axes,\n",
    "    color: str,\n",
    "    dimensions: tuple[int, int] = (0, 1),\n",
    "):\n",
    "    plot_TCTrackDataset_item_2D(tc_tracks_dataset, idx, ax, color, dimensions)\n",
    "    time_series, _ = tc_tracks_dataset[idx]\n",
    "    predictions = predict_koopman_seq2seq_model(\n",
    "        time_series, prediction_steps, model\n",
    "    )\n",
    "    predictions = predictions.cpu().data.numpy()\n",
    "    ax.plot(\n",
    "        predictions[:, dimensions[0]],\n",
    "        predictions[:, dimensions[1]],\n",
    "        marker=\"s\",\n",
    "        color=color,\n",
    "    )\n"
   ]
  },
  {
   "cell_type": "code",
   "execution_count": 115,
   "metadata": {},
   "outputs": [
    {
     "data": {
      "text/plain": [
       "'last_context'"
      ]
     },
     "execution_count": 115,
     "metadata": {},
     "output_type": "execute_result"
    }
   ],
   "source": [
    "model.context_mode"
   ]
  },
  {
   "cell_type": "code",
   "execution_count": 116,
   "metadata": {},
   "outputs": [
    {
     "data": {
      "image/png": "[encoded data removed]",
      "text/plain": [
       "<Figure size 640x480 with 1 Axes>"
      ]
     },
     "metadata": {},
     "output_type": "display_data"
    }
   ],
   "source": [
    "fig, ax = plt.subplots()\n",
    "for i, idx in enumerate(np.random.randint(0, len(train_set), 7)):\n",
    "    plot_TCTrackDataset_item_2D(train_set, idx, ax, color=f\"C{i}\")"
   ]
  },
  {
   "cell_type": "code",
   "execution_count": 117,
   "metadata": {},
   "outputs": [
    {
     "name": "stdout",
     "output_type": "stream",
     "text": [
      "torch.Size([1, 13, 5])\n"
     ]
    },
    {
     "ename": "RuntimeError",
     "evalue": "Tensors must have same number of dimensions: got 3 and 2",
     "output_type": "error",
     "traceback": [
      "\u001b[0;31m---------------------------------------------------------------------------\u001b[0m",
      "\u001b[0;31mRuntimeError\u001b[0m                              Traceback (most recent call last)",
      "Cell \u001b[0;32mIn[117], line 6\u001b[0m\n\u001b[1;32m      3\u001b[0m fig, ax \u001b[38;5;241m=\u001b[39m plt\u001b[38;5;241m.\u001b[39msubplots()\n\u001b[1;32m      4\u001b[0m \u001b[38;5;28;01mfor\u001b[39;00m i, idx \u001b[38;5;129;01min\u001b[39;00m \u001b[38;5;28menumerate\u001b[39m(np\u001b[38;5;241m.\u001b[39mrandom\u001b[38;5;241m.\u001b[39mrandint(\u001b[38;5;241m0\u001b[39m, \u001b[38;5;28mlen\u001b[39m(train_set), \u001b[38;5;241m5\u001b[39m)):\n\u001b[0;32m----> 6\u001b[0m     \u001b[43mplot_TCTrackDataset_item_2D_with_prediction_koopman_seq2seq\u001b[49m\u001b[43m(\u001b[49m\n\u001b[1;32m      7\u001b[0m \u001b[43m        \u001b[49m\u001b[43mtrain_set\u001b[49m\u001b[43m,\u001b[49m\n\u001b[1;32m      8\u001b[0m \u001b[43m        \u001b[49m\u001b[43midx\u001b[49m\u001b[43m,\u001b[49m\n\u001b[1;32m      9\u001b[0m \u001b[43m        \u001b[49m\u001b[43mprediction_steps\u001b[49m\u001b[38;5;241;43m=\u001b[39;49m\u001b[43mprediction_steps\u001b[49m\u001b[43m,\u001b[49m\n\u001b[1;32m     10\u001b[0m \u001b[43m        \u001b[49m\u001b[43mmodel\u001b[49m\u001b[38;5;241;43m=\u001b[39;49m\u001b[43mmodel\u001b[49m\u001b[43m,\u001b[49m\n\u001b[1;32m     11\u001b[0m \u001b[43m        \u001b[49m\u001b[43max\u001b[49m\u001b[38;5;241;43m=\u001b[39;49m\u001b[43max\u001b[49m\u001b[43m,\u001b[49m\n\u001b[1;32m     12\u001b[0m \u001b[43m        \u001b[49m\u001b[43mcolor\u001b[49m\u001b[38;5;241;43m=\u001b[39;49m\u001b[38;5;124;43mf\u001b[39;49m\u001b[38;5;124;43m\"\u001b[39;49m\u001b[38;5;124;43mC\u001b[39;49m\u001b[38;5;132;43;01m{\u001b[39;49;00m\u001b[43mi\u001b[49m\u001b[38;5;132;43;01m}\u001b[39;49;00m\u001b[38;5;124;43m\"\u001b[39;49m\n\u001b[1;32m     13\u001b[0m \u001b[43m    \u001b[49m\u001b[43m)\u001b[49m\n\u001b[1;32m     15\u001b[0m \u001b[38;5;66;03m# ax.set_xlim(-1, 1)\u001b[39;00m\n\u001b[1;32m     16\u001b[0m \u001b[38;5;66;03m# ax.set_ylim(-1, 1)\u001b[39;00m\n\u001b[1;32m     17\u001b[0m \u001b[38;5;66;03m# ax.set_xlim(-6,-5)\u001b[39;00m\n\u001b[1;32m     18\u001b[0m \u001b[38;5;66;03m# ax.set_ylim(-9.25,-9)\u001b[39;00m\n",
      "Cell \u001b[0;32mIn[114], line 77\u001b[0m, in \u001b[0;36mplot_TCTrackDataset_item_2D_with_prediction_koopman_seq2seq\u001b[0;34m(tc_tracks_dataset, idx, prediction_steps, model, ax, color, dimensions)\u001b[0m\n\u001b[1;32m     75\u001b[0m plot_TCTrackDataset_item_2D(tc_tracks_dataset, idx, ax, color, dimensions)\n\u001b[1;32m     76\u001b[0m time_series, _ \u001b[38;5;241m=\u001b[39m tc_tracks_dataset[idx]\n\u001b[0;32m---> 77\u001b[0m predictions \u001b[38;5;241m=\u001b[39m \u001b[43mpredict_koopman_seq2seq_model\u001b[49m\u001b[43m(\u001b[49m\n\u001b[1;32m     78\u001b[0m \u001b[43m    \u001b[49m\u001b[43mtime_series\u001b[49m\u001b[43m,\u001b[49m\u001b[43m \u001b[49m\u001b[43mprediction_steps\u001b[49m\u001b[43m,\u001b[49m\u001b[43m \u001b[49m\u001b[43mmodel\u001b[49m\n\u001b[1;32m     79\u001b[0m \u001b[43m\u001b[49m\u001b[43m)\u001b[49m\n\u001b[1;32m     80\u001b[0m predictions \u001b[38;5;241m=\u001b[39m predictions\u001b[38;5;241m.\u001b[39mcpu()\u001b[38;5;241m.\u001b[39mdata\u001b[38;5;241m.\u001b[39mnumpy()\n\u001b[1;32m     81\u001b[0m ax\u001b[38;5;241m.\u001b[39mplot(\n\u001b[1;32m     82\u001b[0m     predictions[:, dimensions[\u001b[38;5;241m0\u001b[39m]],\n\u001b[1;32m     83\u001b[0m     predictions[:, dimensions[\u001b[38;5;241m1\u001b[39m]],\n\u001b[1;32m     84\u001b[0m     marker\u001b[38;5;241m=\u001b[39m\u001b[38;5;124m\"\u001b[39m\u001b[38;5;124ms\u001b[39m\u001b[38;5;124m\"\u001b[39m,\n\u001b[1;32m     85\u001b[0m     color\u001b[38;5;241m=\u001b[39mcolor,\n\u001b[1;32m     86\u001b[0m )\n",
      "Cell \u001b[0;32mIn[114], line 52\u001b[0m, in \u001b[0;36mpredict_koopman_seq2seq_model\u001b[0;34m(time_series, prediction_steps, model)\u001b[0m\n\u001b[1;32m     50\u001b[0m new_prediction \u001b[38;5;241m=\u001b[39m model(prediction)\n\u001b[1;32m     51\u001b[0m \u001b[38;5;28;01mif\u001b[39;00m model\u001b[38;5;241m.\u001b[39mcontext_mode \u001b[38;5;241m==\u001b[39m \u001b[38;5;124m\"\u001b[39m\u001b[38;5;124mlast_context\u001b[39m\u001b[38;5;124m\"\u001b[39m:\n\u001b[0;32m---> 52\u001b[0m     prediction \u001b[38;5;241m=\u001b[39m \u001b[43mtorch\u001b[49m\u001b[38;5;241;43m.\u001b[39;49m\u001b[43mcat\u001b[49m\u001b[43m(\u001b[49m\u001b[43m[\u001b[49m\u001b[43mprediction\u001b[49m\u001b[43m[\u001b[49m\u001b[43m:\u001b[49m\u001b[43m,\u001b[49m\u001b[43m \u001b[49m\u001b[43mmodel\u001b[49m\u001b[38;5;241;43m.\u001b[39;49m\u001b[43moutput_length\u001b[49m\u001b[43m:\u001b[49m\u001b[43m]\u001b[49m\u001b[43m,\u001b[49m\u001b[43m \u001b[49m\u001b[43mnew_prediction\u001b[49m\u001b[43m]\u001b[49m\u001b[43m,\u001b[49m\u001b[43m \u001b[49m\u001b[43mdim\u001b[49m\u001b[38;5;241;43m=\u001b[39;49m\u001b[38;5;241;43m1\u001b[39;49m\u001b[43m)\u001b[49m\n\u001b[1;32m     53\u001b[0m     \u001b[38;5;66;03m# shape: (1, input_length, num_feats)\u001b[39;00m\n\u001b[1;32m     54\u001b[0m \u001b[38;5;28;01melse\u001b[39;00m:\n\u001b[1;32m     55\u001b[0m     prediction \u001b[38;5;241m=\u001b[39m torch\u001b[38;5;241m.\u001b[39mcat([prediction[:, model\u001b[38;5;241m.\u001b[39moutput_length:], new_prediction[:, \u001b[38;5;241m-\u001b[39m\u001b[38;5;241m1\u001b[39m]], dim\u001b[38;5;241m=\u001b[39m\u001b[38;5;241m1\u001b[39m)\n",
      "\u001b[0;31mRuntimeError\u001b[0m: Tensors must have same number of dimensions: got 3 and 2"
     ]
    },
    {
     "data": {
      "image/png": "[encoded data removed]",
      "text/plain": [
       "<Figure size 640x480 with 1 Axes>"
      ]
     },
     "metadata": {},
     "output_type": "display_data"
    }
   ],
   "source": [
    "prediction_steps = 4\n",
    "\n",
    "fig, ax = plt.subplots()\n",
    "for i, idx in enumerate(np.random.randint(0, len(train_set), 5)):\n",
    "\n",
    "    plot_TCTrackDataset_item_2D_with_prediction_koopman_seq2seq(\n",
    "        train_set,\n",
    "        idx,\n",
    "        prediction_steps=prediction_steps,\n",
    "        model=model,\n",
    "        ax=ax,\n",
    "        color=f\"C{i}\"\n",
    "    )\n",
    "\n",
    "# ax.set_xlim(-1, 1)\n",
    "# ax.set_ylim(-1, 1)\n",
    "# ax.set_xlim(-6,-5)\n",
    "# ax.set_ylim(-9.25,-9)"
   ]
  },
  {
   "cell_type": "code",
   "execution_count": 205,
   "metadata": {},
   "outputs": [
    {
     "data": {
      "text/plain": [
       "2"
      ]
     },
     "execution_count": 205,
     "metadata": {},
     "output_type": "execute_result"
    }
   ],
   "source": [
    "model.output_length"
   ]
  },
  {
   "cell_type": "code",
   "execution_count": null,
   "metadata": {},
   "outputs": [],
   "source": []
  },
  {
   "cell_type": "code",
   "execution_count": null,
   "metadata": {},
   "outputs": [],
   "source": []
  }
 ],
 "metadata": {
  "kernelspec": {
   "display_name": ".venv",
   "language": "python",
   "name": "python3"
  },
  "language_info": {
   "codemirror_mode": {
    "name": "ipython",
    "version": 3
   },
   "file_extension": ".py",
   "mimetype": "text/x-python",
   "name": "python",
   "nbconvert_exporter": "python",
   "pygments_lexer": "ipython3",
   "version": "3.11.9"
  }
 },
 "nbformat": 4,
 "nbformat_minor": 2
}
