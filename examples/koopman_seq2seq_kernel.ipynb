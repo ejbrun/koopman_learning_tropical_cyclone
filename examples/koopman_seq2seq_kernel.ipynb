{
 "cells": [
  {
   "cell_type": "markdown",
   "metadata": {},
   "source": [
    "# Koopman Seq2Seq model\n",
    "\n",
    "[work in progress]\n",
    "\n",
    "Here I develop a new ML architecture, combining Koopman kernel methods with a seq2seq architecture."
   ]
  },
  {
   "cell_type": "code",
   "execution_count": 2,
   "metadata": {},
   "outputs": [],
   "source": [
    "import os\n",
    "import random\n",
    "import time\n",
    "\n",
    "import numpy as np\n",
    "import torch\n",
    "# from klearn_tcyclone.training_utils.args import FLAGS, ALL_FLAGS\n",
    "from sklearn.model_selection import train_test_split\n",
    "from torch import nn\n",
    "from torch.utils import data\n",
    "\n",
    "from klearn_tcyclone.climada.tc_tracks import TCTracks\n",
    "from klearn_tcyclone.data_utils import (\n",
    "    LinearScaler,\n",
    ")\n",
    "from klearn_tcyclone.KNF.modules.eval_metrics import RMSE_TCTracks\n",
    "from klearn_tcyclone.KNF.modules.train_utils import (\n",
    "    eval_epoch_koopman,\n",
    "    train_epoch_koopman,\n",
    ")\n",
    "from klearn_tcyclone.knf_data_utils import TCTrackDataset\n",
    "from absl import app, flags\n",
    "\n",
    "from klearn_tcyclone.training_utils.training_utils import extend_by_default_flag_values\n",
    "\n",
    "from kkseq.koopkernel_sequencer import RBFKernel, NystroemKoopKernelSequencer\n",
    "\n",
    "from klearn_tcyclone.data_utils import (\n",
    "    standardized_context_dataset_from_TCTracks,\n",
    ")\n",
    "\n",
    "from matplotlib import pyplot as plt\n",
    "from klearn_tcyclone.KNF.modules.models import Koopman\n",
    "import torch\n",
    "\n",
    "\n",
    "from klearn_tcyclone.koopkernel_sequencer_utils import train_KKSeq2Seq\n",
    "from klearn_tcyclone.koopkernel_sequencer_utils import plot_TCTrackDataset_item_2D_with_prediction_koopman_seq2seq\n",
    "from klearn_tcyclone.plot_utils import plot_TCTrackDataset_item_2D\n",
    "import logging"
   ]
  },
  {
   "cell_type": "code",
   "execution_count": null,
   "metadata": {},
   "outputs": [],
   "source": []
  },
  {
   "cell_type": "markdown",
   "metadata": {},
   "source": [
    "## Import data"
   ]
  },
  {
   "cell_type": "markdown",
   "metadata": {},
   "source": [
    "Set some specific parameters and load default values for all other parameters."
   ]
  },
  {
   "cell_type": "code",
   "execution_count": 3,
   "metadata": {},
   "outputs": [],
   "source": [
    "flag_params = {\n",
    "    # \"seed\": 42,\n",
    "    \"year_range\": [1980, 1988],\n",
    "    # \"batch_size\": 16,\n",
    "    \"num_epochs\": 20,\n",
    "    \"train_output_length\": 1,\n",
    "    \"test_output_length\": 1,\n",
    "    \"input_length\": 13,\n",
    "    \"context_length\": 14,\n",
    "}\n",
    "flag_params = extend_by_default_flag_values(flag_params)\n",
    "\n",
    "assert flag_params[\"context_length\"] == flag_params[\"input_length\"] + flag_params[\"train_output_length\"]"
   ]
  },
  {
   "cell_type": "code",
   "execution_count": 4,
   "metadata": {},
   "outputs": [
    {
     "name": "stdout",
     "output_type": "stream",
     "text": [
      "Device cuda\n"
     ]
    }
   ],
   "source": [
    "random.seed(flag_params[\"seed\"])  # python random generator\n",
    "np.random.seed(flag_params[\"seed\"])  # numpy random generator\n",
    "\n",
    "torch.manual_seed(flag_params[\"seed\"])\n",
    "torch.cuda.manual_seed_all(flag_params[\"seed\"])\n",
    "\n",
    "torch.backends.cudnn.deterministic = True\n",
    "torch.backends.cudnn.benchmark = False\n",
    "\n",
    "feature_list = [\n",
    "    \"lon\",\n",
    "    \"lat\",\n",
    "    \"max_sustained_wind\",\n",
    "    # \"radius_max_wind\",\n",
    "    # \"radius_oci\",\n",
    "    \"central_pressure\",\n",
    "    \"environmental_pressure\",\n",
    "]\n",
    "\n",
    "# feature_list = [\n",
    "#     \"lon\",\n",
    "#     \"lat\",\n",
    "#     \"max_sustained_wind\",\n",
    "#     \"radius_max_wind\",\n",
    "#     \"radius_oci\",\n",
    "#     \"central_pressure\",\n",
    "#     \"environmental_pressure\",\n",
    "# ]\n",
    "\n",
    "# these are not contained as flags\n",
    "# encoder_hidden_dim = flag_params[\"hidden_dim\"]\n",
    "# decoder_hidden_dim = flag_params[\"hidden_dim\"]\n",
    "# encoder_num_layers = flag_params[\"num_layers\"]\n",
    "# decoder_num_layers = flag_params[\"num_layers\"]\n",
    "\n",
    "output_dim = flag_params[\"input_dim\"]\n",
    "num_feats = len(feature_list)\n",
    "learning_rate = flag_params[\"learning_rate\"]\n",
    "# ---------------\n",
    "\n",
    "device = torch.device(\"cuda\" if torch.cuda.is_available() else \"cpu\")\n",
    "print(\"Device\", device)\n",
    "\n",
    "scaler = LinearScaler()"
   ]
  },
  {
   "cell_type": "code",
   "execution_count": 5,
   "metadata": {},
   "outputs": [],
   "source": [
    "time_lag = 1\n",
    "scaler = LinearScaler()\n",
    "basin = \"NA\""
   ]
  },
  {
   "cell_type": "code",
   "execution_count": 6,
   "metadata": {},
   "outputs": [
    {
     "name": "stdout",
     "output_type": "stream",
     "text": [
      "2025-03-21 20:31:24,822 - climada.hazard.tc_tracks - WARNING - 49 storm events are discarded because no valid wind/pressure values have been found: 1980199N31284, 1980200N25270, 1980204N23287, 1980226N15339, 1980238N16328, ...\n"
     ]
    }
   ],
   "source": [
    "# Datasets\n",
    "tc_tracks = TCTracks.from_ibtracs_netcdf(\n",
    "    provider=\"official\",\n",
    "    year_range=flag_params[\"year_range\"],\n",
    "    basin=basin,\n",
    ")\n",
    "\n",
    "tc_tracks_train, tc_tracks_test = train_test_split(tc_tracks.data, test_size=0.1)"
   ]
  },
  {
   "cell_type": "code",
   "execution_count": 7,
   "metadata": {},
   "outputs": [
    {
     "data": {
      "text/plain": [
       "(73,\n",
       " <xarray.Dataset> Size: 8kB\n",
       " Dimensions:                 (time: 134)\n",
       " Coordinates:\n",
       "   * time                    (time) datetime64[ns] 1kB 1986-08-13T12:00:00 ......\n",
       "     lat                     (time) float32 536B 30.1 30.45 30.8 ... 56.2 56.2\n",
       "     lon                     (time) float32 536B -84.0 -84.0 -84.0 ... 7.0 8.0\n",
       " Data variables:\n",
       "     radius_max_wind         (time) float32 536B 0.0 0.0 0.0 0.0 ... 0.0 0.0 0.0\n",
       "     radius_oci              (time) float32 536B 0.0 0.0 0.0 0.0 ... 0.0 0.0 0.0\n",
       "     max_sustained_wind      (time) float32 536B 10.0 10.0 10.0 ... 15.0 15.0\n",
       "     central_pressure        (time) float32 536B 1.009e+03 1.01e+03 ... 1.006e+03\n",
       "     environmental_pressure  (time) float64 1kB 1.01e+03 1.01e+03 ... 1.01e+03\n",
       "     time_step               (time) float64 1kB 3.0 3.0 3.0 3.0 ... 3.0 3.0 3.0\n",
       "     basin                   (time) <U2 1kB 'NA' 'NA' 'NA' ... 'NA' 'NA' 'NA'\n",
       " Attributes:\n",
       "     max_sustained_wind_unit:  kn\n",
       "     central_pressure_unit:    mb\n",
       "     orig_event_flag:          True\n",
       "     data_provider:            ibtracs_official\n",
       "     category:                 1\n",
       "     name:                     CHARLEY\n",
       "     sid:                      1986226N30276\n",
       "     id_no:                    1986226030276.0)"
      ]
     },
     "execution_count": 7,
     "metadata": {},
     "output_type": "execute_result"
    }
   ],
   "source": [
    "len(tc_tracks_train), tc_tracks_train[5]"
   ]
  },
  {
   "cell_type": "markdown",
   "metadata": {},
   "source": [
    "The idea is to feed the tensor_context_dataset into the model. Because for the kernels I need the lookback window and the shifted version of this."
   ]
  },
  {
   "cell_type": "code",
   "execution_count": 8,
   "metadata": {},
   "outputs": [],
   "source": [
    "tensor_context_train_standardized = standardized_context_dataset_from_TCTracks(\n",
    "    tc_tracks_train,\n",
    "    feature_list=feature_list,\n",
    "    scaler=scaler,\n",
    "    context_length=flag_params[\"context_length\"],\n",
    "    time_lag=time_lag,\n",
    "    fit=True,\n",
    "    periodic_shift=True,\n",
    "    basin=basin,\n",
    ")"
   ]
  },
  {
   "cell_type": "code",
   "execution_count": 9,
   "metadata": {},
   "outputs": [
    {
     "data": {
      "text/plain": [
       "(3301, 14, 5)"
      ]
     },
     "execution_count": 9,
     "metadata": {},
     "output_type": "execute_result"
    }
   ],
   "source": [
    "tensor_context_train_standardized.shape"
   ]
  },
  {
   "cell_type": "code",
   "execution_count": 10,
   "metadata": {},
   "outputs": [],
   "source": [
    "train_set = TCTrackDataset(\n",
    "    input_length=flag_params[\"input_length\"],\n",
    "    output_length=flag_params[\"train_output_length\"],\n",
    "    tc_tracks=tc_tracks_train,\n",
    "    feature_list=feature_list,\n",
    "    mode=\"train\",\n",
    "    jumps=flag_params[\"jumps\"],\n",
    "    scaler=scaler,\n",
    "    fit=True,\n",
    ")\n",
    "valid_set = TCTrackDataset(\n",
    "    input_length=flag_params[\"input_length\"],\n",
    "    output_length=flag_params[\"train_output_length\"],\n",
    "    tc_tracks=tc_tracks_train,\n",
    "    feature_list=feature_list,\n",
    "    mode=\"valid\",\n",
    "    jumps=flag_params[\"jumps\"],\n",
    "    scaler=scaler,\n",
    "    fit=False,\n",
    ")\n",
    "test_set = TCTrackDataset(\n",
    "    input_length=flag_params[\"input_length\"],\n",
    "    output_length=flag_params[\"test_output_length\"],\n",
    "    tc_tracks=tc_tracks_test,\n",
    "    feature_list=feature_list,\n",
    "    mode=\"test\",\n",
    "    # jumps=flag_params[\"jumps\"], # jumps not used in test mode\n",
    "    scaler=scaler,\n",
    "    fit=False,\n",
    ")\n",
    "train_loader = data.DataLoader(\n",
    "    train_set, batch_size=flag_params[\"batch_size\"], shuffle=True, num_workers=1\n",
    ")\n",
    "valid_loader = data.DataLoader(\n",
    "    valid_set, batch_size=flag_params[\"batch_size\"], shuffle=True, num_workers=1\n",
    ")\n",
    "test_loader = data.DataLoader(\n",
    "    test_set, batch_size=flag_params[\"batch_size\"], shuffle=False, num_workers=1\n",
    ")\n",
    "\n",
    "if len(train_loader) == 0:\n",
    "    raise Exception(\n",
    "        \"There are likely too few data points in the test set. Try to increase year_range.\"\n",
    "    )"
   ]
  },
  {
   "cell_type": "code",
   "execution_count": 11,
   "metadata": {},
   "outputs": [],
   "source": [
    "#TODO Check why we have nan values!"
   ]
  },
  {
   "cell_type": "code",
   "execution_count": null,
   "metadata": {},
   "outputs": [],
   "source": []
  },
  {
   "cell_type": "code",
   "execution_count": null,
   "metadata": {},
   "outputs": [],
   "source": []
  },
  {
   "cell_type": "markdown",
   "metadata": {},
   "source": [
    "### Single step model"
   ]
  },
  {
   "cell_type": "code",
   "execution_count": 12,
   "metadata": {},
   "outputs": [],
   "source": [
    "# flag_params[\"koopman_kernel_num_centers\"] = 200\n",
    "flag_params[\"koopman_kernel_num_centers\"] = 1000"
   ]
  },
  {
   "cell_type": "code",
   "execution_count": 13,
   "metadata": {},
   "outputs": [],
   "source": [
    "# rbf = RBFKernel(length_scale=1E-1)\n",
    "\n",
    "# #TODO some parameters don't play a role in model definition -> remove them\n",
    "# koopkernelmodel = NystroemKoopKernelSequencer(\n",
    "#     kernel=rbf,\n",
    "#     input_dim = num_feats,\n",
    "#     input_length = 13,\n",
    "#     output_length = 1,\n",
    "#     output_dim = 1,\n",
    "#     num_steps = 1,\n",
    "#     num_nys_centers = flag_params[\"koopman_kernel_num_centers\"],\n",
    "#     rng_seed = 42,\n",
    "#     # context_mode=\"last_context\"\n",
    "#     # context_mode=\"no_context\"\n",
    "#     context_mode=\"full_context\"\n",
    "# )\n",
    "\n",
    "# koopkernelmodel._initialize_nystrom_data(tensor_context_train_standardized)"
   ]
  },
  {
   "cell_type": "markdown",
   "metadata": {},
   "source": [
    "#### Compare context modes"
   ]
  },
  {
   "cell_type": "code",
   "execution_count": 22,
   "metadata": {},
   "outputs": [],
   "source": [
    "# Logging and define save paths\n",
    "# current_file_dir_path = os.path.dirname(os.path.abspath(__file__))\n",
    "current_file_dir_path = os.getcwd()\n",
    "results_dir = os.path.join(\n",
    "    current_file_dir_path,\n",
    "    \"training_results\",\n",
    "    \"{}_yrange{}_basin{}\".format(\n",
    "        flag_params[\"dataset\"],\n",
    "        \"\".join(map(str, flag_params[\"year_range\"])),\n",
    "        flag_params[\"basin\"],\n",
    "    ),\n",
    "    flag_params[\"model\"],\n",
    ")\n",
    "logs_dir = os.path.join(\n",
    "    current_file_dir_path,\n",
    "    \"logs\",\n",
    "    # flag_params[\"dataset\"],\n",
    "    \"{}_yrange{}\".format(\n",
    "        flag_params[\"dataset\"],\n",
    "        \"\".join(map(str, flag_params[\"year_range\"])),\n",
    "    ),\n",
    ")\n",
    "os.makedirs(results_dir, exist_ok=True)\n",
    "os.makedirs(logs_dir, exist_ok=True)\n",
    "# logging.basicConfig(\n",
    "#     filename=os.path.join(logs_dir, flag_params[\"model\"] + \"_testrun.log\"),\n",
    "#     encoding=\"utf-8\",\n",
    "#     filemode=\"a\",\n",
    "#     format=\"{asctime} - {name} - {filename}:{lineno} - {levelname} - {message}\",\n",
    "#     style=\"{\",\n",
    "#     datefmt=\"%Y-%m-%d %H:%M:%S\",\n",
    "#     force=True,\n",
    "# )\n",
    "# logger = logging.getLogger(flag_params[\"model\"] + \"_logger\")\n",
    "# logger.info(flag_params)\n",
    "\n",
    "\n",
    "\n",
    "\n",
    "\n",
    "log_file_name = os.path.join(logs_dir, flag_params[\"model\"] + \".log\")\n",
    "\n",
    "logFormatter = logging.Formatter(\n",
    "    \"%(asctime)s [%(threadName)-12.12s] [%(levelname)-5.5s]  %(message)s\",\n",
    "    # style=\"{\",\n",
    "    # datefmt=\"%Y-%m-%d %H:%M:%S\",\n",
    ")\n",
    "fileHandler = logging.FileHandler(log_file_name)\n",
    "fileHandler.setFormatter(logFormatter)\n",
    "# logger.addHandler(fileHandler)"
   ]
  },
  {
   "cell_type": "code",
   "execution_count": null,
   "metadata": {},
   "outputs": [],
   "source": []
  },
  {
   "cell_type": "code",
   "execution_count": 23,
   "metadata": {},
   "outputs": [],
   "source": [
    "model_name=flag_params[\"model\"] + \"_testrun\"\n",
    "results_file_name = os.path.join(results_dir, model_name)\n",
    "\n",
    "eval_metric = RMSE_TCTracks\n",
    "scaler = LinearScaler()"
   ]
  },
  {
   "cell_type": "code",
   "execution_count": 24,
   "metadata": {},
   "outputs": [
    {
     "data": {
      "text/plain": [
       "1000"
      ]
     },
     "execution_count": 24,
     "metadata": {},
     "output_type": "execute_result"
    }
   ],
   "source": [
    "flag_params[\"koopman_kernel_num_centers\"]"
   ]
  },
  {
   "cell_type": "code",
   "execution_count": 25,
   "metadata": {},
   "outputs": [
    {
     "data": {
      "text/plain": [
       "{'year_range': [1980, 1988],\n",
       " 'num_epochs': 20,\n",
       " 'train_output_length': 1,\n",
       " 'test_output_length': 1,\n",
       " 'input_length': 13,\n",
       " 'context_length': 14,\n",
       " 'seed': 123,\n",
       " 'model': 'KNF',\n",
       " 'dataset': 'TCTracks',\n",
       " 'basin': 'EP',\n",
       " 'time_step_h': 1.0,\n",
       " 'global_local_combination': 'additive',\n",
       " 'learning_rate': 0.001,\n",
       " 'decay_rate': 0.9,\n",
       " 'batch_size': 32,\n",
       " 'min_epochs': 10,\n",
       " 'data_dir': 'data_prep/M4/',\n",
       " 'regularize_rank': False,\n",
       " 'use_revin': True,\n",
       " 'use_instancenorm': False,\n",
       " 'add_global_operator': True,\n",
       " 'add_control': True,\n",
       " 'data_freq': 'None',\n",
       " 'dropout_rate': 0.0,\n",
       " 'latent_dim': 32,\n",
       " 'num_steps': 5,\n",
       " 'control_hidden_dim': 64,\n",
       " 'num_layers': 4,\n",
       " 'control_num_layers': 3,\n",
       " 'jumps': 5,\n",
       " 'input_dim': 7,\n",
       " 'hidden_dim': 128,\n",
       " 'num_heads': 1,\n",
       " 'transformer_dim': 64,\n",
       " 'transformer_num_layers': 3,\n",
       " 'num_sins': -1,\n",
       " 'num_poly': -1,\n",
       " 'num_exp': -1,\n",
       " 'time_lag': 1,\n",
       " 'tikhonov_reg': 1e-08,\n",
       " 'koopman_kernel_rank': 25,\n",
       " 'koopman_kernel_reduced_rank': True,\n",
       " 'koopman_kernel_num_centers': 1000,\n",
       " 'koopman_kernel_length_scale': 50.0,\n",
       " 'koopman_kernel_svd_solver': 'randomized',\n",
       " 'koopman_kernel_num_train_stops': 6}"
      ]
     },
     "execution_count": 25,
     "metadata": {},
     "output_type": "execute_result"
    }
   ],
   "source": [
    "flag_params"
   ]
  },
  {
   "cell_type": "code",
   "execution_count": 26,
   "metadata": {},
   "outputs": [],
   "source": [
    "# flag_params[\"seed\"] = 42"
   ]
  },
  {
   "cell_type": "code",
   "execution_count": 28,
   "metadata": {},
   "outputs": [
    {
     "data": {
      "text/plain": [
       "'c:\\\\Users\\\\ecjbr\\\\projects\\\\koopman_learning_tropical_cyclone\\\\examples\\\\training_results\\\\TCTracks_yrange19801988_basinEP\\\\KNF\\\\KNF_testrun'"
      ]
     },
     "execution_count": 28,
     "metadata": {},
     "output_type": "execute_result"
    }
   ],
   "source": [
    "results_file_name"
   ]
  },
  {
   "cell_type": "code",
   "execution_count": 30,
   "metadata": {},
   "outputs": [
    {
     "name": "stdout",
     "output_type": "stream",
     "text": [
      "eval comparison 0.2594279168121067 1000000.0\n",
      "eval comparison 0.36712129229344614 0.2594279168121067\n",
      "eval comparison 0.29142297167523346 0.2594279168121067\n",
      "eval comparison 0.30064184965182916 0.2594279168121067\n",
      "eval comparison 0.30151297997769805 0.2594279168121067\n",
      "eval comparison 0.27412968456639925 0.2594279168121067\n",
      "eval comparison 0.263370110764846 0.2594279168121067\n",
      "eval comparison 0.25789674643162347 0.2594279168121067\n",
      "eval comparison 0.2582335997688312 0.25789674643162347\n",
      "eval comparison 0.26000071406839503 0.25789674643162347\n",
      "eval comparison 0.25946472153682937 0.25789674643162347\n",
      "eval comparison 0.2584402711859822 0.25789674643162347\n",
      "eval comparison 0.2560505998708548 0.25789674643162347\n",
      "eval comparison 0.2534152574706526 0.2560505998708548\n",
      "eval comparison 0.2514892140403171 0.2534152574706526\n",
      "eval comparison 0.25050425246186725 0.2514892140403171\n",
      "eval comparison 0.250328652602482 0.25050425246186725\n",
      "eval comparison 0.25048590448899005 0.250328652602482\n",
      "eval comparison 0.2507023082876172 0.250328652602482\n",
      "eval comparison 0.2509387763407779 0.250328652602482\n"
     ]
    }
   ],
   "source": [
    "rbf = RBFKernel(length_scale=1E-1)\n",
    "\n",
    "context_modes = [\n",
    "    # \"no_context\",\n",
    "    \"full_context\",\n",
    "    # \"last_context\",\n",
    "]\n",
    "models = {}\n",
    "train_losses = {}\n",
    "train_losses2 = {}\n",
    "for cm in context_modes:\n",
    "\n",
    "\n",
    "    #TODO some parameters don't play a role in model definition -> remove them\n",
    "    koopkernelmodel = NystroemKoopKernelSequencer(\n",
    "        kernel=rbf,\n",
    "        input_dim = num_feats,\n",
    "        input_length = flag_params[\"input_length\"],\n",
    "        output_length = flag_params[\"train_output_length\"],\n",
    "        output_dim = 1,\n",
    "        num_steps = 1,\n",
    "        num_nys_centers = flag_params[\"koopman_kernel_num_centers\"],\n",
    "        rng_seed = 42,\n",
    "        context_mode=cm,\n",
    "    )\n",
    "\n",
    "    koopkernelmodel._initialize_nystrom_data(tensor_context_train_standardized)\n",
    "\n",
    "    m, tl = train_KKSeq2Seq(\n",
    "        model=koopkernelmodel,\n",
    "        eval_metric=eval_metric,\n",
    "        tc_tracks=tc_tracks,\n",
    "        num_epochs=flag_params[\"num_epochs\"],\n",
    "        batch_size=flag_params[\"batch_size\"],\n",
    "        feature_list=feature_list,\n",
    "        scaler=scaler,\n",
    "        basin=basin,\n",
    "        log_file_handler=fileHandler,\n",
    "        results_dir=results_dir,\n",
    "        model_name=model_name,\n",
    "        flag_params=flag_params,\n",
    "        results_file_name=results_file_name,\n",
    "        split_valid_set = False,\n",
    "    )\n",
    "\n",
    "    models[cm] = m\n",
    "    train_losses[cm] = tl\n"
   ]
  },
  {
   "cell_type": "code",
   "execution_count": null,
   "metadata": {},
   "outputs": [],
   "source": []
  },
  {
   "cell_type": "code",
   "execution_count": 32,
   "metadata": {},
   "outputs": [
    {
     "data": {
      "text/plain": [
       "{'full_context': [np.float64(0.3806845851955537),\n",
       "  np.float64(0.283151856613443),\n",
       "  np.float64(0.23134851961312022),\n",
       "  np.float64(0.19958685404042034),\n",
       "  np.float64(0.1900725726177412),\n",
       "  np.float64(0.1680045304545818),\n",
       "  np.float64(0.13651747695905184),\n",
       "  np.float64(0.11589350019939101),\n",
       "  np.float64(0.09445358483804843),\n",
       "  np.float64(0.07873382206563331),\n",
       "  np.float64(0.07266343591700444),\n",
       "  np.float64(0.06828342275238655),\n",
       "  np.float64(0.06460144984314407),\n",
       "  np.float64(0.06116634236866483),\n",
       "  np.float64(0.058412677871027045),\n",
       "  np.float64(0.05594148459768164),\n",
       "  np.float64(0.05369704757976959),\n",
       "  np.float64(0.052005067894001326),\n",
       "  np.float64(0.05060448336497658),\n",
       "  np.float64(0.049459204151681514)]}"
      ]
     },
     "execution_count": 32,
     "metadata": {},
     "output_type": "execute_result"
    }
   ],
   "source": [
    "train_losses"
   ]
  },
  {
   "cell_type": "code",
   "execution_count": 33,
   "metadata": {},
   "outputs": [
    {
     "data": {
      "text/plain": [
       "array([0.14492075, 0.08017497, 0.05352214, 0.03983491, 0.03612758,\n",
       "       0.02822552, 0.01863702, 0.0134313 , 0.00892148, 0.00619901,\n",
       "       0.00527997, 0.00466263, 0.00417335, 0.00374132, 0.00341204,\n",
       "       0.00312945, 0.00288337, 0.00270453, 0.00256081, 0.00244621])"
      ]
     },
     "execution_count": 33,
     "metadata": {},
     "output_type": "execute_result"
    }
   ],
   "source": [
    "np.array(train_losses[\"full_context\"])**2"
   ]
  },
  {
   "cell_type": "code",
   "execution_count": 34,
   "metadata": {},
   "outputs": [
    {
     "data": {
      "text/plain": [
       "{}"
      ]
     },
     "execution_count": 34,
     "metadata": {},
     "output_type": "execute_result"
    }
   ],
   "source": [
    "train_losses2"
   ]
  },
  {
   "cell_type": "code",
   "execution_count": null,
   "metadata": {},
   "outputs": [],
   "source": []
  },
  {
   "cell_type": "code",
   "execution_count": 37,
   "metadata": {},
   "outputs": [
    {
     "data": {
      "image/png": "[encoded data removed]",
      "text/plain": [
       "<Figure size 640x480 with 1 Axes>"
      ]
     },
     "metadata": {},
     "output_type": "display_data"
    }
   ],
   "source": [
    "fig, ax = plt.subplots()\n",
    "\n",
    "for idx, cm in enumerate(context_modes):\n",
    "    ax.plot(range(flag_params[\"num_epochs\"]), train_losses[cm], color = f\"C{idx}\", label = cm)\n",
    "# ax.set_yscale(\"log\")\n",
    "ax.set_xlabel(\"Number of epochs\")\n",
    "ax.set_ylabel(\"Loss (MSE)\")\n",
    "ax.legend()\n",
    "ax.grid()\n",
    "\n",
    "# save_path = os.path.join(\n",
    "#     \"../plots/\", \"koopman_seq2seq/\"\n",
    "# )\n",
    "# os.makedirs(save_path, exist_ok=True)\n",
    "# fig.savefig(os.path.join(save_path, \"context_mode_comparison.png\"), bbox_inches='tight')"
   ]
  },
  {
   "cell_type": "code",
   "execution_count": null,
   "metadata": {},
   "outputs": [],
   "source": []
  },
  {
   "cell_type": "markdown",
   "metadata": {},
   "source": [
    "#### Plot predictions"
   ]
  },
  {
   "cell_type": "code",
   "execution_count": 38,
   "metadata": {},
   "outputs": [
    {
     "data": {
      "image/png": "[encoded data removed]",
      "text/plain": [
       "<Figure size 640x480 with 1 Axes>"
      ]
     },
     "metadata": {},
     "output_type": "display_data"
    }
   ],
   "source": [
    "fig, ax = plt.subplots()\n",
    "for i, idx in enumerate(np.random.randint(0, len(train_set), 7)):\n",
    "    plot_TCTrackDataset_item_2D(train_set, idx, ax, color=f\"C{i}\")"
   ]
  },
  {
   "cell_type": "code",
   "execution_count": 39,
   "metadata": {},
   "outputs": [
    {
     "name": "stdout",
     "output_type": "stream",
     "text": [
      "torch.Size([3, 5])\n",
      "torch.Size([3, 5])\n",
      "torch.Size([3, 5])\n",
      "torch.Size([3, 5])\n",
      "torch.Size([3, 5])\n"
     ]
    },
    {
     "data": {
      "image/png": "[encoded data removed]",
      "text/plain": [
       "<Figure size 640x480 with 1 Axes>"
      ]
     },
     "metadata": {},
     "output_type": "display_data"
    }
   ],
   "source": [
    "prediction_steps = 3\n",
    "\n",
    "fig, ax = plt.subplots()\n",
    "for i, idx in enumerate(np.random.randint(0, len(train_set), 5)):\n",
    "\n",
    "    plot_TCTrackDataset_item_2D_with_prediction_koopman_seq2seq(\n",
    "        train_set,\n",
    "        idx,\n",
    "        prediction_steps=prediction_steps,\n",
    "        model=models[\"full_context\"],\n",
    "        ax=ax,\n",
    "        color=f\"C{i}\"\n",
    "    )\n",
    "\n",
    "# ax.set_xlim(-1, 1)\n",
    "# ax.set_ylim(-1, 1)\n",
    "# ax.set_xlim(-6,-5)\n",
    "# ax.set_ylim(-9.25,-9)"
   ]
  },
  {
   "cell_type": "code",
   "execution_count": null,
   "metadata": {},
   "outputs": [],
   "source": []
  },
  {
   "cell_type": "markdown",
   "metadata": {},
   "source": [
    "### Multi step model"
   ]
  },
  {
   "cell_type": "code",
   "execution_count": 80,
   "metadata": {},
   "outputs": [],
   "source": [
    "flag_params[\"input_length\"] = 13\n",
    "flag_params[\"train_output_length\"] = 5\n",
    "flag_params[\"context_length\"] = flag_params[\"input_length\"] + flag_params[\"train_output_length\"]\n",
    "flag_params[\"num_epochs\"] = 50\n",
    "# flag_params[\"koopman_kernel_num_centers\"] = 50\n",
    "flag_params[\"koopman_kernel_num_centers\"] = 1000"
   ]
  },
  {
   "cell_type": "code",
   "execution_count": 81,
   "metadata": {},
   "outputs": [
    {
     "name": "stdout",
     "output_type": "stream",
     "text": [
      "intput_length and output_length are not None.\n"
     ]
    }
   ],
   "source": [
    "tensor_context_train_standardized = standardized_context_dataset_from_TCTracks(\n",
    "    tc_tracks_train,\n",
    "    feature_list=feature_list,\n",
    "    scaler=scaler,\n",
    "    context_length=flag_params[\"context_length\"],\n",
    "    time_lag=time_lag,\n",
    "    fit=True,\n",
    "    periodic_shift=True,\n",
    "    basin=basin,\n",
    "    input_length=flag_params[\"input_length\"],\n",
    "    output_length=flag_params[\"train_output_length\"],\n",
    ")"
   ]
  },
  {
   "cell_type": "code",
   "execution_count": 82,
   "metadata": {},
   "outputs": [
    {
     "data": {
      "text/plain": [
       "(3015, 18, 5)"
      ]
     },
     "execution_count": 82,
     "metadata": {},
     "output_type": "execute_result"
    }
   ],
   "source": [
    "tensor_context_train_standardized.shape"
   ]
  },
  {
   "cell_type": "code",
   "execution_count": null,
   "metadata": {},
   "outputs": [],
   "source": []
  },
  {
   "cell_type": "code",
   "execution_count": null,
   "metadata": {},
   "outputs": [],
   "source": [
    "# rbf = RBFKernel(length_scale=1E-1)\n",
    "\n",
    "# #TODO some parameters don't play a role in model definition -> remove them\n",
    "# koopkernelmodel = NystroemKoopKernelSequencer(\n",
    "#     kernel=rbf,\n",
    "#     input_dim = num_feats,\n",
    "#     input_length = flag_params[\"input_length\"],\n",
    "#     output_length = flag_params[\"train_output_length\"],\n",
    "#     output_dim = 1,\n",
    "#     num_steps = 1,\n",
    "#     num_nys_centers = flag_params[\"koopman_kernel_num_centers\"],\n",
    "#     rng_seed = 42,\n",
    "#     # context_mode=\"last_context\"\n",
    "#     context_mode=\"no_context\"\n",
    "#     # context_mode=\"full_context\"\n",
    "# )\n",
    "\n",
    "# koopkernelmodel._initialize_nystrom_data(tensor_context_train_standardized)"
   ]
  },
  {
   "cell_type": "code",
   "execution_count": null,
   "metadata": {},
   "outputs": [],
   "source": []
  },
  {
   "cell_type": "markdown",
   "metadata": {},
   "source": [
    "#### Compare context modes"
   ]
  },
  {
   "cell_type": "code",
   "execution_count": null,
   "metadata": {},
   "outputs": [],
   "source": []
  },
  {
   "cell_type": "code",
   "execution_count": 85,
   "metadata": {},
   "outputs": [
    {
     "data": {
      "text/plain": [
       "5"
      ]
     },
     "execution_count": 85,
     "metadata": {},
     "output_type": "execute_result"
    }
   ],
   "source": [
    "flag_params[\"train_output_length\"]"
   ]
  },
  {
   "cell_type": "code",
   "execution_count": null,
   "metadata": {},
   "outputs": [
    {
     "name": "stdout",
     "output_type": "stream",
     "text": [
      "torch.Size([1000, 5]) torch.Size([1000, 5])\n",
      "range(0, 94)\n",
      "  batch 10 loss: 0.4492741316556931\n",
      "  batch 20 loss: 0.2319808378815651\n",
      "  batch 30 loss: 0.11231947094202041\n",
      "  batch 40 loss: 0.07032168060541152\n",
      "  batch 50 loss: 0.0663390163332224\n",
      "  batch 60 loss: 0.052049097046256064\n",
      "  batch 70 loss: 0.055054842680692676\n",
      "  batch 80 loss: 0.0369167847558856\n",
      "  batch 90 loss: 0.03742564171552658\n",
      "{'lr': 0.001, 'betas': (0.9, 0.999), 'eps': 1e-08, 'weight_decay': 0, 'amsgrad': False, 'maximize': False, 'foreach': None, 'capturable': False, 'differentiable': False, 'fused': None, 'initial_lr': 0.001, 'params': [0]}\n",
      "range(0, 94)\n",
      "  batch 10 loss: 0.03486640602350235\n",
      "  batch 20 loss: 0.03213535193353891\n",
      "  batch 30 loss: 0.02332946062088013\n",
      "  batch 40 loss: 0.021954132243990898\n",
      "  batch 50 loss: 0.027205750904977323\n",
      "  batch 60 loss: 0.025441078934818506\n",
      "  batch 70 loss: 0.031246060132980348\n",
      "  batch 80 loss: 0.022924530878663064\n",
      "  batch 90 loss: 0.028894935548305512\n",
      "{'lr': 0.0009000000000000001, 'betas': (0.9, 0.999), 'eps': 1e-08, 'weight_decay': 0, 'amsgrad': False, 'maximize': False, 'foreach': None, 'capturable': False, 'differentiable': False, 'fused': None, 'initial_lr': 0.001, 'params': [0]}\n",
      "range(0, 94)\n",
      "  batch 10 loss: 0.026926611736416816\n",
      "  batch 20 loss: 0.022689742408692835\n",
      "  batch 30 loss: 0.018136429879814387\n",
      "  batch 40 loss: 0.017902383022010325\n",
      "  batch 50 loss: 0.020174854993820192\n",
      "  batch 60 loss: 0.02265265453606844\n",
      "  batch 70 loss: 0.03141662543639541\n",
      "  batch 80 loss: 0.02541206106543541\n",
      "  batch 90 loss: 0.026346487738192082\n",
      "{'lr': 0.0008100000000000001, 'betas': (0.9, 0.999), 'eps': 1e-08, 'weight_decay': 0, 'amsgrad': False, 'maximize': False, 'foreach': None, 'capturable': False, 'differentiable': False, 'fused': None, 'initial_lr': 0.001, 'params': [0]}\n",
      "range(0, 94)\n",
      "  batch 10 loss: 0.022361730132251977\n",
      "  batch 20 loss: 0.021714397147297858\n",
      "  batch 30 loss: 0.017650882713496685\n",
      "  batch 40 loss: 0.015042620990425349\n",
      "  batch 50 loss: 0.017804267816245556\n",
      "  batch 60 loss: 0.01802982799708843\n",
      "  batch 70 loss: 0.021124135237187147\n",
      "  batch 80 loss: 0.018537145294249057\n",
      "  batch 90 loss: 0.02542712166905403\n",
      "{'lr': 0.000729, 'betas': (0.9, 0.999), 'eps': 1e-08, 'weight_decay': 0, 'amsgrad': False, 'maximize': False, 'foreach': None, 'capturable': False, 'differentiable': False, 'fused': None, 'initial_lr': 0.001, 'params': [0]}\n",
      "range(0, 94)\n",
      "  batch 10 loss: 0.017831018008291722\n",
      "  batch 20 loss: 0.01762262200936675\n",
      "  batch 30 loss: 0.01401900453492999\n",
      "  batch 40 loss: 0.014309565536677837\n",
      "  batch 50 loss: 0.018207234796136618\n",
      "  batch 60 loss: 0.019630026165395977\n",
      "  batch 70 loss: 0.024874032754451037\n",
      "  batch 80 loss: 0.02171753505244851\n",
      "  batch 90 loss: 0.024877582490444184\n",
      "{'lr': 0.0006561000000000001, 'betas': (0.9, 0.999), 'eps': 1e-08, 'weight_decay': 0, 'amsgrad': False, 'maximize': False, 'foreach': None, 'capturable': False, 'differentiable': False, 'fused': None, 'initial_lr': 0.001, 'params': [0]}\n",
      "range(0, 94)\n",
      "  batch 10 loss: 0.018531897850334645\n",
      "  batch 20 loss: 0.016053177788853644\n",
      "  batch 30 loss: 0.012405711319297552\n",
      "  batch 40 loss: 0.012049898924306034\n",
      "  batch 50 loss: 0.014101731311529874\n",
      "  batch 60 loss: 0.01229361891746521\n",
      "  batch 70 loss: 0.018109564017504454\n",
      "  batch 80 loss: 0.015962054952979088\n",
      "  batch 90 loss: 0.0182928285561502\n",
      "{'lr': 0.00059049, 'betas': (0.9, 0.999), 'eps': 1e-08, 'weight_decay': 0, 'amsgrad': False, 'maximize': False, 'foreach': None, 'capturable': False, 'differentiable': False, 'fused': None, 'initial_lr': 0.001, 'params': [0]}\n",
      "range(0, 94)\n",
      "  batch 10 loss: 0.01914486950263381\n",
      "  batch 20 loss: 0.018989252112805843\n",
      "  batch 30 loss: 0.013048858288675547\n",
      "  batch 40 loss: 0.012787603121250869\n",
      "  batch 50 loss: 0.013262278679758311\n",
      "  batch 60 loss: 0.0125902249943465\n",
      "  batch 70 loss: 0.013432711083441972\n",
      "  batch 80 loss: 0.010572886746376752\n",
      "  batch 90 loss: 0.012673718249425292\n",
      "{'lr': 0.000531441, 'betas': (0.9, 0.999), 'eps': 1e-08, 'weight_decay': 0, 'amsgrad': False, 'maximize': False, 'foreach': None, 'capturable': False, 'differentiable': False, 'fused': None, 'initial_lr': 0.001, 'params': [0]}\n",
      "range(0, 94)\n",
      "  batch 10 loss: 0.01203717072494328\n",
      "  batch 20 loss: 0.011444656737148761\n",
      "  batch 30 loss: 0.00880839596502483\n",
      "  batch 40 loss: 0.008283562632277608\n",
      "  batch 50 loss: 0.009455361496657133\n",
      "  batch 60 loss: 0.00823497362434864\n",
      "  batch 70 loss: 0.010546908341348171\n",
      "  batch 80 loss: 0.008815754624083637\n",
      "  batch 90 loss: 0.010342279309406876\n",
      "{'lr': 0.0004782969, 'betas': (0.9, 0.999), 'eps': 1e-08, 'weight_decay': 0, 'amsgrad': False, 'maximize': False, 'foreach': None, 'capturable': False, 'differentiable': False, 'fused': None, 'initial_lr': 0.001, 'params': [0]}\n",
      "range(0, 94)\n",
      "  batch 10 loss: 0.010968009987846018\n",
      "  batch 20 loss: 0.010405960585922002\n",
      "  batch 30 loss: 0.00704110930673778\n",
      "  batch 40 loss: 0.007404200453311205\n",
      "  batch 50 loss: 0.007984673930332064\n",
      "  batch 60 loss: 0.0074273691512644294\n",
      "  batch 70 loss: 0.009260751120746136\n",
      "  batch 80 loss: 0.00711351428180933\n",
      "  batch 90 loss: 0.008692035917192698\n",
      "{'lr': 0.00043046721, 'betas': (0.9, 0.999), 'eps': 1e-08, 'weight_decay': 0, 'amsgrad': False, 'maximize': False, 'foreach': None, 'capturable': False, 'differentiable': False, 'fused': None, 'initial_lr': 0.001, 'params': [0]}\n",
      "range(0, 94)\n",
      "  batch 10 loss: 0.008063203468918801\n",
      "  batch 20 loss: 0.008067944552749395\n",
      "  batch 30 loss: 0.005584291415289044\n",
      "  batch 40 loss: 0.0056932980194687845\n",
      "  batch 50 loss: 0.006651189364492893\n",
      "  batch 60 loss: 0.006221058964729309\n",
      "  batch 70 loss: 0.007781466096639633\n",
      "  batch 80 loss: 0.006223432207480073\n",
      "  batch 90 loss: 0.008351310202851892\n",
      "{'lr': 0.000387420489, 'betas': (0.9, 0.999), 'eps': 1e-08, 'weight_decay': 0, 'amsgrad': False, 'maximize': False, 'foreach': None, 'capturable': False, 'differentiable': False, 'fused': None, 'initial_lr': 0.001, 'params': [0]}\n",
      "range(0, 94)\n",
      "  batch 10 loss: 0.007804827555082739\n",
      "  batch 20 loss: 0.007707711448892951\n",
      "  batch 30 loss: 0.005391224334016442\n",
      "  batch 40 loss: 0.0055255243787541986\n",
      "  batch 50 loss: 0.006578348344191909\n",
      "  batch 60 loss: 0.006396791199222207\n",
      "  batch 70 loss: 0.007635696907527745\n",
      "  batch 80 loss: 0.0063589074648916725\n",
      "  batch 90 loss: 0.009006814262829722\n",
      "{'lr': 0.0003486784401, 'betas': (0.9, 0.999), 'eps': 1e-08, 'weight_decay': 0, 'amsgrad': False, 'maximize': False, 'foreach': None, 'capturable': False, 'differentiable': False, 'fused': None, 'initial_lr': 0.001, 'params': [0]}\n",
      "range(0, 94)\n",
      "  batch 10 loss: 0.008180748671293259\n",
      "  batch 20 loss: 0.00792313232086599\n",
      "  batch 30 loss: 0.0056390190497040745\n",
      "  batch 40 loss: 0.005481427907943726\n",
      "  batch 50 loss: 0.007424210570752621\n",
      "  batch 60 loss: 0.007051179651170969\n",
      "  batch 70 loss: 0.008993104519322514\n",
      "  batch 80 loss: 0.008430995093658567\n",
      "  batch 90 loss: 0.012452550837770105\n",
      "{'lr': 0.00031381059609000004, 'betas': (0.9, 0.999), 'eps': 1e-08, 'weight_decay': 0, 'amsgrad': False, 'maximize': False, 'foreach': None, 'capturable': False, 'differentiable': False, 'fused': None, 'initial_lr': 0.001, 'params': [0]}\n",
      "range(0, 94)\n",
      "  batch 10 loss: 0.010596009530127048\n",
      "  batch 20 loss: 0.00857702032662928\n",
      "  batch 30 loss: 0.005961886770091951\n",
      "  batch 40 loss: 0.0054366679163649675\n",
      "  batch 50 loss: 0.006308557977899909\n",
      "  batch 60 loss: 0.0053319818107411265\n",
      "  batch 70 loss: 0.006819033715873957\n",
      "  batch 80 loss: 0.005112708103843034\n",
      "  batch 90 loss: 0.006446364079602062\n",
      "{'lr': 0.00028242953648100003, 'betas': (0.9, 0.999), 'eps': 1e-08, 'weight_decay': 0, 'amsgrad': False, 'maximize': False, 'foreach': None, 'capturable': False, 'differentiable': False, 'fused': None, 'initial_lr': 0.001, 'params': [0]}\n",
      "range(0, 94)\n",
      "  batch 10 loss: 0.006264455290511251\n",
      "  batch 20 loss: 0.006289112893864512\n",
      "  batch 30 loss: 0.004246260202489793\n",
      "  batch 40 loss: 0.004373437142930925\n",
      "  batch 50 loss: 0.005362475360743702\n",
      "  batch 60 loss: 0.004603576567023993\n",
      "  batch 70 loss: 0.006216180347837508\n",
      "  batch 80 loss: 0.004835513792932034\n",
      "  batch 90 loss: 0.006057468452490866\n",
      "{'lr': 0.00025418658283290005, 'betas': (0.9, 0.999), 'eps': 1e-08, 'weight_decay': 0, 'amsgrad': False, 'maximize': False, 'foreach': None, 'capturable': False, 'differentiable': False, 'fused': None, 'initial_lr': 0.001, 'params': [0]}\n",
      "range(0, 94)\n",
      "  batch 10 loss: 0.005822720960713923\n",
      "  batch 20 loss: 0.005644592014141381\n",
      "  batch 30 loss: 0.0037647380027920007\n",
      "  batch 40 loss: 0.004029172216542065\n",
      "  batch 50 loss: 0.005106848920695484\n",
      "  batch 60 loss: 0.004353350074961781\n",
      "  batch 70 loss: 0.005727175273932517\n",
      "  batch 80 loss: 0.0046608299016952515\n",
      "  batch 90 loss: 0.0059493490727618335\n",
      "{'lr': 0.00022876792454961005, 'betas': (0.9, 0.999), 'eps': 1e-08, 'weight_decay': 0, 'amsgrad': False, 'maximize': False, 'foreach': None, 'capturable': False, 'differentiable': False, 'fused': None, 'initial_lr': 0.001, 'params': [0]}\n",
      "range(0, 94)\n",
      "  batch 10 loss: 0.005546029470860958\n",
      "  batch 20 loss: 0.005461775441654026\n",
      "  batch 30 loss: 0.00370052435901016\n",
      "  batch 40 loss: 0.004101294395513833\n",
      "  batch 50 loss: 0.005490344320423901\n",
      "  batch 60 loss: 0.004514456586912274\n",
      "  batch 70 loss: 0.005721367360092699\n",
      "  batch 80 loss: 0.004732006508857012\n",
      "  batch 90 loss: 0.005976478941738606\n",
      "{'lr': 0.00020589113209464906, 'betas': (0.9, 0.999), 'eps': 1e-08, 'weight_decay': 0, 'amsgrad': False, 'maximize': False, 'foreach': None, 'capturable': False, 'differentiable': False, 'fused': None, 'initial_lr': 0.001, 'params': [0]}\n",
      "range(0, 94)\n",
      "  batch 10 loss: 0.005545048834756016\n",
      "  batch 20 loss: 0.005460476875305176\n",
      "  batch 30 loss: 0.0036426865495741366\n",
      "  batch 40 loss: 0.004013860505074263\n",
      "  batch 50 loss: 0.005317452759481966\n",
      "  batch 60 loss: 0.0048388945637270805\n",
      "  batch 70 loss: 0.006584817077964544\n",
      "  batch 80 loss: 0.005852902214974165\n",
      "  batch 90 loss: 0.008881823113188147\n",
      "{'lr': 0.00018530201888518417, 'betas': (0.9, 0.999), 'eps': 1e-08, 'weight_decay': 0, 'amsgrad': False, 'maximize': False, 'foreach': None, 'capturable': False, 'differentiable': False, 'fused': None, 'initial_lr': 0.001, 'params': [0]}\n",
      "range(0, 94)\n",
      "  batch 10 loss: 0.008921039896085859\n",
      "  batch 20 loss: 0.008230153424665331\n",
      "  batch 30 loss: 0.006295038131065666\n",
      "  batch 40 loss: 0.0052906114142388105\n",
      "  batch 50 loss: 0.006643509585410356\n",
      "  batch 60 loss: 0.006214537099003792\n",
      "  batch 70 loss: 0.006882058270275593\n",
      "  batch 80 loss: 0.005296030268073082\n",
      "  batch 90 loss: 0.005688745249062777\n",
      "{'lr': 0.00016677181699666576, 'betas': (0.9, 0.999), 'eps': 1e-08, 'weight_decay': 0, 'amsgrad': False, 'maximize': False, 'foreach': None, 'capturable': False, 'differentiable': False, 'fused': None, 'initial_lr': 0.001, 'params': [0]}\n",
      "range(0, 94)\n",
      "  batch 10 loss: 0.00593585439492017\n",
      "  batch 20 loss: 0.005944887967780232\n",
      "  batch 30 loss: 0.004097597510553897\n",
      "  batch 40 loss: 0.003953401069156826\n",
      "  batch 50 loss: 0.004997720546089113\n",
      "  batch 60 loss: 0.003914179722778499\n",
      "  batch 70 loss: 0.005151887703686952\n",
      "  batch 80 loss: 0.0045642673270776864\n",
      "  batch 90 loss: 0.006159429065883159\n",
      "{'lr': 0.0001500946352969992, 'betas': (0.9, 0.999), 'eps': 1e-08, 'weight_decay': 0, 'amsgrad': False, 'maximize': False, 'foreach': None, 'capturable': False, 'differentiable': False, 'fused': None, 'initial_lr': 0.001, 'params': [0]}\n",
      "range(0, 94)\n",
      "  batch 10 loss: 0.005944619933143258\n",
      "  batch 20 loss: 0.005642566503956914\n",
      "  batch 30 loss: 0.003992548305541277\n",
      "  batch 40 loss: 0.003702418156899512\n",
      "  batch 50 loss: 0.004657378327101469\n",
      "  batch 60 loss: 0.0038799479836598037\n",
      "  batch 70 loss: 0.004973050625994802\n",
      "  batch 80 loss: 0.003944330592639744\n",
      "  batch 90 loss: 0.005144059960730374\n",
      "{'lr': 0.0001350851717672993, 'betas': (0.9, 0.999), 'eps': 1e-08, 'weight_decay': 0, 'amsgrad': False, 'maximize': False, 'foreach': None, 'capturable': False, 'differentiable': False, 'fused': None, 'initial_lr': 0.001, 'params': [0]}\n",
      "range(0, 94)\n",
      "  batch 10 loss: 0.005222658370621502\n",
      "  batch 20 loss: 0.005136461346410215\n",
      "  batch 30 loss: 0.0037803541868925094\n",
      "  batch 40 loss: 0.003526310552842915\n",
      "  batch 50 loss: 0.004488749150186777\n",
      "  batch 60 loss: 0.003627711767330766\n",
      "  batch 70 loss: 0.00457673913333565\n",
      "  batch 80 loss: 0.003529201331548393\n",
      "  batch 90 loss: 0.004538535559549928\n",
      "{'lr': 0.00012157665459056936, 'betas': (0.9, 0.999), 'eps': 1e-08, 'weight_decay': 0, 'amsgrad': False, 'maximize': False, 'foreach': None, 'capturable': False, 'differentiable': False, 'fused': None, 'initial_lr': 0.001, 'params': [0]}\n",
      "range(0, 94)\n",
      "  batch 10 loss: 0.004638592794071883\n",
      "  batch 20 loss: 0.004609474586322904\n",
      "  batch 30 loss: 0.003232287988066673\n",
      "  batch 40 loss: 0.0032114206231199207\n",
      "  batch 50 loss: 0.004129927419126034\n",
      "  batch 60 loss: 0.003297704621218145\n",
      "  batch 70 loss: 0.004308649408631027\n",
      "  batch 80 loss: 0.0034090767847374083\n",
      "  batch 90 loss: 0.0043784511974081395\n",
      "{'lr': 0.00010941898913151243, 'betas': (0.9, 0.999), 'eps': 1e-08, 'weight_decay': 0, 'amsgrad': False, 'maximize': False, 'foreach': None, 'capturable': False, 'differentiable': False, 'fused': None, 'initial_lr': 0.001, 'params': [0]}\n",
      "range(0, 94)\n",
      "  batch 10 loss: 0.004314093443099409\n",
      "  batch 20 loss: 0.004244957398623228\n",
      "  batch 30 loss: 0.0029036483028903604\n",
      "  batch 40 loss: 0.003007380710914731\n",
      "  batch 50 loss: 0.003931699367240071\n",
      "  batch 60 loss: 0.0031704363645985723\n",
      "  batch 70 loss: 0.0041761261643841864\n",
      "  batch 80 loss: 0.003336049965582788\n",
      "  batch 90 loss: 0.004299299069680273\n",
      "{'lr': 9.847709021836118e-05, 'betas': (0.9, 0.999), 'eps': 1e-08, 'weight_decay': 0, 'amsgrad': False, 'maximize': False, 'foreach': None, 'capturable': False, 'differentiable': False, 'fused': None, 'initial_lr': 0.001, 'params': [0]}\n",
      "range(0, 94)\n",
      "  batch 10 loss: 0.004185576399322599\n",
      "  batch 20 loss: 0.004095088900066912\n",
      "  batch 30 loss: 0.002776362013537437\n",
      "  batch 40 loss: 0.002890778542496264\n",
      "  batch 50 loss: 0.0038260370027273895\n",
      "  batch 60 loss: 0.0030798132764175536\n",
      "  batch 70 loss: 0.00406870887381956\n",
      "  batch 80 loss: 0.003237345046363771\n",
      "  batch 90 loss: 0.00417413174873218\n",
      "{'lr': 8.862938119652506e-05, 'betas': (0.9, 0.999), 'eps': 1e-08, 'weight_decay': 0, 'amsgrad': False, 'maximize': False, 'foreach': None, 'capturable': False, 'differentiable': False, 'fused': None, 'initial_lr': 0.001, 'params': [0]}\n",
      "range(0, 94)\n",
      "  batch 10 loss: 0.00407717841444537\n",
      "  batch 20 loss: 0.003978655231185258\n",
      "  batch 30 loss: 0.0026725111645646395\n",
      "  batch 40 loss: 0.002801772020757198\n",
      "  batch 50 loss: 0.0037576508009806277\n",
      "  batch 60 loss: 0.003003005695063621\n",
      "  batch 70 loss: 0.003982128319330513\n",
      "  batch 80 loss: 0.003157336264848709\n",
      "  batch 90 loss: 0.004032243485562503\n",
      "{'lr': 7.976644307687256e-05, 'betas': (0.9, 0.999), 'eps': 1e-08, 'weight_decay': 0, 'amsgrad': False, 'maximize': False, 'foreach': None, 'capturable': False, 'differentiable': False, 'fused': None, 'initial_lr': 0.001, 'params': [0]}\n",
      "range(0, 94)\n",
      "  batch 10 loss: 0.003964147425722331\n",
      "  batch 20 loss: 0.0038548083044588565\n",
      "  batch 30 loss: 0.0025475685484707355\n",
      "  batch 40 loss: 0.002733524306677282\n",
      "  batch 50 loss: 0.003688201028853655\n",
      "  batch 60 loss: 0.0029148958157747982\n",
      "  batch 70 loss: 0.003918427147436887\n",
      "  batch 80 loss: 0.003123958013020456\n",
      "  batch 90 loss: 0.003929367510136217\n",
      "{'lr': 7.17897987691853e-05, 'betas': (0.9, 0.999), 'eps': 1e-08, 'weight_decay': 0, 'amsgrad': False, 'maximize': False, 'foreach': None, 'capturable': False, 'differentiable': False, 'fused': None, 'initial_lr': 0.001, 'params': [0]}\n",
      "range(0, 94)\n",
      "  batch 10 loss: 0.0038536304142326116\n",
      "  batch 20 loss: 0.0037338841590099036\n",
      "  batch 30 loss: 0.0024257070152089\n",
      "  batch 40 loss: 0.0026379511575214563\n",
      "  batch 50 loss: 0.0035496850963681937\n",
      "  batch 60 loss: 0.0028264862135984003\n",
      "  batch 70 loss: 0.003829210891854018\n",
      "  batch 80 loss: 0.0030537572340108452\n",
      "  batch 90 loss: 0.0038489003316499295\n",
      "{'lr': 6.461081889226677e-05, 'betas': (0.9, 0.999), 'eps': 1e-08, 'weight_decay': 0, 'amsgrad': False, 'maximize': False, 'foreach': None, 'capturable': False, 'differentiable': False, 'fused': None, 'initial_lr': 0.001, 'params': [0]}\n",
      "range(0, 94)\n",
      "  batch 10 loss: 0.003741838305722922\n",
      "  batch 20 loss: 0.0036440555588342248\n",
      "  batch 30 loss: 0.0023424524464644493\n",
      "  batch 40 loss: 0.0025375657132826746\n",
      "  batch 50 loss: 0.003409714193549007\n",
      "  batch 60 loss: 0.0027452698908746243\n",
      "  batch 70 loss: 0.0036952394526451825\n",
      "  batch 80 loss: 0.0029347789706662296\n",
      "  batch 90 loss: 0.003754794003907591\n",
      "{'lr': 5.81497370030401e-05, 'betas': (0.9, 0.999), 'eps': 1e-08, 'weight_decay': 0, 'amsgrad': False, 'maximize': False, 'foreach': None, 'capturable': False, 'differentiable': False, 'fused': None, 'initial_lr': 0.001, 'params': [0]}\n",
      "range(0, 94)\n",
      "  batch 10 loss: 0.0036221704096533356\n",
      "  batch 20 loss: 0.0035564407706260683\n",
      "  batch 30 loss: 0.0022728415904566647\n",
      "  batch 40 loss: 0.002468650310765952\n",
      "  batch 50 loss: 0.0033239102689549328\n",
      "  batch 60 loss: 0.00266990257659927\n",
      "  batch 70 loss: 0.00358512660022825\n",
      "  batch 80 loss: 0.002861302357632667\n",
      "  batch 90 loss: 0.00368600282818079\n",
      "{'lr': 5.233476330273609e-05, 'betas': (0.9, 0.999), 'eps': 1e-08, 'weight_decay': 0, 'amsgrad': False, 'maximize': False, 'foreach': None, 'capturable': False, 'differentiable': False, 'fused': None, 'initial_lr': 0.001, 'params': [0]}\n",
      "range(0, 94)\n",
      "  batch 10 loss: 0.003534794016741216\n",
      "  batch 20 loss: 0.0034762838389724494\n",
      "  batch 30 loss: 0.0022155476035550237\n",
      "  batch 40 loss: 0.0024079701164737345\n",
      "  batch 50 loss: 0.003259604959748685\n",
      "  batch 60 loss: 0.002608448697719723\n",
      "  batch 70 loss: 0.00350669122999534\n",
      "  batch 80 loss: 0.002818804595153779\n",
      "  batch 90 loss: 0.003625546267721802\n",
      "{'lr': 4.7101286972462485e-05, 'betas': (0.9, 0.999), 'eps': 1e-08, 'weight_decay': 0, 'amsgrad': False, 'maximize': False, 'foreach': None, 'capturable': False, 'differentiable': False, 'fused': None, 'initial_lr': 0.001, 'params': [0]}\n",
      "range(0, 94)\n",
      "  batch 10 loss: 0.0034739467781037094\n",
      "  batch 20 loss: 0.003412959014531225\n",
      "  batch 30 loss: 0.0021685998304747044\n",
      "  batch 40 loss: 0.0023594356141984464\n",
      "  batch 50 loss: 0.0032066443585790695\n",
      "  batch 60 loss: 0.0025571667356416583\n",
      "  batch 70 loss: 0.0034416909446008505\n",
      "  batch 80 loss: 0.00278254741569981\n",
      "  batch 90 loss: 0.003566568612586707\n",
      "{'lr': 4.239115827521624e-05, 'betas': (0.9, 0.999), 'eps': 1e-08, 'weight_decay': 0, 'amsgrad': False, 'maximize': False, 'foreach': None, 'capturable': False, 'differentiable': False, 'fused': None, 'initial_lr': 0.001, 'params': [0]}\n",
      "range(0, 94)\n",
      "  batch 10 loss: 0.0034214728395454584\n",
      "  batch 20 loss: 0.003360434400383383\n",
      "  batch 30 loss: 0.002129126840736717\n",
      "  batch 40 loss: 0.0023201935342513024\n",
      "  batch 50 loss: 0.003162470040842891\n",
      "  batch 60 loss: 0.0025124275358393787\n",
      "  batch 70 loss: 0.003383130952715874\n",
      "  batch 80 loss: 0.0027486905455589294\n",
      "  batch 90 loss: 0.0035117162740789356\n",
      "{'lr': 3.8152042447694614e-05, 'betas': (0.9, 0.999), 'eps': 1e-08, 'weight_decay': 0, 'amsgrad': False, 'maximize': False, 'foreach': None, 'capturable': False, 'differentiable': False, 'fused': None, 'initial_lr': 0.001, 'params': [0]}\n",
      "range(0, 94)\n",
      "  batch 10 loss: 0.0033719925675541164\n",
      "  batch 20 loss: 0.003312499122694135\n",
      "  batch 30 loss: 0.002094690513331443\n",
      "  batch 40 loss: 0.0022860578494146465\n",
      "  batch 50 loss: 0.0031261659460142255\n",
      "  batch 60 loss: 0.0024723384180106223\n",
      "  batch 70 loss: 0.0033273801440373064\n",
      "  batch 80 loss: 0.0027154924813658\n",
      "  batch 90 loss: 0.003460326394997537\n",
      "{'lr': 3.433683820292515e-05, 'betas': (0.9, 0.999), 'eps': 1e-08, 'weight_decay': 0, 'amsgrad': False, 'maximize': False, 'foreach': None, 'capturable': False, 'differentiable': False, 'fused': None, 'initial_lr': 0.001, 'params': [0]}\n",
      "range(0, 94)\n",
      "  batch 10 loss: 0.0033251562854275107\n",
      "  batch 20 loss: 0.0032664356520399453\n",
      "  batch 30 loss: 0.002063320961315185\n",
      "  batch 40 loss: 0.002256189240142703\n",
      "  batch 50 loss: 0.0030949447886087\n",
      "  batch 60 loss: 0.002437710843514651\n",
      "  batch 70 loss: 0.003273622051347047\n",
      "  batch 80 loss: 0.0026811791001819076\n",
      "  batch 90 loss: 0.003413498983718455\n",
      "{'lr': 3.090315438263264e-05, 'betas': (0.9, 0.999), 'eps': 1e-08, 'weight_decay': 0, 'amsgrad': False, 'maximize': False, 'foreach': None, 'capturable': False, 'differentiable': False, 'fused': None, 'initial_lr': 0.001, 'params': [0]}\n",
      "range(0, 94)\n",
      "  batch 10 loss: 0.003280448995064944\n",
      "  batch 20 loss: 0.00322138536721468\n",
      "  batch 30 loss: 0.0020323268952779474\n",
      "  batch 40 loss: 0.0022292637382633983\n",
      "  batch 50 loss: 0.0030649224179796876\n",
      "  batch 60 loss: 0.0024075533263385298\n",
      "  batch 70 loss: 0.003225885273423046\n",
      "  batch 80 loss: 0.0026487189577892424\n",
      "  batch 90 loss: 0.00337375063681975\n",
      "{'lr': 2.7812838944369376e-05, 'betas': (0.9, 0.999), 'eps': 1e-08, 'weight_decay': 0, 'amsgrad': False, 'maximize': False, 'foreach': None, 'capturable': False, 'differentiable': False, 'fused': None, 'initial_lr': 0.001, 'params': [0]}\n",
      "range(0, 94)\n",
      "  batch 10 loss: 0.0032372980494983494\n",
      "  batch 20 loss: 0.0031774936825968323\n",
      "  batch 30 loss: 0.0020004772930406036\n",
      "  batch 40 loss: 0.0022019566036760806\n",
      "  batch 50 loss: 0.0030341958743520083\n",
      "  batch 60 loss: 0.0023775942740030588\n",
      "  batch 70 loss: 0.0031862222589552403\n",
      "  batch 80 loss: 0.0026198497507721186\n",
      "  batch 90 loss: 0.0033386012190021576\n",
      "{'lr': 2.503155504993244e-05, 'betas': (0.9, 0.999), 'eps': 1e-08, 'weight_decay': 0, 'amsgrad': False, 'maximize': False, 'foreach': None, 'capturable': False, 'differentiable': False, 'fused': None, 'initial_lr': 0.001, 'params': [0]}\n",
      "range(0, 94)\n",
      "  batch 10 loss: 0.00319630226586014\n",
      "  batch 20 loss: 0.0031365560833364727\n",
      "  batch 30 loss: 0.0019703534548170865\n",
      "  batch 40 loss: 0.0021748135681264103\n",
      "  batch 50 loss: 0.003004615439567715\n",
      "  batch 60 loss: 0.002346859686076641\n",
      "  batch 70 loss: 0.003151929553132504\n",
      "  batch 80 loss: 0.0025929259601980446\n",
      "  batch 90 loss: 0.0033034726278856398\n",
      "{'lr': 2.2528399544939195e-05, 'betas': (0.9, 0.999), 'eps': 1e-08, 'weight_decay': 0, 'amsgrad': False, 'maximize': False, 'foreach': None, 'capturable': False, 'differentiable': False, 'fused': None, 'initial_lr': 0.001, 'params': [0]}\n",
      "range(0, 94)\n",
      "  batch 10 loss: 0.0031596173183061184\n",
      "  batch 20 loss: 0.0031006575911305843\n",
      "  batch 30 loss: 0.0019439909840002656\n",
      "  batch 40 loss: 0.0021512472885660827\n",
      "  batch 50 loss: 0.002977837051730603\n",
      "  batch 60 loss: 0.0023171656648628414\n",
      "  batch 70 loss: 0.003120532480534166\n",
      "  batch 80 loss: 0.00256760532502085\n",
      "  batch 90 loss: 0.0032682946417480706\n",
      "{'lr': 2.0275559590445276e-05, 'betas': (0.9, 0.999), 'eps': 1e-08, 'weight_decay': 0, 'amsgrad': False, 'maximize': False, 'foreach': None, 'capturable': False, 'differentiable': False, 'fused': None, 'initial_lr': 0.001, 'params': [0]}\n",
      "range(0, 94)\n",
      "  batch 10 loss: 0.003127903875429183\n",
      "  batch 20 loss: 0.0030688300263136624\n",
      "  batch 30 loss: 0.0019201598712243139\n",
      "  batch 40 loss: 0.002131321164779365\n",
      "  batch 50 loss: 0.0029530882253311574\n",
      "  batch 60 loss: 0.00228898060740903\n",
      "  batch 70 loss: 0.0030905284336768092\n",
      "  batch 80 loss: 0.002543730731122196\n",
      "  batch 90 loss: 0.0032346159452572463\n",
      "{'lr': 1.8248003631400748e-05, 'betas': (0.9, 0.999), 'eps': 1e-08, 'weight_decay': 0, 'amsgrad': False, 'maximize': False, 'foreach': None, 'capturable': False, 'differentiable': False, 'fused': None, 'initial_lr': 0.001, 'params': [0]}\n",
      "range(0, 94)\n",
      "  batch 10 loss: 0.0030994713539257645\n",
      "  batch 20 loss: 0.003038887830916792\n",
      "  batch 30 loss: 0.001896521227899939\n",
      "  batch 40 loss: 0.0021117804339155556\n",
      "  batch 50 loss: 0.002928856445942074\n",
      "  batch 60 loss: 0.002262688509654254\n",
      "  batch 70 loss: 0.0030612648464739324\n",
      "  batch 80 loss: 0.002521260525099933\n",
      "  batch 90 loss: 0.0032045458909124138\n",
      "{'lr': 1.6423203268260675e-05, 'betas': (0.9, 0.999), 'eps': 1e-08, 'weight_decay': 0, 'amsgrad': False, 'maximize': False, 'foreach': None, 'capturable': False, 'differentiable': False, 'fused': None, 'initial_lr': 0.001, 'params': [0]}\n",
      "range(0, 94)\n",
      "  batch 10 loss: 0.0030728493351489306\n",
      "  batch 20 loss: 0.003010301385074854\n",
      "  batch 30 loss: 0.001872616750188172\n",
      "  batch 40 loss: 0.002090257406234741\n",
      "  batch 50 loss: 0.0029049811535514893\n",
      "  batch 60 loss: 0.00223917932016775\n",
      "  batch 70 loss: 0.003034226153977215\n",
      "  batch 80 loss: 0.0025005963863804935\n",
      "  batch 90 loss: 0.003179080761037767\n",
      "{'lr': 1.4780882941434607e-05, 'betas': (0.9, 0.999), 'eps': 1e-08, 'weight_decay': 0, 'amsgrad': False, 'maximize': False, 'foreach': None, 'capturable': False, 'differentiable': False, 'fused': None, 'initial_lr': 0.001, 'params': [0]}\n",
      "range(0, 94)\n",
      "  batch 10 loss: 0.0030482919595669956\n",
      "  batch 20 loss: 0.002984026132617146\n",
      "  batch 30 loss: 0.0018504002597182988\n",
      "  batch 40 loss: 0.0020684426184743644\n",
      "  batch 50 loss: 0.0028827950241975485\n",
      "  batch 60 loss: 0.0022184669855050743\n",
      "  batch 70 loss: 0.003010395506862551\n",
      "  batch 80 loss: 0.002481603727210313\n",
      "  batch 90 loss: 0.0031571053550578654\n",
      "{'lr': 1.3302794647291146e-05, 'betas': (0.9, 0.999), 'eps': 1e-08, 'weight_decay': 0, 'amsgrad': False, 'maximize': False, 'foreach': None, 'capturable': False, 'differentiable': False, 'fused': None, 'initial_lr': 0.001, 'params': [0]}\n",
      "range(0, 94)\n",
      "  batch 10 loss: 0.003026405506534502\n",
      "  batch 20 loss: 0.002960521006025374\n",
      "  batch 30 loss: 0.0018311612773686647\n",
      "  batch 40 loss: 0.0020489438204094766\n",
      "  batch 50 loss: 0.002863068296574056\n",
      "  batch 60 loss: 0.002200086775701493\n",
      "  batch 70 loss: 0.0029890131554566324\n",
      "  batch 80 loss: 0.00246423581847921\n",
      "  batch 90 loss: 0.003137594787403941\n",
      "{'lr': 1.1972515182562031e-05, 'betas': (0.9, 0.999), 'eps': 1e-08, 'weight_decay': 0, 'amsgrad': False, 'maximize': False, 'foreach': None, 'capturable': False, 'differentiable': False, 'fused': None, 'initial_lr': 0.001, 'params': [0]}\n",
      "range(0, 94)\n",
      "  batch 10 loss: 0.0030069900269154458\n",
      "  batch 20 loss: 0.00293936412781477\n",
      "  batch 30 loss: 0.001814465329516679\n",
      "  batch 40 loss: 0.0020320205483585598\n",
      "  batch 50 loss: 0.0028454870218411086\n",
      "  batch 60 loss: 0.002183789084665477\n",
      "  batch 70 loss: 0.0029694869881495833\n",
      "  batch 80 loss: 0.002448580029886216\n",
      "  batch 90 loss: 0.0031199228833429515\n",
      "{'lr': 1.0775263664305828e-05, 'betas': (0.9, 0.999), 'eps': 1e-08, 'weight_decay': 0, 'amsgrad': False, 'maximize': False, 'foreach': None, 'capturable': False, 'differentiable': False, 'fused': None, 'initial_lr': 0.001, 'params': [0]}\n",
      "range(0, 94)\n",
      "  batch 10 loss: 0.002989554818486795\n",
      "  batch 20 loss: 0.002920012827962637\n",
      "  batch 30 loss: 0.0017995690112002193\n",
      "  batch 40 loss: 0.002016881469171494\n",
      "  batch 50 loss: 0.0028297122218646107\n",
      "  batch 60 loss: 0.002169363875873387\n",
      "  batch 70 loss: 0.0029516820213757455\n",
      "  batch 80 loss: 0.0024346058839000762\n",
      "  batch 90 loss: 0.003103633597493172\n",
      "{'lr': 9.697737297875246e-06, 'betas': (0.9, 0.999), 'eps': 1e-08, 'weight_decay': 0, 'amsgrad': False, 'maximize': False, 'foreach': None, 'capturable': False, 'differentiable': False, 'fused': None, 'initial_lr': 0.001, 'params': [0]}\n",
      "range(0, 94)\n",
      "  batch 10 loss: 0.002973636070964858\n",
      "  batch 20 loss: 0.0029021496535278856\n",
      "  batch 30 loss: 0.001786067383363843\n",
      "  batch 40 loss: 0.0020030550775118174\n",
      "  batch 50 loss: 0.0028155694250017404\n",
      "  batch 60 loss: 0.002156529203057289\n",
      "  batch 70 loss: 0.002935546834487468\n",
      "  batch 80 loss: 0.002422174089588225\n",
      "  batch 90 loss: 0.0030885130283422766\n",
      "{'lr': 8.727963568087722e-06, 'betas': (0.9, 0.999), 'eps': 1e-08, 'weight_decay': 0, 'amsgrad': False, 'maximize': False, 'foreach': None, 'capturable': False, 'differentiable': False, 'fused': None, 'initial_lr': 0.001, 'params': [0]}\n",
      "range(0, 94)\n",
      "  batch 10 loss: 0.0029588144214358182\n",
      "  batch 20 loss: 0.002885603939648718\n",
      "  batch 30 loss: 0.0017737549263983966\n",
      "  batch 40 loss: 0.0019904171116650105\n",
      "  batch 50 loss: 0.0028028232976794244\n",
      "  batch 60 loss: 0.002144956239499152\n",
      "  batch 70 loss: 0.002920910937245935\n",
      "  batch 80 loss: 0.002410961373243481\n",
      "  batch 90 loss: 0.003074572316836566\n",
      "{'lr': 7.85516721127895e-06, 'betas': (0.9, 0.999), 'eps': 1e-08, 'weight_decay': 0, 'amsgrad': False, 'maximize': False, 'foreach': None, 'capturable': False, 'differentiable': False, 'fused': None, 'initial_lr': 0.001, 'params': [0]}\n",
      "range(0, 94)\n",
      "  batch 10 loss: 0.0029448690416757017\n",
      "  batch 20 loss: 0.0028703111223876477\n",
      "  batch 30 loss: 0.0017625035485252737\n",
      "  batch 40 loss: 0.0019789742305874824\n",
      "  batch 50 loss: 0.002791187597904354\n",
      "  batch 60 loss: 0.0021343198837712406\n",
      "  batch 70 loss: 0.0029074104619212448\n",
      "  batch 80 loss: 0.0024005968822166323\n",
      "  batch 90 loss: 0.0030619216966442766\n",
      "{'lr': 7.069650490151056e-06, 'betas': (0.9, 0.999), 'eps': 1e-08, 'weight_decay': 0, 'amsgrad': False, 'maximize': False, 'foreach': None, 'capturable': False, 'differentiable': False, 'fused': None, 'initial_lr': 0.001, 'params': [0]}\n",
      "range(0, 94)\n",
      "  batch 10 loss: 0.002931905025616288\n",
      "  batch 20 loss: 0.002856304426677525\n",
      "  batch 30 loss: 0.0017521989066153765\n",
      "  batch 40 loss: 0.001968680915888399\n",
      "  batch 50 loss: 0.0027804449549876154\n",
      "  batch 60 loss: 0.002124362485483289\n",
      "  batch 70 loss: 0.002894709387328476\n",
      "  batch 80 loss: 0.0023908999050036074\n",
      "  batch 90 loss: 0.0030505627510137856\n",
      "{'lr': 6.362685441135951e-06, 'betas': (0.9, 0.999), 'eps': 1e-08, 'weight_decay': 0, 'amsgrad': False, 'maximize': False, 'foreach': None, 'capturable': False, 'differentiable': False, 'fused': None, 'initial_lr': 0.001, 'params': [0]}\n",
      "range(0, 94)\n",
      "  batch 10 loss: 0.002920126635581255\n",
      "  batch 20 loss: 0.0028435950516723096\n",
      "  batch 30 loss: 0.0017427019425667821\n",
      "  batch 40 loss: 0.001959386025555432\n",
      "  batch 50 loss: 0.002770483819767833\n",
      "  batch 60 loss: 0.0021149319130927325\n",
      "  batch 70 loss: 0.002882720378693193\n",
      "  batch 80 loss: 0.0023818714311346413\n",
      "  batch 90 loss: 0.0030403530690819025\n",
      "{'lr': 5.7264168970223554e-06, 'betas': (0.9, 0.999), 'eps': 1e-08, 'weight_decay': 0, 'amsgrad': False, 'maximize': False, 'foreach': None, 'capturable': False, 'differentiable': False, 'fused': None, 'initial_lr': 0.001, 'params': [0]}\n"
     ]
    }
   ],
   "source": [
    "# context_modes = [\n",
    "#     \"no_context\",\n",
    "#     \"full_context\",\n",
    "#     \"last_context\",\n",
    "# ]\n",
    "# models = {}\n",
    "# train_losses = {}\n",
    "# for cm in context_modes:\n",
    "#     m, tl = train_KKSeq2Seq(flag_params[\"num_epochs\"], cm)\n",
    "#     models[cm] = m\n",
    "#     train_losses[cm] = tl\n",
    "\n",
    "\n",
    "rbf = RBFKernel(length_scale=1E-1)\n",
    "\n",
    "context_mode = \"last_context\"\n",
    "# context_mode = \"full_context\"\n",
    "# context_mode = \"no_context\"\n",
    "\n",
    "koopkernelmodel = NystroemKoopKernelSequencer(\n",
    "    kernel=rbf,\n",
    "    input_dim = num_feats,\n",
    "    input_length = flag_params[\"input_length\"],\n",
    "    output_length = flag_params[\"train_output_length\"],\n",
    "    output_dim = 1,\n",
    "    num_steps = 1,\n",
    "    num_nys_centers = flag_params[\"koopman_kernel_num_centers\"],\n",
    "    rng_seed = 42,\n",
    "    context_mode=context_mode,\n",
    ")\n",
    "koopkernelmodel._initialize_nystrom_data(tensor_context_train_standardized)\n",
    "\n",
    "\n",
    "model, train_loss = train_KKSeq2Seq(\n",
    "    model=koopkernelmodel,\n",
    "    eval_metric=eval_metric,\n",
    "    tc_tracks=tc_tracks,\n",
    "    num_epochs=flag_params[\"num_epochs\"],\n",
    "    batch_size=flag_params[\"batch_size\"],\n",
    "    feature_list=feature_list,\n",
    "    scaler=scaler,\n",
    "    basin=basin,\n",
    "    log_file_handler=fileHandler,\n",
    "    results_dir=results_dir,\n",
    "    model_name=model_name,\n",
    "    flag_params=flag_params,\n",
    "    results_file_name=results_file_name,\n",
    "    split_valid_set = False,\n",
    ")"
   ]
  },
  {
   "cell_type": "code",
   "execution_count": 87,
   "metadata": {},
   "outputs": [
    {
     "data": {
      "text/plain": [
       "[0.03742564171552658,\n",
       " 0.028894935548305512,\n",
       " 0.026346487738192082,\n",
       " 0.02542712166905403,\n",
       " 0.024877582490444184,\n",
       " 0.0182928285561502,\n",
       " 0.012673718249425292,\n",
       " 0.010342279309406876,\n",
       " 0.008692035917192698,\n",
       " 0.008351310202851892,\n",
       " 0.009006814262829722,\n",
       " 0.012452550837770105,\n",
       " 0.006446364079602062,\n",
       " 0.006057468452490866,\n",
       " 0.0059493490727618335,\n",
       " 0.005976478941738606,\n",
       " 0.008881823113188147,\n",
       " 0.005688745249062777,\n",
       " 0.006159429065883159,\n",
       " 0.005144059960730374,\n",
       " 0.004538535559549928,\n",
       " 0.0043784511974081395,\n",
       " 0.004299299069680273,\n",
       " 0.00417413174873218,\n",
       " 0.004032243485562503,\n",
       " 0.003929367510136217,\n",
       " 0.0038489003316499295,\n",
       " 0.003754794003907591,\n",
       " 0.00368600282818079,\n",
       " 0.003625546267721802,\n",
       " 0.003566568612586707,\n",
       " 0.0035117162740789356,\n",
       " 0.003460326394997537,\n",
       " 0.003413498983718455,\n",
       " 0.00337375063681975,\n",
       " 0.0033386012190021576,\n",
       " 0.0033034726278856398,\n",
       " 0.0032682946417480706,\n",
       " 0.0032346159452572463,\n",
       " 0.0032045458909124138,\n",
       " 0.003179080761037767,\n",
       " 0.0031571053550578654,\n",
       " 0.003137594787403941,\n",
       " 0.0031199228833429515,\n",
       " 0.003103633597493172,\n",
       " 0.0030885130283422766,\n",
       " 0.003074572316836566,\n",
       " 0.0030619216966442766,\n",
       " 0.0030505627510137856,\n",
       " 0.0030403530690819025]"
      ]
     },
     "execution_count": 87,
     "metadata": {},
     "output_type": "execute_result"
    }
   ],
   "source": [
    "train_loss"
   ]
  },
  {
   "cell_type": "code",
   "execution_count": 88,
   "metadata": {},
   "outputs": [
    {
     "data": {
      "image/png": "[encoded data removed]",
      "text/plain": [
       "<Figure size 640x480 with 1 Axes>"
      ]
     },
     "metadata": {},
     "output_type": "display_data"
    }
   ],
   "source": [
    "fig, ax = plt.subplots()\n",
    "\n",
    "ax.plot(range(flag_params[\"num_epochs\"]), train_loss, color = f\"C{0}\", label = \"full_context\")\n",
    "# ax.set_yscale(\"log\")\n",
    "ax.set_xlabel(\"Number of epochs\")\n",
    "ax.set_ylabel(\"Loss (MSE)\")\n",
    "ax.legend()\n",
    "ax.grid()\n",
    "\n",
    "# save_path = os.path.join(\n",
    "#     \"../plots/\", \"koopman_seq2seq/\"\n",
    "# )\n",
    "# os.makedirs(save_path, exist_ok=True)\n",
    "# fig.savefig(os.path.join(save_path, \"context_mode_comparison.png\"), bbox_inches='tight')"
   ]
  },
  {
   "cell_type": "code",
   "execution_count": null,
   "metadata": {},
   "outputs": [],
   "source": []
  },
  {
   "cell_type": "markdown",
   "metadata": {},
   "source": [
    "#### Plot predictions"
   ]
  },
  {
   "cell_type": "code",
   "execution_count": 71,
   "metadata": {},
   "outputs": [
    {
     "data": {
      "image/png": "[encoded data removed]",
      "text/plain": [
       "<Figure size 640x480 with 1 Axes>"
      ]
     },
     "metadata": {},
     "output_type": "display_data"
    }
   ],
   "source": [
    "fig, ax = plt.subplots()\n",
    "for i, idx in enumerate(np.random.randint(0, len(train_set), 7)):\n",
    "    plot_TCTrackDataset_item_2D(train_set, idx, ax, color=f\"C{i}\")"
   ]
  },
  {
   "cell_type": "code",
   "execution_count": 78,
   "metadata": {},
   "outputs": [
    {
     "name": "stdout",
     "output_type": "stream",
     "text": [
      "torch.Size([1, 13, 5])\n",
      "torch.Size([1, 13, 5])\n",
      "torch.Size([1, 13, 5])\n",
      "torch.Size([10, 5])\n",
      "torch.Size([1, 13, 5])\n",
      "torch.Size([1, 13, 5])\n",
      "torch.Size([1, 13, 5])\n",
      "torch.Size([10, 5])\n",
      "torch.Size([1, 13, 5])\n",
      "torch.Size([1, 13, 5])\n",
      "torch.Size([1, 13, 5])\n",
      "torch.Size([10, 5])\n",
      "torch.Size([1, 13, 5])\n",
      "torch.Size([1, 13, 5])\n",
      "torch.Size([1, 13, 5])\n",
      "torch.Size([10, 5])\n",
      "torch.Size([1, 13, 5])\n",
      "torch.Size([1, 13, 5])\n",
      "torch.Size([1, 13, 5])\n",
      "torch.Size([10, 5])\n"
     ]
    },
    {
     "data": {
      "image/png": "[encoded data removed]",
      "text/plain": [
       "<Figure size 640x480 with 1 Axes>"
      ]
     },
     "metadata": {},
     "output_type": "display_data"
    }
   ],
   "source": [
    "prediction_steps = 10\n",
    "\n",
    "fig, ax = plt.subplots()\n",
    "for i, idx in enumerate(np.random.randint(0, len(train_set), 5)):\n",
    "\n",
    "    plot_TCTrackDataset_item_2D_with_prediction_koopman_seq2seq(\n",
    "        train_set,\n",
    "        idx,\n",
    "        prediction_steps=prediction_steps,\n",
    "        model=model,\n",
    "        ax=ax,\n",
    "        color=f\"C{i}\"\n",
    "    )\n",
    "\n",
    "# ax.set_xlim(-1, 1)\n",
    "# ax.set_ylim(-1, 1)\n",
    "# ax.set_xlim(-6,-5)\n",
    "# ax.set_ylim(-9.25,-9)"
   ]
  },
  {
   "cell_type": "code",
   "execution_count": null,
   "metadata": {},
   "outputs": [],
   "source": []
  },
  {
   "cell_type": "code",
   "execution_count": null,
   "metadata": {},
   "outputs": [],
   "source": []
  },
  {
   "cell_type": "code",
   "execution_count": null,
   "metadata": {},
   "outputs": [],
   "source": []
  },
  {
   "cell_type": "code",
   "execution_count": null,
   "metadata": {},
   "outputs": [],
   "source": []
  }
 ],
 "metadata": {
  "kernelspec": {
   "display_name": ".venv",
   "language": "python",
   "name": "python3"
  },
  "language_info": {
   "codemirror_mode": {
    "name": "ipython",
    "version": 3
   },
   "file_extension": ".py",
   "mimetype": "text/x-python",
   "name": "python",
   "nbconvert_exporter": "python",
   "pygments_lexer": "ipython3",
   "version": "3.11.9"
  }
 },
 "nbformat": 4,
 "nbformat_minor": 2
}
